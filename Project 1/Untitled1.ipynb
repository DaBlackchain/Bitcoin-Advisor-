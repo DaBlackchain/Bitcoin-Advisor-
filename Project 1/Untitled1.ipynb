{
 "cells": [
  {
   "cell_type": "code",
   "execution_count": 35,
   "id": "69444e94-5f91-43db-aaed-118daed51f74",
   "metadata": {},
   "outputs": [],
   "source": [
    "import yfinance as yf\n",
    "import pandas as pd\n",
    "\n"
   ]
  },
  {
   "cell_type": "code",
   "execution_count": 36,
   "id": "0ca5ad71-db2a-448b-9585-247b6476f8cc",
   "metadata": {},
   "outputs": [],
   "source": [
    "btc = yf.Ticker(\"BTC-USD\")"
   ]
  },
  {
   "cell_type": "code",
   "execution_count": 37,
   "id": "c0bdad90-a973-4088-a87f-70dd99d08738",
   "metadata": {},
   "outputs": [],
   "source": [
    "btc_price = btc.history(period=\"2y\")"
   ]
  },
  {
   "cell_type": "code",
   "execution_count": 38,
   "id": "49acc52e-9e12-459b-9d8b-51f361b6d849",
   "metadata": {
    "tags": []
   },
   "outputs": [
    {
     "name": "stdout",
     "output_type": "stream",
     "text": [
      "                    Open          High           Low         Close  \\\n",
      "Date                                                                 \n",
      "2020-08-23  11679.696289  11713.429688  11559.920898  11664.847656   \n",
      "2020-08-24  11663.689453  11807.631836  11623.250000  11774.595703   \n",
      "2020-08-25  11773.588867  11778.299805  11189.850586  11366.134766   \n",
      "2020-08-26  11366.894531  11530.052734  11296.993164  11488.363281   \n",
      "2020-08-27  11485.608398  11570.786133  11185.941406  11323.397461   \n",
      "...                  ...           ...           ...           ...   \n",
      "2022-08-18  23341.039062  23563.832031  23177.601562  23212.738281   \n",
      "2022-08-19  23213.312500  23213.312500  20868.847656  20877.552734   \n",
      "2022-08-20  20872.841797  21350.806641  20856.730469  21166.060547   \n",
      "2022-08-21  21160.392578  21668.845703  21103.197266  21534.121094   \n",
      "2022-08-23  21398.632812  21435.501953  21371.048828  21371.048828   \n",
      "\n",
      "                 Volume  Dividends  Stock Splits  \n",
      "Date                                              \n",
      "2020-08-23  18482062658          0             0  \n",
      "2020-08-24  20681511755          0             0  \n",
      "2020-08-25  26301509932          0             0  \n",
      "2020-08-26  22466660958          0             0  \n",
      "2020-08-27  23240415076          0             0  \n",
      "...                 ...        ...           ...  \n",
      "2022-08-18  23747613147          0             0  \n",
      "2022-08-19  40509610260          0             0  \n",
      "2022-08-20  27595671000          0             0  \n",
      "2022-08-21  23102307723          0             0  \n",
      "2022-08-23  31911243776          0             0  \n",
      "\n",
      "[730 rows x 7 columns]\n"
     ]
    }
   ],
   "source": [
    "print(btc_price)"
   ]
  },
  {
   "cell_type": "code",
   "execution_count": 39,
   "id": "eefae18c-84e5-4a8b-940e-b4dd825ce239",
   "metadata": {},
   "outputs": [
    {
     "name": "stdout",
     "output_type": "stream",
     "text": [
      "Date\n",
      "2020-08-23    11664.847656\n",
      "2020-08-24    11774.595703\n",
      "2020-08-25    11366.134766\n",
      "2020-08-26    11488.363281\n",
      "2020-08-27    11323.397461\n",
      "                  ...     \n",
      "2022-08-18    23212.738281\n",
      "2022-08-19    20877.552734\n",
      "2022-08-20    21166.060547\n",
      "2022-08-21    21534.121094\n",
      "2022-08-23    21371.048828\n",
      "Name: Close, Length: 730, dtype: float64\n"
     ]
    }
   ],
   "source": [
    "btc_price_df =(btc_price[\"Close\"])\n",
    "print(btc_price_df)"
   ]
  },
  {
   "cell_type": "code",
   "execution_count": 40,
   "id": "4d81f72b-afe1-43ba-a9db-3b9b46d935ab",
   "metadata": {},
   "outputs": [
    {
     "name": "stdout",
     "output_type": "stream",
     "text": [
      "21371.05\n"
     ]
    }
   ],
   "source": [
    "print(\"%.2f\" % btc_price_df[729])"
   ]
  },
  {
   "cell_type": "code",
   "execution_count": 45,
   "id": "6b0ce084-46c3-4041-a85f-333290123240",
   "metadata": {},
   "outputs": [],
   "source": [
    "for x in btc_price_df:\n",
    "    btc_coin = 25/x\n",
    "    "
   ]
  },
  {
   "cell_type": "code",
   "execution_count": 48,
   "id": "2a5b1f53-7972-486a-8e1a-131e5e5654c0",
   "metadata": {},
   "outputs": [
    {
     "name": "stdout",
     "output_type": "stream",
     "text": [
      "0.00116981\n"
     ]
    }
   ],
   "source": [
    "print(\"%.8f\" %btc_coin)"
   ]
  },
  {
   "cell_type": "code",
   "execution_count": 50,
   "id": "2aa6ed23-2d21-45f0-a0b7-47058496b0f8",
   "metadata": {},
   "outputs": [],
   "source": [
    "spy = yf.Ticker(\"spy\")"
   ]
  },
  {
   "cell_type": "code",
   "execution_count": 51,
   "id": "855c9d03-22e7-4c87-a31c-32e5f1c7bcdc",
   "metadata": {
    "jupyter": {
     "source_hidden": true
    },
    "tags": []
   },
   "outputs": [],
   "source": [
    "spy_price = spy.history(period=\"2y\")"
   ]
  },
  {
   "cell_type": "code",
   "execution_count": 52,
   "id": "3a4b6980-2c58-4f87-9e55-511ac1df3d33",
   "metadata": {},
   "outputs": [
    {
     "name": "stdout",
     "output_type": "stream",
     "text": [
      "                  Open        High         Low       Close    Volume  \\\n",
      "Date                                                                   \n",
      "2020-08-24  332.373438  333.228373  329.779520  333.150665  48588700   \n",
      "2020-08-25  333.743188  334.403808  332.519074  334.316376  38463400   \n",
      "2020-08-26  334.938147  337.949808  334.364959  337.668091  50790200   \n",
      "2020-08-27  338.581358  339.931743  336.657755  338.406464  58034100   \n",
      "2020-08-28  339.484839  340.728372  338.231581  340.592346  48588900   \n",
      "...                ...         ...         ...         ...       ...   \n",
      "2022-08-16  427.730011  431.730011  426.880005  429.700012  59289000   \n",
      "2022-08-17  425.910004  429.500000  424.540009  426.649994  63563400   \n",
      "2022-08-18  426.859985  428.609985  425.500000  427.890015  49023200   \n",
      "2022-08-19  424.980011  425.260010  421.220001  422.140015  67934700   \n",
      "2022-08-22  417.049988  417.230011  412.399994  413.350006  77577400   \n",
      "\n",
      "            Dividends  Stock Splits  \n",
      "Date                                 \n",
      "2020-08-24        0.0             0  \n",
      "2020-08-25        0.0             0  \n",
      "2020-08-26        0.0             0  \n",
      "2020-08-27        0.0             0  \n",
      "2020-08-28        0.0             0  \n",
      "...               ...           ...  \n",
      "2022-08-16        0.0             0  \n",
      "2022-08-17        0.0             0  \n",
      "2022-08-18        0.0             0  \n",
      "2022-08-19        0.0             0  \n",
      "2022-08-22        0.0             0  \n",
      "\n",
      "[503 rows x 7 columns]\n"
     ]
    }
   ],
   "source": [
    "print(spy_price)"
   ]
  },
  {
   "cell_type": "code",
   "execution_count": null,
   "id": "c8774037-2d5f-4d01-99bc-f223c0f7a8fa",
   "metadata": {},
   "outputs": [],
   "source": []
  }
 ],
 "metadata": {
  "kernelspec": {
   "display_name": "Python 3 (ipykernel)",
   "language": "python",
   "name": "python3"
  },
  "language_info": {
   "codemirror_mode": {
    "name": "ipython",
    "version": 3
   },
   "file_extension": ".py",
   "mimetype": "text/x-python",
   "name": "python",
   "nbconvert_exporter": "python",
   "pygments_lexer": "ipython3",
   "version": "3.7.13"
  }
 },
 "nbformat": 4,
 "nbformat_minor": 5
}
