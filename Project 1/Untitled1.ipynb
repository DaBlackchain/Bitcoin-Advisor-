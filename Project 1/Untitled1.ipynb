{
 "cells": [
  {
   "cell_type": "code",
   "execution_count": 3,
   "id": "69444e94-5f91-43db-aaed-118daed51f74",
   "metadata": {},
   "outputs": [
    {
     "ename": "ModuleNotFoundError",
     "evalue": "No module named 'MCForecastTools'",
     "output_type": "error",
     "traceback": [
      "\u001b[1;31m---------------------------------------------------------------------------\u001b[0m",
      "\u001b[1;31mModuleNotFoundError\u001b[0m                       Traceback (most recent call last)",
      "\u001b[1;32m~\\AppData\\Local\\Temp\\ipykernel_3636\\2707111436.py\u001b[0m in \u001b[0;36m<module>\u001b[1;34m\u001b[0m\n\u001b[0;32m      2\u001b[0m \u001b[1;32mimport\u001b[0m \u001b[0mquestionary\u001b[0m\u001b[1;33m\u001b[0m\u001b[1;33m\u001b[0m\u001b[0m\n\u001b[0;32m      3\u001b[0m \u001b[1;32mimport\u001b[0m \u001b[0mpandas\u001b[0m \u001b[1;32mas\u001b[0m \u001b[0mpd\u001b[0m\u001b[1;33m\u001b[0m\u001b[1;33m\u001b[0m\u001b[0m\n\u001b[1;32m----> 4\u001b[1;33m \u001b[1;32mfrom\u001b[0m \u001b[0mMCForecastTools\u001b[0m \u001b[1;32mimport\u001b[0m \u001b[0mMCSimulation\u001b[0m\u001b[1;33m\u001b[0m\u001b[1;33m\u001b[0m\u001b[0m\n\u001b[0m\u001b[0;32m      5\u001b[0m \u001b[1;33m\u001b[0m\u001b[0m\n\u001b[0;32m      6\u001b[0m \u001b[0mget_ipython\u001b[0m\u001b[1;33m(\u001b[0m\u001b[1;33m)\u001b[0m\u001b[1;33m.\u001b[0m\u001b[0mrun_line_magic\u001b[0m\u001b[1;33m(\u001b[0m\u001b[1;34m'matplotlib'\u001b[0m\u001b[1;33m,\u001b[0m \u001b[1;34m'inline'\u001b[0m\u001b[1;33m)\u001b[0m\u001b[1;33m\u001b[0m\u001b[1;33m\u001b[0m\u001b[0m\n",
      "\u001b[1;31mModuleNotFoundError\u001b[0m: No module named 'MCForecastTools'"
     ]
    }
   ],
   "source": [
    "import yfinance as yf\n",
    "import questionary\n",
    "import pandas as pd\n",
    "from MCForecastTools import MCSimulation\n",
    "\n",
    "%matplotlib inline"
   ]
  },
  {
   "cell_type": "code",
   "execution_count": null,
   "id": "0ca5ad71-db2a-448b-9585-247b6476f8cc",
   "metadata": {},
   "outputs": [],
   "source": [
    "btc = yf.Ticker(\"BTC-USD\")"
   ]
  },
  {
   "cell_type": "code",
   "execution_count": null,
   "id": "c0bdad90-a973-4088-a87f-70dd99d08738",
   "metadata": {},
   "outputs": [],
   "source": [
    "btc_hist = btc.history(period=\"3y\")"
   ]
  },
  {
   "cell_type": "code",
   "execution_count": null,
   "id": "eefae18c-84e5-4a8b-940e-b4dd825ce239",
   "metadata": {},
   "outputs": [],
   "source": [
    "btc_price_df = pd.DataFrame(btc_hist[\"Close\"])\n",
    "btc_price_df.dropna().copy()\n",
    "btc_price_df[\"Close\"] = btc_price_df[\"Close\"].astype(\"float\")"
   ]
  },
  {
   "cell_type": "code",
   "execution_count": null,
   "id": "6d4a31fc",
   "metadata": {},
   "outputs": [],
   "source": [
    "#total_investment = questionary.text(\"How much money would you like to invest (USD)?\").ask()\n",
    "total_investment = \"50.00\"\n",
    "total_investment = float(total_investment)"
   ]
  },
  {
   "cell_type": "code",
   "execution_count": null,
   "id": "75e3614f",
   "metadata": {},
   "outputs": [],
   "source": [
    "btc_investment = total_investment / 2"
   ]
  },
  {
   "cell_type": "code",
   "execution_count": null,
   "id": "6b0ce084-46c3-4041-a85f-333290123240",
   "metadata": {},
   "outputs": [],
   "source": [
    "btc_coins_list = []\n",
    "\n",
    "for price in btc_price_df['Close']:\n",
    "    btc_coins = btc_investment / price\n",
    "    btc_coins_list.append(btc_coins)"
   ]
  },
  {
   "cell_type": "code",
   "execution_count": null,
   "id": "2a5b1f53-7972-486a-8e1a-131e5e5654c0",
   "metadata": {},
   "outputs": [],
   "source": [
    "btc_price_df['Coins'] = btc_coins_list\n",
    "btc_coins_df = pd.DataFrame(btc_price_df[\"Coins\"])\n",
    "btc_coins_df"
   ]
  },
  {
   "cell_type": "code",
   "execution_count": null,
   "id": "4b202ed8",
   "metadata": {},
   "outputs": [],
   "source": [
    "total_btc_coins_df = btc_coins_df.sum()\n",
    "total_btc_coins_df"
   ]
  },
  {
   "cell_type": "code",
   "execution_count": null,
   "id": "2aa6ed23-2d21-45f0-a0b7-47058496b0f8",
   "metadata": {},
   "outputs": [],
   "source": [
    "spy = yf.Ticker(\"SPY\")"
   ]
  },
  {
   "cell_type": "code",
   "execution_count": null,
   "id": "855c9d03-22e7-4c87-a31c-32e5f1c7bcdc",
   "metadata": {
    "jupyter": {
     "source_hidden": true
    },
    "tags": []
   },
   "outputs": [],
   "source": [
    "spy_hist = spy.history(period=\"3y\")"
   ]
  },
  {
   "cell_type": "code",
   "execution_count": null,
   "id": "3a4b6980-2c58-4f87-9e55-511ac1df3d33",
   "metadata": {},
   "outputs": [],
   "source": [
    "spy_price_df = pd.DataFrame(spy_hist[\"Close\"])\n",
    "spy_price_df.dropna().copy()\n",
    "spy_price_df[\"Close\"] = spy_price_df[\"Close\"].astype(\"float\")"
   ]
  },
  {
   "cell_type": "code",
   "execution_count": null,
   "id": "c8774037-2d5f-4d01-99bc-f223c0f7a8fa",
   "metadata": {},
   "outputs": [],
   "source": [
    "spy_investment = total_investment / 2"
   ]
  },
  {
   "cell_type": "code",
   "execution_count": null,
   "id": "fd3b1c53",
   "metadata": {},
   "outputs": [],
   "source": [
    "spy_shares_list = []\n",
    "\n",
    "for price in spy_price_df['Close']:\n",
    "    spy_shares = spy_investment / price\n",
    "    spy_shares_list.append(spy_shares)"
   ]
  },
  {
   "cell_type": "code",
   "execution_count": null,
   "id": "1585db55",
   "metadata": {},
   "outputs": [],
   "source": [
    "spy_price_df['Shares'] = spy_shares_list\n",
    "spy_shares_df = pd.DataFrame(spy_price_df[\"Shares\"])\n",
    "spy_shares_df"
   ]
  },
  {
   "cell_type": "code",
   "execution_count": null,
   "id": "0301958b",
   "metadata": {},
   "outputs": [],
   "source": [
    "total_spy_shares_df = spy_shares_df.sum()\n",
    "total_spy_shares_df"
   ]
  },
  {
   "cell_type": "code",
   "execution_count": null,
   "id": "b1039155",
   "metadata": {},
   "outputs": [],
   "source": [
    "btc_current_price = btc_price_df[\"Close\"].iloc[-1]\n",
    "total_btc_coins = total_btc_coins_df[\"Coins\"]   \n",
    "btc_usd_wallet = total_btc_coins * btc_current_price\n",
    "print(f\"${btc_usd_wallet:.2f}\")"
   ]
  },
  {
   "cell_type": "code",
   "execution_count": null,
   "id": "79117cb5",
   "metadata": {},
   "outputs": [],
   "source": [
    "spy_current_price = spy_price_df[\"Close\"].iloc[-1]\n",
    "total_spy_shares = total_spy_shares_df[\"Shares\"]   \n",
    "spy_usd_wallet = total_spy_shares * spy_current_price\n",
    "print(f\"${spy_usd_wallet:.2f}\")"
   ]
  },
  {
   "cell_type": "code",
   "execution_count": null,
   "id": "207fd31e",
   "metadata": {},
   "outputs": [],
   "source": [
    "total_portfolio = btc_usd_wallet + spy_usd_wallet\n",
    "print(f\"${total_portfolio:.2f}\")"
   ]
  },
  {
   "cell_type": "code",
   "execution_count": 1,
   "id": "3f5d1d86",
   "metadata": {},
   "outputs": [
    {
     "ename": "NameError",
     "evalue": "name 'MCSimulation' is not defined",
     "output_type": "error",
     "traceback": [
      "\u001b[1;31m---------------------------------------------------------------------------\u001b[0m",
      "\u001b[1;31mNameError\u001b[0m                                 Traceback (most recent call last)",
      "\u001b[1;32m~\\AppData\\Local\\Temp\\ipykernel_19020\\3924037156.py\u001b[0m in \u001b[0;36m<module>\u001b[1;34m\u001b[0m\n\u001b[1;32m----> 1\u001b[1;33m \u001b[0mMC_tenyear_btc\u001b[0m \u001b[1;33m=\u001b[0m \u001b[0mMCSimulation\u001b[0m\u001b[1;33m(\u001b[0m\u001b[0mportfolio_data\u001b[0m \u001b[1;33m=\u001b[0m \u001b[0mbtc_prices_df\u001b[0m\u001b[1;33m,\u001b[0m \u001b[0mweights\u001b[0m \u001b[1;33m=\u001b[0m\u001b[1;33m[\u001b[0m\u001b[1;36m.80\u001b[0m\u001b[1;33m,\u001b[0m\u001b[1;36m.20\u001b[0m\u001b[1;33m]\u001b[0m\u001b[1;33m,\u001b[0m\u001b[0mnum_simulation\u001b[0m\u001b[1;33m=\u001b[0m \u001b[1;36m500\u001b[0m\u001b[1;33m,\u001b[0m \u001b[0mnum_trading_days\u001b[0m\u001b[1;33m=\u001b[0m \u001b[1;36m252\u001b[0m\u001b[1;33m*\u001b[0m\u001b[1;36m10\u001b[0m\u001b[1;33m)\u001b[0m\u001b[1;33m\u001b[0m\u001b[1;33m\u001b[0m\u001b[0m\n\u001b[0m\u001b[0;32m      2\u001b[0m \u001b[0mMC_tenyear_btc\u001b[0m\u001b[1;33m.\u001b[0m\u001b[0mcalc_cumulative_return\u001b[0m\u001b[1;33m(\u001b[0m\u001b[1;33m)\u001b[0m\u001b[1;33m\u001b[0m\u001b[1;33m\u001b[0m\u001b[0m\n\u001b[0;32m      3\u001b[0m \u001b[0mMC_sim_line_plot_ten_btc\u001b[0m\u001b[1;33m=\u001b[0m \u001b[0mMC_tenyear\u001b[0m\u001b[1;33m.\u001b[0m\u001b[0mplot_simulation\u001b[0m\u001b[1;33m(\u001b[0m\u001b[1;33m)\u001b[0m\u001b[1;33m\u001b[0m\u001b[1;33m\u001b[0m\u001b[0m\n\u001b[0;32m      4\u001b[0m \u001b[0mMC_summary_stats_ten_btc\u001b[0m \u001b[1;33m=\u001b[0m \u001b[0mMC_tenyear\u001b[0m\u001b[1;33m.\u001b[0m\u001b[0msummarize_cumulative_return\u001b[0m\u001b[1;33m(\u001b[0m\u001b[1;33m)\u001b[0m\u001b[1;33m\u001b[0m\u001b[1;33m\u001b[0m\u001b[0m\n",
      "\u001b[1;31mNameError\u001b[0m: name 'MCSimulation' is not defined"
     ]
    }
   ],
   "source": [
    "MC_tenyear_btc = MCSimulation(portfolio_data = btc_prices_df, weights =[.80,.20],num_simulation= 500, num_trading_days= 252*10)\n",
    "MC_tenyear_btc.calc_cumulative_return()\n",
    "MC_sim_line_plot_ten_btc= MC_tenyear.plot_simulation()\n",
    "MC_summary_stats_ten_btc = MC_tenyear.summarize_cumulative_return()"
   ]
  },
  {
   "cell_type": "code",
   "execution_count": null,
   "id": "91217f72",
   "metadata": {},
   "outputs": [],
   "source": []
  }
 ],
 "metadata": {
  "kernelspec": {
   "display_name": "Python 3.8 (FinTech)",
   "language": "python",
   "name": "fintech"
  },
  "language_info": {
   "codemirror_mode": {
    "name": "ipython",
    "version": 3
   },
   "file_extension": ".py",
   "mimetype": "text/x-python",
   "name": "python",
   "nbconvert_exporter": "python",
   "pygments_lexer": "ipython3",
   "version": "3.8.13"
  }
 },
 "nbformat": 4,
 "nbformat_minor": 5
}
