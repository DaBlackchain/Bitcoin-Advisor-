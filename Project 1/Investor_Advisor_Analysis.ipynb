{
 "cells": [
  {
   "cell_type": "code",
   "execution_count": 1,
   "id": "69444e94-5f91-43db-aaed-118daed51f74",
   "metadata": {},
   "outputs": [],
   "source": [
    "import warnings\n",
    "warnings.filterwarnings('ignore')\n",
    "\n",
    "import yfinance as yf\n",
    "import os\n",
    "import questionary\n",
    "import pandas as pd\n",
    "from dotenv import load_dotenv\n",
    "import alpaca_trade_api as tradeapi\n",
    "from alpaca_trade_api.common import URL\n",
    "from MCForecastTools import MCSimulation\n",
    "from datetime import datetime, timedelta"
   ]
  },
  {
   "cell_type": "code",
   "execution_count": 2,
   "id": "0b8a88a9",
   "metadata": {},
   "outputs": [
    {
     "data": {
      "text/plain": [
       "True"
      ]
     },
     "execution_count": 2,
     "metadata": {},
     "output_type": "execute_result"
    }
   ],
   "source": [
    "# Load the environment variables from the .env file\n",
    "#by calling the load_dotenv function\n",
    "load_dotenv(\".\\\\SAMPLE.env\")"
   ]
  },
  {
   "cell_type": "code",
   "execution_count": null,
   "id": "6650c014",
   "metadata": {},
   "outputs": [],
   "source": [
    "# Using the YFinance library, make an API call to access the historical prices of Bitcoin over the last three years"
   ]
  },
  {
   "cell_type": "code",
   "execution_count": 3,
   "id": "0ca5ad71-db2a-448b-9585-247b6476f8cc",
   "metadata": {},
   "outputs": [],
   "source": [
    "btc = yf.Ticker(\"BTC-USD\")"
   ]
  },
  {
   "cell_type": "code",
   "execution_count": 4,
   "id": "c0bdad90-a973-4088-a87f-70dd99d08738",
   "metadata": {},
   "outputs": [],
   "source": [
    "btc_hist = btc.history(period=\"3y\")"
   ]
  },
  {
   "cell_type": "code",
   "execution_count": null,
   "id": "5c4812e0",
   "metadata": {},
   "outputs": [],
   "source": [
    "# Collect the Bitcoin data into DataFrame"
   ]
  },
  {
   "cell_type": "code",
   "execution_count": 5,
   "id": "eefae18c-84e5-4a8b-940e-b4dd825ce239",
   "metadata": {},
   "outputs": [],
   "source": [
    "btc_price_df = pd.DataFrame(btc_hist[\"Close\"])\n",
    "btc_price_df.dropna().copy()\n",
    "btc_price_df[\"Close\"] = btc_price_df[\"Close\"].astype(\"float\")"
   ]
  },
  {
   "cell_type": "code",
   "execution_count": null,
   "id": "1cb99c2d",
   "metadata": {},
   "outputs": [],
   "source": [
    "# Using the YFinance library, make an API call to access the historical prices of S&P 500 ETF over the last three years"
   ]
  },
  {
   "cell_type": "code",
   "execution_count": 6,
   "id": "2aa6ed23-2d21-45f0-a0b7-47058496b0f8",
   "metadata": {},
   "outputs": [],
   "source": [
    "spy = yf.Ticker(\"SPY\")"
   ]
  },
  {
   "cell_type": "code",
   "execution_count": 7,
   "id": "855c9d03-22e7-4c87-a31c-32e5f1c7bcdc",
   "metadata": {
    "jupyter": {
     "source_hidden": true
    },
    "tags": []
   },
   "outputs": [],
   "source": [
    "spy_hist = spy.history(period=\"3y\")"
   ]
  },
  {
   "cell_type": "code",
   "execution_count": null,
   "id": "099655d2",
   "metadata": {},
   "outputs": [],
   "source": [
    "# Collect the S&P 500 ETF data into DataFrame"
   ]
  },
  {
   "cell_type": "code",
   "execution_count": 8,
   "id": "3a4b6980-2c58-4f87-9e55-511ac1df3d33",
   "metadata": {},
   "outputs": [],
   "source": [
    "spy_price_df = pd.DataFrame(spy_hist[\"Close\"])\n",
    "spy_price_df.dropna().copy()\n",
    "spy_price_df[\"Close\"] = spy_price_df[\"Close\"].astype(\"float\")"
   ]
  },
  {
   "cell_type": "code",
   "execution_count": null,
   "id": "5da353c0",
   "metadata": {},
   "outputs": [],
   "source": [
    "# Collect the initial investment"
   ]
  },
  {
   "cell_type": "code",
   "execution_count": 9,
   "id": "a162bb08",
   "metadata": {},
   "outputs": [],
   "source": [
    "#monthly_investment = questionary.text(\"How much money would you like to invest monthly (50/50 split)?\").ask()\n",
    "monthly_investment = \"1800\"\n",
    "monthly_investment = float(monthly_investment)"
   ]
  },
  {
   "cell_type": "code",
   "execution_count": null,
   "id": "7d50e855",
   "metadata": {},
   "outputs": [],
   "source": [
    "# Calculate the Bitcoin initial investment "
   ]
  },
  {
   "cell_type": "code",
   "execution_count": 10,
   "id": "b38478bc",
   "metadata": {},
   "outputs": [
    {
     "name": "stdout",
     "output_type": "stream",
     "text": [
      "Monthly BTC Investment: $900.00\n"
     ]
    }
   ],
   "source": [
    "btc_investment = monthly_investment / 2\n",
    "print(f\"Monthly BTC Investment: ${btc_investment:.2f}\")"
   ]
  },
  {
   "cell_type": "code",
   "execution_count": null,
   "id": "2b01b4ce",
   "metadata": {},
   "outputs": [],
   "source": [
    "# Calculate the daily number of Bitcoin coins based on the Bitcoin initial investment"
   ]
  },
  {
   "cell_type": "code",
   "execution_count": 11,
   "id": "6b0ce084-46c3-4041-a85f-333290123240",
   "metadata": {},
   "outputs": [],
   "source": [
    "btc_coins_list = []\n",
    "\n",
    "for price in btc_price_df['Close']:\n",
    "    btc_coins = btc_investment / price\n",
    "    btc_coins_list.append(btc_coins)"
   ]
  },
  {
   "cell_type": "code",
   "execution_count": null,
   "id": "e66c0f71",
   "metadata": {},
   "outputs": [],
   "source": [
    "# Calculate the total current Bitcoin coins based on recurring monthly investment and collect into DataFrame"
   ]
  },
  {
   "cell_type": "code",
   "execution_count": 12,
   "id": "2a5b1f53-7972-486a-8e1a-131e5e5654c0",
   "metadata": {},
   "outputs": [],
   "source": [
    "btc_price_df['Coins'] = btc_coins_list\n",
    "btc_coins_df = pd.DataFrame(btc_price_df[\"Coins\"])\n",
    "btc_coins_df.reset_index(inplace=True)\n",
    "btc_coins_df = btc_coins_df.rename(columns = {'index':'Date'})"
   ]
  },
  {
   "cell_type": "code",
   "execution_count": 13,
   "id": "d2015267",
   "metadata": {},
   "outputs": [
    {
     "name": "stdout",
     "output_type": "stream",
     "text": [
      "Total Current Bitcoin Coins: 2.08038\n"
     ]
    }
   ],
   "source": [
    "btc_period = btc_coins_df.Date.dt.to_period(\"M\")\n",
    "avg_btc_coins_df = btc_coins_df.groupby(btc_period)['Coins'].mean()\n",
    "total_btc_coins = avg_btc_coins_df.sum()\n",
    "print(f\"Total Current Bitcoin Coins: {total_btc_coins:.5f}\")"
   ]
  },
  {
   "cell_type": "code",
   "execution_count": null,
   "id": "f77e073a",
   "metadata": {},
   "outputs": [],
   "source": [
    "# Calculate the total current Bitcoin wallet in USD using current Bitcoin price"
   ]
  },
  {
   "cell_type": "code",
   "execution_count": 14,
   "id": "0feebdc7",
   "metadata": {},
   "outputs": [
    {
     "name": "stdout",
     "output_type": "stream",
     "text": [
      "Current Bitcoin Price: $21716.25\n",
      "Total Current Bitcoin Wallet (USD): $45178.04\n"
     ]
    }
   ],
   "source": [
    "btc_current_price = btc_price_df[\"Close\"].iloc[-1]\n",
    "print(f\"Current Bitcoin Price: ${btc_current_price:.2f}\") \n",
    "btc_usd_wallet = total_btc_coins * btc_current_price\n",
    "print(f\"Total Current Bitcoin Wallet (USD): ${btc_usd_wallet:.2f}\")"
   ]
  },
  {
   "cell_type": "code",
   "execution_count": null,
   "id": "a14a54f8",
   "metadata": {},
   "outputs": [],
   "source": [
    "# Calculate the S&p 500 ETF initial investment"
   ]
  },
  {
   "cell_type": "code",
   "execution_count": 15,
   "id": "c8774037-2d5f-4d01-99bc-f223c0f7a8fa",
   "metadata": {},
   "outputs": [
    {
     "name": "stdout",
     "output_type": "stream",
     "text": [
      "Monthly SPY Investment: $900.00\n"
     ]
    }
   ],
   "source": [
    "spy_investment = monthly_investment / 2\n",
    "print(f\"Monthly SPY Investment: ${spy_investment:.2f}\")"
   ]
  },
  {
   "cell_type": "code",
   "execution_count": null,
   "id": "5eec2513",
   "metadata": {},
   "outputs": [],
   "source": [
    "# Calculate the daily number of S&P 500 ETF shares based on the S&P 500 ETF initial investment"
   ]
  },
  {
   "cell_type": "code",
   "execution_count": 16,
   "id": "da86605e",
   "metadata": {},
   "outputs": [],
   "source": [
    "spy_shares_list = []\n",
    "\n",
    "for price in spy_price_df['Close']:\n",
    "    spy_shares = spy_investment / price\n",
    "    spy_shares_list.append(spy_shares)\n",
    "    "
   ]
  },
  {
   "cell_type": "code",
   "execution_count": null,
   "id": "01a11a35",
   "metadata": {},
   "outputs": [],
   "source": [
    "# Calculate the total current S&P 500 ETF shares based on recurring monthly investment and collect into DataFrame"
   ]
  },
  {
   "cell_type": "code",
   "execution_count": 17,
   "id": "b454e586",
   "metadata": {},
   "outputs": [],
   "source": [
    "spy_price_df['Shares'] = spy_shares_list\n",
    "spy_shares_df = pd.DataFrame(spy_price_df[\"Shares\"])\n",
    "spy_shares_df.reset_index(inplace=True)\n",
    "spy_shares_df = spy_shares_df.rename(columns = {'index':'Date'})"
   ]
  },
  {
   "cell_type": "code",
   "execution_count": 18,
   "id": "98dc22cd",
   "metadata": {},
   "outputs": [
    {
     "name": "stdout",
     "output_type": "stream",
     "text": [
      "Total Current S&P 500 ETF Shares: 93.73168\n"
     ]
    }
   ],
   "source": [
    "spy_period = spy_shares_df.Date.dt.to_period(\"M\")\n",
    "avg_spy_shares_df = spy_shares_df.groupby(spy_period)['Shares'].mean()\n",
    "total_spy_shares = avg_spy_shares_df.sum()\n",
    "print(f\"Total Current S&P 500 ETF Shares: {total_spy_shares:.5f}\")"
   ]
  },
  {
   "cell_type": "code",
   "execution_count": null,
   "id": "377ce121",
   "metadata": {},
   "outputs": [],
   "source": [
    "# Calculate the total current S&P 500 ETF wallet in USD using current S&P 500 ETF price"
   ]
  },
  {
   "cell_type": "code",
   "execution_count": 19,
   "id": "07693880",
   "metadata": {},
   "outputs": [
    {
     "name": "stdout",
     "output_type": "stream",
     "text": [
      "Current S&P 500 ETF Price: $413.67\n",
      "Total Current S&P 500 ETF Wallet (USD): $38773.98\n"
     ]
    }
   ],
   "source": [
    "spy_current_price = spy_price_df[\"Close\"].iloc[-1]\n",
    "print(f\"Current S&P 500 ETF Price: ${spy_current_price:.2f}\")  \n",
    "spy_usd_wallet = total_spy_shares * spy_current_price\n",
    "print(f\"Total Current S&P 500 ETF Wallet (USD): ${spy_usd_wallet:.2f}\")"
   ]
  },
  {
   "cell_type": "code",
   "execution_count": null,
   "id": "cb135c29",
   "metadata": {},
   "outputs": [],
   "source": [
    "# Calculate the total value of portfolio in USD"
   ]
  },
  {
   "cell_type": "code",
   "execution_count": 20,
   "id": "0fb537f8",
   "metadata": {},
   "outputs": [
    {
     "name": "stdout",
     "output_type": "stream",
     "text": [
      "Total Value of Portfolio (USD): $83952.03\n"
     ]
    }
   ],
   "source": [
    "total_portfolio = btc_usd_wallet + spy_usd_wallet\n",
    "print(f\"Total Value of Portfolio (USD): ${total_portfolio:.2f}\")"
   ]
  },
  {
   "cell_type": "code",
   "execution_count": null,
   "id": "abd312f8",
   "metadata": {},
   "outputs": [],
   "source": [
    "# Create a savings DataFrame including the Bitcoin and S&P 500 ETF wallets"
   ]
  },
  {
   "cell_type": "code",
   "execution_count": 21,
   "id": "884afeda",
   "metadata": {},
   "outputs": [],
   "source": [
    "savings_df = pd.DataFrame(data=[btc_usd_wallet, spy_usd_wallet], columns=['Amount'], index=['Bitcoin', 'S&P 500 ETF'])"
   ]
  },
  {
   "cell_type": "code",
   "execution_count": 22,
   "id": "8b2098d6",
   "metadata": {},
   "outputs": [
    {
     "data": {
      "text/plain": [
       "<AxesSubplot:title={'center':'Total Value of Portfolio (USD)'}, ylabel='Amount'>"
      ]
     },
     "execution_count": 22,
     "metadata": {},
     "output_type": "execute_result"
    },
    {
     "data": {
      "image/png": "[encoded data removed]",
      "text/plain": [
       "<Figure size 360x360 with 1 Axes>"
      ]
     },
     "metadata": {},
     "output_type": "display_data"
    }
   ],
   "source": [
    "# Plot the total value of the member's portfolio (Bitcoin and S&P 500 ETF) in a pie chart\n",
    "savings_df.plot.pie(y='Amount',figsize=(5, 5),title=\"Total Value of Portfolio (USD)\",\n",
    "                    autopct='%1.1f%%', shadow=True, startangle=0)"
   ]
  },
  {
   "cell_type": "code",
   "execution_count": 23,
   "id": "e957bed0",
   "metadata": {},
   "outputs": [],
   "source": [
    "# Set the variables for the Alpaca API and secret keys\n",
    "alpaca_api_key = os.getenv(\"ALPACA_API_KEY\")\n",
    "alpaca_secret_key = os.getenv(\"ALPACA_SECRET_KEY\")\n",
    "\n",
    "# Create the Alpaca tradeapi.REST object\n",
    "api = tradeapi.REST(\n",
    "    alpaca_api_key,\n",
    "    alpaca_secret_key,\n",
    "    URL('https://paper-api.alpaca.markets'),\n",
    "    api_version = \"v2\"\n",
    ")"
   ]
  },
  {
   "cell_type": "code",
   "execution_count": 24,
   "id": "d588ae4b",
   "metadata": {},
   "outputs": [],
   "source": [
    "# Set timeframe to 1Day\n",
    "timeframe = \"1Day\"\n",
    "\n",
    "# Set start and end dates of 3 years back from yesterday's date\n",
    "today = datetime.today()\n",
    "yesterday = today - timedelta(days=1)\n",
    "three_years = today - timedelta(days=756)\n",
    "\n",
    "sDateStr = three_years.strftime(\"%Y-%m-%d\")\n",
    "eDateStr = yesterday.strftime(\"%Y-%m-%d\")\n",
    "\n",
    "start_date = pd.Timestamp(sDateStr, tz=\"America/New_York\").isoformat()\n",
    "end_date = pd.Timestamp(eDateStr, tz=\"America/New_York\").isoformat()"
   ]
  },
  {
   "cell_type": "code",
   "execution_count": 25,
   "id": "7c34624e",
   "metadata": {},
   "outputs": [
    {
     "data": {
      "text/html": [
       "<div>\n",
       "<style scoped>\n",
       "    .dataframe tbody tr th:only-of-type {\n",
       "        vertical-align: middle;\n",
       "    }\n",
       "\n",
       "    .dataframe tbody tr th {\n",
       "        vertical-align: top;\n",
       "    }\n",
       "\n",
       "    .dataframe thead th {\n",
       "        text-align: right;\n",
       "    }\n",
       "</style>\n",
       "<table border=\"1\" class=\"dataframe\">\n",
       "  <thead>\n",
       "    <tr style=\"text-align: right;\">\n",
       "      <th></th>\n",
       "      <th>open</th>\n",
       "      <th>high</th>\n",
       "      <th>low</th>\n",
       "      <th>close</th>\n",
       "      <th>volume</th>\n",
       "      <th>trade_count</th>\n",
       "      <th>vwap</th>\n",
       "    </tr>\n",
       "    <tr>\n",
       "      <th>timestamp</th>\n",
       "      <th></th>\n",
       "      <th></th>\n",
       "      <th></th>\n",
       "      <th></th>\n",
       "      <th></th>\n",
       "      <th></th>\n",
       "      <th></th>\n",
       "    </tr>\n",
       "  </thead>\n",
       "  <tbody>\n",
       "    <tr>\n",
       "      <th>2020-07-29</th>\n",
       "      <td>322.14</td>\n",
       "      <td>325.73</td>\n",
       "      <td>322.075</td>\n",
       "      <td>325.12</td>\n",
       "      <td>48454159</td>\n",
       "      <td>275881</td>\n",
       "      <td>323.937307</td>\n",
       "    </tr>\n",
       "    <tr>\n",
       "      <th>2020-07-30</th>\n",
       "      <td>321.90</td>\n",
       "      <td>324.41</td>\n",
       "      <td>319.640</td>\n",
       "      <td>323.96</td>\n",
       "      <td>61861788</td>\n",
       "      <td>397283</td>\n",
       "      <td>322.845066</td>\n",
       "    </tr>\n",
       "    <tr>\n",
       "      <th>2020-07-31</th>\n",
       "      <td>326.00</td>\n",
       "      <td>326.63</td>\n",
       "      <td>321.330</td>\n",
       "      <td>326.52</td>\n",
       "      <td>85211555</td>\n",
       "      <td>448876</td>\n",
       "      <td>324.494578</td>\n",
       "    </tr>\n",
       "    <tr>\n",
       "      <th>2020-08-03</th>\n",
       "      <td>328.31</td>\n",
       "      <td>329.62</td>\n",
       "      <td>327.730</td>\n",
       "      <td>328.79</td>\n",
       "      <td>53078112</td>\n",
       "      <td>288003</td>\n",
       "      <td>328.658795</td>\n",
       "    </tr>\n",
       "    <tr>\n",
       "      <th>2020-08-04</th>\n",
       "      <td>327.88</td>\n",
       "      <td>330.06</td>\n",
       "      <td>327.860</td>\n",
       "      <td>330.06</td>\n",
       "      <td>41917896</td>\n",
       "      <td>250899</td>\n",
       "      <td>329.057592</td>\n",
       "    </tr>\n",
       "  </tbody>\n",
       "</table>\n",
       "</div>"
      ],
      "text/plain": [
       "              open    high      low   close    volume  trade_count        vwap\n",
       "timestamp                                                                     \n",
       "2020-07-29  322.14  325.73  322.075  325.12  48454159       275881  323.937307\n",
       "2020-07-30  321.90  324.41  319.640  323.96  61861788       397283  322.845066\n",
       "2020-07-31  326.00  326.63  321.330  326.52  85211555       448876  324.494578\n",
       "2020-08-03  328.31  329.62  327.730  328.79  53078112       288003  328.658795\n",
       "2020-08-04  327.88  330.06  327.860  330.06  41917896       250899  329.057592"
      ]
     },
     "execution_count": 25,
     "metadata": {},
     "output_type": "execute_result"
    }
   ],
   "source": [
    "# Use the Alpaca get_bars function to get current closing prices of S&P 500 ETF\n",
    "spy_data = api.get_bars(\n",
    "    [\"SPY\"],\n",
    "    timeframe,\n",
    "    start_date,\n",
    "    end_date\n",
    ").df\n",
    "\n",
    "# Reorganize the S&P 500 ETF DataFrame\n",
    "spy_data.index = spy_data.index.strftime('%Y-%m-%d')\n",
    "SPY = spy_data[spy_data['symbol']=='SPY'].drop('symbol', axis=1)\n",
    "\n",
    "\n",
    "# Review the first 5 rows of the Alpaca DataFrame\n",
    "SPY.head()"
   ]
  },
  {
   "cell_type": "code",
   "execution_count": 26,
   "id": "488a8d52",
   "metadata": {},
   "outputs": [
    {
     "data": {
      "text/html": [
       "<div>\n",
       "<style scoped>\n",
       "    .dataframe tbody tr th:only-of-type {\n",
       "        vertical-align: middle;\n",
       "    }\n",
       "\n",
       "    .dataframe tbody tr th {\n",
       "        vertical-align: top;\n",
       "    }\n",
       "\n",
       "    .dataframe thead th {\n",
       "        text-align: right;\n",
       "    }\n",
       "</style>\n",
       "<table border=\"1\" class=\"dataframe\">\n",
       "  <thead>\n",
       "    <tr style=\"text-align: right;\">\n",
       "      <th></th>\n",
       "      <th>open</th>\n",
       "      <th>high</th>\n",
       "      <th>low</th>\n",
       "      <th>close</th>\n",
       "      <th>volume</th>\n",
       "      <th>trade_count</th>\n",
       "      <th>vwap</th>\n",
       "    </tr>\n",
       "    <tr>\n",
       "      <th>timestamp</th>\n",
       "      <th></th>\n",
       "      <th></th>\n",
       "      <th></th>\n",
       "      <th></th>\n",
       "      <th></th>\n",
       "      <th></th>\n",
       "      <th></th>\n",
       "    </tr>\n",
       "  </thead>\n",
       "  <tbody>\n",
       "    <tr>\n",
       "      <th>2020-07-29</th>\n",
       "      <td>10951.76</td>\n",
       "      <td>11350.00</td>\n",
       "      <td>10920.01</td>\n",
       "      <td>11110.12</td>\n",
       "      <td>15426.566781</td>\n",
       "      <td>109844</td>\n",
       "      <td>11153.892818</td>\n",
       "    </tr>\n",
       "    <tr>\n",
       "      <th>2020-07-30</th>\n",
       "      <td>11115.99</td>\n",
       "      <td>11148.28</td>\n",
       "      <td>10975.00</td>\n",
       "      <td>11067.62</td>\n",
       "      <td>1948.135936</td>\n",
       "      <td>23599</td>\n",
       "      <td>11031.741379</td>\n",
       "    </tr>\n",
       "    <tr>\n",
       "      <th>2020-07-31</th>\n",
       "      <td>11067.63</td>\n",
       "      <td>11460.00</td>\n",
       "      <td>11044.49</td>\n",
       "      <td>11351.62</td>\n",
       "      <td>13697.898587</td>\n",
       "      <td>107668</td>\n",
       "      <td>11275.251680</td>\n",
       "    </tr>\n",
       "    <tr>\n",
       "      <th>2020-08-01</th>\n",
       "      <td>11810.07</td>\n",
       "      <td>12134.29</td>\n",
       "      <td>10546.15</td>\n",
       "      <td>11181.02</td>\n",
       "      <td>10591.070823</td>\n",
       "      <td>57333</td>\n",
       "      <td>11513.096397</td>\n",
       "    </tr>\n",
       "    <tr>\n",
       "      <th>2020-08-02</th>\n",
       "      <td>11182.60</td>\n",
       "      <td>11426.55</td>\n",
       "      <td>10931.81</td>\n",
       "      <td>11068.54</td>\n",
       "      <td>15005.515882</td>\n",
       "      <td>107041</td>\n",
       "      <td>11196.270295</td>\n",
       "    </tr>\n",
       "  </tbody>\n",
       "</table>\n",
       "</div>"
      ],
      "text/plain": [
       "                open      high       low     close        volume  trade_count  \\\n",
       "timestamp                                                                       \n",
       "2020-07-29  10951.76  11350.00  10920.01  11110.12  15426.566781       109844   \n",
       "2020-07-30  11115.99  11148.28  10975.00  11067.62   1948.135936        23599   \n",
       "2020-07-31  11067.63  11460.00  11044.49  11351.62  13697.898587       107668   \n",
       "2020-08-01  11810.07  12134.29  10546.15  11181.02  10591.070823        57333   \n",
       "2020-08-02  11182.60  11426.55  10931.81  11068.54  15005.515882       107041   \n",
       "\n",
       "                    vwap  \n",
       "timestamp                 \n",
       "2020-07-29  11153.892818  \n",
       "2020-07-30  11031.741379  \n",
       "2020-07-31  11275.251680  \n",
       "2020-08-01  11513.096397  \n",
       "2020-08-02  11196.270295  "
      ]
     },
     "execution_count": 26,
     "metadata": {},
     "output_type": "execute_result"
    }
   ],
   "source": [
    "# Use the Alpaca get_crypto_bars function to get current closing prices of Bitcoin\n",
    "bitcoin_data = api.get_crypto_bars(\n",
    "     [\"BTCUSD\"], \n",
    "     timeframe,\n",
    "     start_date,\n",
    "     end_date\n",
    ").df\n",
    "\n",
    "# Reorganize the Bitcoin DataFrame\n",
    "bitcoin_data.index = bitcoin_data.index.strftime('%Y-%m-%d')\n",
    "BTC = bitcoin_data[bitcoin_data['exchange']=='CBSE'].drop(['exchange','symbol'], axis=1)\n",
    "\n",
    "# Review the first 5 rows of the Alpaca DataFrame\n",
    "BTC.head()"
   ]
  },
  {
   "cell_type": "code",
   "execution_count": null,
   "id": "a6dbf065",
   "metadata": {},
   "outputs": [],
   "source": [
    "# Combine Bitcoin and S&P 500 ETF DataFrames into one DataFrame and remove any null values"
   ]
  },
  {
   "cell_type": "code",
   "execution_count": 27,
   "id": "488bfc79",
   "metadata": {},
   "outputs": [
    {
     "data": {
      "text/html": [
       "<div>\n",
       "<style scoped>\n",
       "    .dataframe tbody tr th:only-of-type {\n",
       "        vertical-align: middle;\n",
       "    }\n",
       "\n",
       "    .dataframe tbody tr th {\n",
       "        vertical-align: top;\n",
       "    }\n",
       "\n",
       "    .dataframe thead tr th {\n",
       "        text-align: left;\n",
       "    }\n",
       "\n",
       "    .dataframe thead tr:last-of-type th {\n",
       "        text-align: right;\n",
       "    }\n",
       "</style>\n",
       "<table border=\"1\" class=\"dataframe\">\n",
       "  <thead>\n",
       "    <tr>\n",
       "      <th></th>\n",
       "      <th colspan=\"7\" halign=\"left\">BTC</th>\n",
       "      <th colspan=\"7\" halign=\"left\">SPY</th>\n",
       "    </tr>\n",
       "    <tr>\n",
       "      <th></th>\n",
       "      <th>open</th>\n",
       "      <th>high</th>\n",
       "      <th>low</th>\n",
       "      <th>close</th>\n",
       "      <th>volume</th>\n",
       "      <th>trade_count</th>\n",
       "      <th>vwap</th>\n",
       "      <th>open</th>\n",
       "      <th>high</th>\n",
       "      <th>low</th>\n",
       "      <th>close</th>\n",
       "      <th>volume</th>\n",
       "      <th>trade_count</th>\n",
       "      <th>vwap</th>\n",
       "    </tr>\n",
       "    <tr>\n",
       "      <th>timestamp</th>\n",
       "      <th></th>\n",
       "      <th></th>\n",
       "      <th></th>\n",
       "      <th></th>\n",
       "      <th></th>\n",
       "      <th></th>\n",
       "      <th></th>\n",
       "      <th></th>\n",
       "      <th></th>\n",
       "      <th></th>\n",
       "      <th></th>\n",
       "      <th></th>\n",
       "      <th></th>\n",
       "      <th></th>\n",
       "    </tr>\n",
       "  </thead>\n",
       "  <tbody>\n",
       "    <tr>\n",
       "      <th>2020-07-29</th>\n",
       "      <td>10951.76</td>\n",
       "      <td>11350.00</td>\n",
       "      <td>10920.01</td>\n",
       "      <td>11110.12</td>\n",
       "      <td>15426.566781</td>\n",
       "      <td>109844.0</td>\n",
       "      <td>11153.892818</td>\n",
       "      <td>322.14</td>\n",
       "      <td>325.73</td>\n",
       "      <td>322.075</td>\n",
       "      <td>325.12</td>\n",
       "      <td>48454159.0</td>\n",
       "      <td>275881.0</td>\n",
       "      <td>323.937307</td>\n",
       "    </tr>\n",
       "    <tr>\n",
       "      <th>2020-07-30</th>\n",
       "      <td>11115.99</td>\n",
       "      <td>11148.28</td>\n",
       "      <td>10975.00</td>\n",
       "      <td>11067.62</td>\n",
       "      <td>1948.135936</td>\n",
       "      <td>23599.0</td>\n",
       "      <td>11031.741379</td>\n",
       "      <td>321.90</td>\n",
       "      <td>324.41</td>\n",
       "      <td>319.640</td>\n",
       "      <td>323.96</td>\n",
       "      <td>61861788.0</td>\n",
       "      <td>397283.0</td>\n",
       "      <td>322.845066</td>\n",
       "    </tr>\n",
       "    <tr>\n",
       "      <th>2020-07-31</th>\n",
       "      <td>11067.63</td>\n",
       "      <td>11460.00</td>\n",
       "      <td>11044.49</td>\n",
       "      <td>11351.62</td>\n",
       "      <td>13697.898587</td>\n",
       "      <td>107668.0</td>\n",
       "      <td>11275.251680</td>\n",
       "      <td>326.00</td>\n",
       "      <td>326.63</td>\n",
       "      <td>321.330</td>\n",
       "      <td>326.52</td>\n",
       "      <td>85211555.0</td>\n",
       "      <td>448876.0</td>\n",
       "      <td>324.494578</td>\n",
       "    </tr>\n",
       "    <tr>\n",
       "      <th>2020-08-03</th>\n",
       "      <td>11233.16</td>\n",
       "      <td>11417.11</td>\n",
       "      <td>11222.00</td>\n",
       "      <td>11319.07</td>\n",
       "      <td>2337.001514</td>\n",
       "      <td>26352.0</td>\n",
       "      <td>11319.548902</td>\n",
       "      <td>328.31</td>\n",
       "      <td>329.62</td>\n",
       "      <td>327.730</td>\n",
       "      <td>328.79</td>\n",
       "      <td>53078112.0</td>\n",
       "      <td>288003.0</td>\n",
       "      <td>328.658795</td>\n",
       "    </tr>\n",
       "    <tr>\n",
       "      <th>2020-08-04</th>\n",
       "      <td>11197.05</td>\n",
       "      <td>11265.74</td>\n",
       "      <td>11073.70</td>\n",
       "      <td>11253.61</td>\n",
       "      <td>1926.660006</td>\n",
       "      <td>19656.0</td>\n",
       "      <td>11185.480901</td>\n",
       "      <td>327.88</td>\n",
       "      <td>330.06</td>\n",
       "      <td>327.860</td>\n",
       "      <td>330.06</td>\n",
       "      <td>41917896.0</td>\n",
       "      <td>250899.0</td>\n",
       "      <td>329.057592</td>\n",
       "    </tr>\n",
       "  </tbody>\n",
       "</table>\n",
       "</div>"
      ],
      "text/plain": [
       "                 BTC                                                          \\\n",
       "                open      high       low     close        volume trade_count   \n",
       "timestamp                                                                      \n",
       "2020-07-29  10951.76  11350.00  10920.01  11110.12  15426.566781    109844.0   \n",
       "2020-07-30  11115.99  11148.28  10975.00  11067.62   1948.135936     23599.0   \n",
       "2020-07-31  11067.63  11460.00  11044.49  11351.62  13697.898587    107668.0   \n",
       "2020-08-03  11233.16  11417.11  11222.00  11319.07   2337.001514     26352.0   \n",
       "2020-08-04  11197.05  11265.74  11073.70  11253.61   1926.660006     19656.0   \n",
       "\n",
       "                             SPY                                       \\\n",
       "                    vwap    open    high      low   close      volume   \n",
       "timestamp                                                               \n",
       "2020-07-29  11153.892818  322.14  325.73  322.075  325.12  48454159.0   \n",
       "2020-07-30  11031.741379  321.90  324.41  319.640  323.96  61861788.0   \n",
       "2020-07-31  11275.251680  326.00  326.63  321.330  326.52  85211555.0   \n",
       "2020-08-03  11319.548902  328.31  329.62  327.730  328.79  53078112.0   \n",
       "2020-08-04  11185.480901  327.88  330.06  327.860  330.06  41917896.0   \n",
       "\n",
       "                                    \n",
       "           trade_count        vwap  \n",
       "timestamp                           \n",
       "2020-07-29    275881.0  323.937307  \n",
       "2020-07-30    397283.0  322.845066  \n",
       "2020-07-31    448876.0  324.494578  \n",
       "2020-08-03    288003.0  328.658795  \n",
       "2020-08-04    250899.0  329.057592  "
      ]
     },
     "execution_count": 27,
     "metadata": {},
     "output_type": "execute_result"
    }
   ],
   "source": [
    "prices_df = pd.concat([BTC,SPY],axis=1, keys=['BTC','SPY'])\n",
    "prices_df = prices_df.dropna().copy()\n",
    "\n",
    "# Review the first 5 rows of the Alpaca DataFrame\n",
    "prices_df.head()"
   ]
  },
  {
   "cell_type": "code",
   "execution_count": null,
   "id": "3b8e58d0",
   "metadata": {},
   "outputs": [],
   "source": [
    "# Configure the Monte Carlo simulation to forecast 10 years cumulative returns\n",
    "# The weights should be split 80% to BTC and 20% to SPY.\n",
    "# Run 500 samples"
   ]
  },
  {
   "cell_type": "code",
   "execution_count": 28,
   "id": "9afa4d80",
   "metadata": {},
   "outputs": [
    {
     "data": {
      "text/html": [
       "<div>\n",
       "<style scoped>\n",
       "    .dataframe tbody tr th:only-of-type {\n",
       "        vertical-align: middle;\n",
       "    }\n",
       "\n",
       "    .dataframe tbody tr th {\n",
       "        vertical-align: top;\n",
       "    }\n",
       "\n",
       "    .dataframe thead tr th {\n",
       "        text-align: left;\n",
       "    }\n",
       "\n",
       "    .dataframe thead tr:last-of-type th {\n",
       "        text-align: right;\n",
       "    }\n",
       "</style>\n",
       "<table border=\"1\" class=\"dataframe\">\n",
       "  <thead>\n",
       "    <tr>\n",
       "      <th></th>\n",
       "      <th colspan=\"8\" halign=\"left\">BTC</th>\n",
       "      <th colspan=\"8\" halign=\"left\">SPY</th>\n",
       "    </tr>\n",
       "    <tr>\n",
       "      <th></th>\n",
       "      <th>open</th>\n",
       "      <th>high</th>\n",
       "      <th>low</th>\n",
       "      <th>close</th>\n",
       "      <th>volume</th>\n",
       "      <th>trade_count</th>\n",
       "      <th>vwap</th>\n",
       "      <th>daily_return</th>\n",
       "      <th>open</th>\n",
       "      <th>high</th>\n",
       "      <th>low</th>\n",
       "      <th>close</th>\n",
       "      <th>volume</th>\n",
       "      <th>trade_count</th>\n",
       "      <th>vwap</th>\n",
       "      <th>daily_return</th>\n",
       "    </tr>\n",
       "    <tr>\n",
       "      <th>timestamp</th>\n",
       "      <th></th>\n",
       "      <th></th>\n",
       "      <th></th>\n",
       "      <th></th>\n",
       "      <th></th>\n",
       "      <th></th>\n",
       "      <th></th>\n",
       "      <th></th>\n",
       "      <th></th>\n",
       "      <th></th>\n",
       "      <th></th>\n",
       "      <th></th>\n",
       "      <th></th>\n",
       "      <th></th>\n",
       "      <th></th>\n",
       "      <th></th>\n",
       "    </tr>\n",
       "  </thead>\n",
       "  <tbody>\n",
       "    <tr>\n",
       "      <th>2020-07-29</th>\n",
       "      <td>10951.76</td>\n",
       "      <td>11350.00</td>\n",
       "      <td>10920.01</td>\n",
       "      <td>11110.12</td>\n",
       "      <td>15426.566781</td>\n",
       "      <td>109844.0</td>\n",
       "      <td>11153.892818</td>\n",
       "      <td>NaN</td>\n",
       "      <td>322.14</td>\n",
       "      <td>325.73</td>\n",
       "      <td>322.075</td>\n",
       "      <td>325.12</td>\n",
       "      <td>48454159.0</td>\n",
       "      <td>275881.0</td>\n",
       "      <td>323.937307</td>\n",
       "      <td>NaN</td>\n",
       "    </tr>\n",
       "    <tr>\n",
       "      <th>2020-07-30</th>\n",
       "      <td>11115.99</td>\n",
       "      <td>11148.28</td>\n",
       "      <td>10975.00</td>\n",
       "      <td>11067.62</td>\n",
       "      <td>1948.135936</td>\n",
       "      <td>23599.0</td>\n",
       "      <td>11031.741379</td>\n",
       "      <td>-0.003825</td>\n",
       "      <td>321.90</td>\n",
       "      <td>324.41</td>\n",
       "      <td>319.640</td>\n",
       "      <td>323.96</td>\n",
       "      <td>61861788.0</td>\n",
       "      <td>397283.0</td>\n",
       "      <td>322.845066</td>\n",
       "      <td>-0.003568</td>\n",
       "    </tr>\n",
       "    <tr>\n",
       "      <th>2020-07-31</th>\n",
       "      <td>11067.63</td>\n",
       "      <td>11460.00</td>\n",
       "      <td>11044.49</td>\n",
       "      <td>11351.62</td>\n",
       "      <td>13697.898587</td>\n",
       "      <td>107668.0</td>\n",
       "      <td>11275.251680</td>\n",
       "      <td>0.025660</td>\n",
       "      <td>326.00</td>\n",
       "      <td>326.63</td>\n",
       "      <td>321.330</td>\n",
       "      <td>326.52</td>\n",
       "      <td>85211555.0</td>\n",
       "      <td>448876.0</td>\n",
       "      <td>324.494578</td>\n",
       "      <td>0.007902</td>\n",
       "    </tr>\n",
       "    <tr>\n",
       "      <th>2020-08-03</th>\n",
       "      <td>11233.16</td>\n",
       "      <td>11417.11</td>\n",
       "      <td>11222.00</td>\n",
       "      <td>11319.07</td>\n",
       "      <td>2337.001514</td>\n",
       "      <td>26352.0</td>\n",
       "      <td>11319.548902</td>\n",
       "      <td>-0.002867</td>\n",
       "      <td>328.31</td>\n",
       "      <td>329.62</td>\n",
       "      <td>327.730</td>\n",
       "      <td>328.79</td>\n",
       "      <td>53078112.0</td>\n",
       "      <td>288003.0</td>\n",
       "      <td>328.658795</td>\n",
       "      <td>0.006952</td>\n",
       "    </tr>\n",
       "    <tr>\n",
       "      <th>2020-08-04</th>\n",
       "      <td>11197.05</td>\n",
       "      <td>11265.74</td>\n",
       "      <td>11073.70</td>\n",
       "      <td>11253.61</td>\n",
       "      <td>1926.660006</td>\n",
       "      <td>19656.0</td>\n",
       "      <td>11185.480901</td>\n",
       "      <td>-0.005783</td>\n",
       "      <td>327.88</td>\n",
       "      <td>330.06</td>\n",
       "      <td>327.860</td>\n",
       "      <td>330.06</td>\n",
       "      <td>41917896.0</td>\n",
       "      <td>250899.0</td>\n",
       "      <td>329.057592</td>\n",
       "      <td>0.003863</td>\n",
       "    </tr>\n",
       "    <tr>\n",
       "      <th>...</th>\n",
       "      <td>...</td>\n",
       "      <td>...</td>\n",
       "      <td>...</td>\n",
       "      <td>...</td>\n",
       "      <td>...</td>\n",
       "      <td>...</td>\n",
       "      <td>...</td>\n",
       "      <td>...</td>\n",
       "      <td>...</td>\n",
       "      <td>...</td>\n",
       "      <td>...</td>\n",
       "      <td>...</td>\n",
       "      <td>...</td>\n",
       "      <td>...</td>\n",
       "      <td>...</td>\n",
       "      <td>...</td>\n",
       "    </tr>\n",
       "    <tr>\n",
       "      <th>2022-08-16</th>\n",
       "      <td>23962.61</td>\n",
       "      <td>24153.58</td>\n",
       "      <td>23668.00</td>\n",
       "      <td>24069.75</td>\n",
       "      <td>18926.543068</td>\n",
       "      <td>622752.0</td>\n",
       "      <td>23917.823725</td>\n",
       "      <td>0.004467</td>\n",
       "      <td>427.62</td>\n",
       "      <td>431.73</td>\n",
       "      <td>426.880</td>\n",
       "      <td>429.70</td>\n",
       "      <td>59118566.0</td>\n",
       "      <td>410281.0</td>\n",
       "      <td>429.307919</td>\n",
       "      <td>0.001959</td>\n",
       "    </tr>\n",
       "    <tr>\n",
       "      <th>2022-08-17</th>\n",
       "      <td>24072.26</td>\n",
       "      <td>24448.49</td>\n",
       "      <td>23180.14</td>\n",
       "      <td>23379.04</td>\n",
       "      <td>21507.482650</td>\n",
       "      <td>556575.0</td>\n",
       "      <td>23599.210786</td>\n",
       "      <td>-0.028696</td>\n",
       "      <td>425.94</td>\n",
       "      <td>429.50</td>\n",
       "      <td>424.540</td>\n",
       "      <td>426.65</td>\n",
       "      <td>63266564.0</td>\n",
       "      <td>451881.0</td>\n",
       "      <td>426.965059</td>\n",
       "      <td>-0.007098</td>\n",
       "    </tr>\n",
       "    <tr>\n",
       "      <th>2022-08-18</th>\n",
       "      <td>23379.04</td>\n",
       "      <td>23600.00</td>\n",
       "      <td>22712.22</td>\n",
       "      <td>22787.49</td>\n",
       "      <td>16656.303422</td>\n",
       "      <td>577763.0</td>\n",
       "      <td>23232.073186</td>\n",
       "      <td>-0.025303</td>\n",
       "      <td>426.78</td>\n",
       "      <td>428.61</td>\n",
       "      <td>425.500</td>\n",
       "      <td>427.89</td>\n",
       "      <td>47948507.0</td>\n",
       "      <td>331980.0</td>\n",
       "      <td>427.137042</td>\n",
       "      <td>0.002906</td>\n",
       "    </tr>\n",
       "    <tr>\n",
       "      <th>2022-08-19</th>\n",
       "      <td>22789.49</td>\n",
       "      <td>22835.53</td>\n",
       "      <td>20782.39</td>\n",
       "      <td>21244.91</td>\n",
       "      <td>46606.469108</td>\n",
       "      <td>1004800.0</td>\n",
       "      <td>21446.285151</td>\n",
       "      <td>-0.067694</td>\n",
       "      <td>424.87</td>\n",
       "      <td>425.26</td>\n",
       "      <td>421.220</td>\n",
       "      <td>422.14</td>\n",
       "      <td>67861630.0</td>\n",
       "      <td>438953.0</td>\n",
       "      <td>423.097019</td>\n",
       "      <td>-0.013438</td>\n",
       "    </tr>\n",
       "    <tr>\n",
       "      <th>2022-08-22</th>\n",
       "      <td>21468.33</td>\n",
       "      <td>21540.00</td>\n",
       "      <td>20889.69</td>\n",
       "      <td>21266.93</td>\n",
       "      <td>25643.744102</td>\n",
       "      <td>694327.0</td>\n",
       "      <td>21220.571293</td>\n",
       "      <td>0.001036</td>\n",
       "      <td>417.04</td>\n",
       "      <td>417.23</td>\n",
       "      <td>412.400</td>\n",
       "      <td>413.35</td>\n",
       "      <td>77604197.0</td>\n",
       "      <td>484052.0</td>\n",
       "      <td>415.048519</td>\n",
       "      <td>-0.020822</td>\n",
       "    </tr>\n",
       "  </tbody>\n",
       "</table>\n",
       "<p>522 rows × 16 columns</p>\n",
       "</div>"
      ],
      "text/plain": [
       "                 BTC                                                          \\\n",
       "                open      high       low     close        volume trade_count   \n",
       "timestamp                                                                      \n",
       "2020-07-29  10951.76  11350.00  10920.01  11110.12  15426.566781    109844.0   \n",
       "2020-07-30  11115.99  11148.28  10975.00  11067.62   1948.135936     23599.0   \n",
       "2020-07-31  11067.63  11460.00  11044.49  11351.62  13697.898587    107668.0   \n",
       "2020-08-03  11233.16  11417.11  11222.00  11319.07   2337.001514     26352.0   \n",
       "2020-08-04  11197.05  11265.74  11073.70  11253.61   1926.660006     19656.0   \n",
       "...              ...       ...       ...       ...           ...         ...   \n",
       "2022-08-16  23962.61  24153.58  23668.00  24069.75  18926.543068    622752.0   \n",
       "2022-08-17  24072.26  24448.49  23180.14  23379.04  21507.482650    556575.0   \n",
       "2022-08-18  23379.04  23600.00  22712.22  22787.49  16656.303422    577763.0   \n",
       "2022-08-19  22789.49  22835.53  20782.39  21244.91  46606.469108   1004800.0   \n",
       "2022-08-22  21468.33  21540.00  20889.69  21266.93  25643.744102    694327.0   \n",
       "\n",
       "                                          SPY                           \\\n",
       "                    vwap daily_return    open    high      low   close   \n",
       "timestamp                                                                \n",
       "2020-07-29  11153.892818          NaN  322.14  325.73  322.075  325.12   \n",
       "2020-07-30  11031.741379    -0.003825  321.90  324.41  319.640  323.96   \n",
       "2020-07-31  11275.251680     0.025660  326.00  326.63  321.330  326.52   \n",
       "2020-08-03  11319.548902    -0.002867  328.31  329.62  327.730  328.79   \n",
       "2020-08-04  11185.480901    -0.005783  327.88  330.06  327.860  330.06   \n",
       "...                  ...          ...     ...     ...      ...     ...   \n",
       "2022-08-16  23917.823725     0.004467  427.62  431.73  426.880  429.70   \n",
       "2022-08-17  23599.210786    -0.028696  425.94  429.50  424.540  426.65   \n",
       "2022-08-18  23232.073186    -0.025303  426.78  428.61  425.500  427.89   \n",
       "2022-08-19  21446.285151    -0.067694  424.87  425.26  421.220  422.14   \n",
       "2022-08-22  21220.571293     0.001036  417.04  417.23  412.400  413.35   \n",
       "\n",
       "                                                             \n",
       "                volume trade_count        vwap daily_return  \n",
       "timestamp                                                    \n",
       "2020-07-29  48454159.0    275881.0  323.937307          NaN  \n",
       "2020-07-30  61861788.0    397283.0  322.845066    -0.003568  \n",
       "2020-07-31  85211555.0    448876.0  324.494578     0.007902  \n",
       "2020-08-03  53078112.0    288003.0  328.658795     0.006952  \n",
       "2020-08-04  41917896.0    250899.0  329.057592     0.003863  \n",
       "...                ...         ...         ...          ...  \n",
       "2022-08-16  59118566.0    410281.0  429.307919     0.001959  \n",
       "2022-08-17  63266564.0    451881.0  426.965059    -0.007098  \n",
       "2022-08-18  47948507.0    331980.0  427.137042     0.002906  \n",
       "2022-08-19  67861630.0    438953.0  423.097019    -0.013438  \n",
       "2022-08-22  77604197.0    484052.0  415.048519    -0.020822  \n",
       "\n",
       "[522 rows x 16 columns]"
      ]
     },
     "execution_count": 28,
     "metadata": {},
     "output_type": "execute_result"
    }
   ],
   "source": [
    "MC_tenyear_aggressive = MCSimulation(\n",
    "    portfolio_data=prices_df,\n",
    "    weights=[0.80, 0.20],\n",
    "    num_simulation=500,\n",
    "    num_trading_days=252*10,\n",
    ")\n",
    "\n",
    "# Review the simulation input data\n",
    "MC_tenyear_aggressive.portfolio_data"
   ]
  },
  {
   "cell_type": "code",
   "execution_count": 29,
   "id": "d56fd95f",
   "metadata": {},
   "outputs": [],
   "source": [
    "# Run the Monte Carlo simulation to forecast 10 years cumulative returns\n",
    "MC_tenyear_aggressive.calc_cumulative_return()"
   ]
  },
  {
   "cell_type": "code",
   "execution_count": 34,
   "id": "12b6982f",
   "metadata": {},
   "outputs": [
    {
     "data": {
      "text/plain": [
       "<AxesSubplot:title={'center':'500 Simulations of Cumulative Portfolio Return Trajectories Over the Next 2520 Trading Days.'}>"
      ]
     },
     "execution_count": 34,
     "metadata": {},
     "output_type": "execute_result"
    },
    {
     "data": {
      "image/png": "[encoded data removed]",
      "text/plain": [
       "<Figure size 432x288 with 1 Axes>"
      ]
     },
     "metadata": {
      "needs_background": "light"
     },
     "output_type": "display_data"
    }
   ],
   "source": [
    "# Visualize the 10-year Monte Carlo simulation by creating an\n",
    "# overlay line plot\n",
    "MC_tenyear_aggressive.plot_simulation()"
   ]
  },
  {
   "cell_type": "code",
   "execution_count": 35,
   "id": "f4335539",
   "metadata": {},
   "outputs": [
    {
     "data": {
      "text/plain": [
       "<AxesSubplot:title={'center':'Distribution of Final Cumuluative Returns Across All 500 Simulations'}, ylabel='Frequency'>"
      ]
     },
     "execution_count": 35,
     "metadata": {},
     "output_type": "execute_result"
    },
    {
     "data": {
      "image/png": "[encoded data removed]",
      "text/plain": [
       "<Figure size 432x288 with 1 Axes>"
      ]
     },
     "metadata": {
      "needs_background": "light"
     },
     "output_type": "display_data"
    }
   ],
   "source": [
    "# Visualize the probability distribution of the 10-year Monte Carlo simulation\n",
    "MC_tenyear_aggressive.plot_distribution()"
   ]
  },
  {
   "cell_type": "code",
   "execution_count": 32,
   "id": "d1fad05f",
   "metadata": {},
   "outputs": [
    {
     "name": "stdout",
     "output_type": "stream",
     "text": [
      "Running Monte Carlo simulation number 0.\n",
      "Running Monte Carlo simulation number 10.\n",
      "Running Monte Carlo simulation number 20.\n",
      "Running Monte Carlo simulation number 30.\n",
      "Running Monte Carlo simulation number 40.\n",
      "Running Monte Carlo simulation number 50.\n",
      "Running Monte Carlo simulation number 60.\n",
      "Running Monte Carlo simulation number 70.\n",
      "Running Monte Carlo simulation number 80.\n",
      "Running Monte Carlo simulation number 90.\n",
      "Running Monte Carlo simulation number 100.\n",
      "Running Monte Carlo simulation number 110.\n",
      "Running Monte Carlo simulation number 120.\n",
      "Running Monte Carlo simulation number 130.\n",
      "Running Monte Carlo simulation number 140.\n",
      "Running Monte Carlo simulation number 150.\n",
      "Running Monte Carlo simulation number 160.\n",
      "Running Monte Carlo simulation number 170.\n",
      "Running Monte Carlo simulation number 180.\n",
      "Running Monte Carlo simulation number 190.\n",
      "Running Monte Carlo simulation number 200.\n",
      "Running Monte Carlo simulation number 210.\n",
      "Running Monte Carlo simulation number 220.\n",
      "Running Monte Carlo simulation number 230.\n",
      "Running Monte Carlo simulation number 240.\n",
      "Running Monte Carlo simulation number 250.\n",
      "Running Monte Carlo simulation number 260.\n",
      "Running Monte Carlo simulation number 270.\n",
      "Running Monte Carlo simulation number 280.\n",
      "Running Monte Carlo simulation number 290.\n",
      "Running Monte Carlo simulation number 300.\n",
      "Running Monte Carlo simulation number 310.\n",
      "Running Monte Carlo simulation number 320.\n",
      "Running Monte Carlo simulation number 330.\n",
      "Running Monte Carlo simulation number 340.\n",
      "Running Monte Carlo simulation number 350.\n",
      "Running Monte Carlo simulation number 360.\n",
      "Running Monte Carlo simulation number 370.\n",
      "Running Monte Carlo simulation number 380.\n",
      "Running Monte Carlo simulation number 390.\n",
      "Running Monte Carlo simulation number 400.\n",
      "Running Monte Carlo simulation number 410.\n",
      "Running Monte Carlo simulation number 420.\n",
      "Running Monte Carlo simulation number 430.\n",
      "Running Monte Carlo simulation number 440.\n",
      "Running Monte Carlo simulation number 450.\n",
      "Running Monte Carlo simulation number 460.\n",
      "Running Monte Carlo simulation number 470.\n",
      "Running Monte Carlo simulation number 480.\n",
      "Running Monte Carlo simulation number 490.\n",
      "count            500.000000\n",
      "mean             137.861090\n",
      "std              432.375546\n",
      "min                0.112408\n",
      "25%                8.031536\n",
      "50%               27.871433\n",
      "75%               96.810405\n",
      "max             5957.422654\n",
      "95% CI Lower       0.902471\n",
      "95% CI Upper    1004.035685\n",
      "Name: 2520, dtype: float64\n"
     ]
    }
   ],
   "source": [
    "# Generate summary statistics from the 10-year Monte Carlo simulation results\n",
    "# Save the results as a variable\n",
    "MC_tenyear_statistics = MC_tenyear_aggressive.summarize_cumulative_return()\n",
    "\n",
    "\n",
    "# Review the 10-year Monte Carlo summary statistics\n",
    "print(MC_tenyear_statistics)"
   ]
  },
  {
   "cell_type": "code",
   "execution_count": 33,
   "id": "36e2e560",
   "metadata": {},
   "outputs": [
    {
     "name": "stdout",
     "output_type": "stream",
     "text": [
      "There is a 95% chance that an initial investment of $1800.00 in the portfolio over the next 10 years will end within the range of $1624.45 and $1807264.23.\n"
     ]
    }
   ],
   "source": [
    "# Use the lower and upper `95%` confidence intervals to calculate the range of the possible outcomes for the current crypt/stock portfolio\n",
    "ci_lower_ten_cumulative_return = round(MC_tenyear_statistics[8]*monthly_investment,2)\n",
    "ci_upper_ten_cumulative_return = round(MC_tenyear_statistics[9]*monthly_investment,2)\n",
    "\n",
    "# Print the result of your calculations\n",
    "print(f\"There is a 95% chance that an initial investment of\"\n",
    "      f\" ${monthly_investment:.2f} in the portfolio\"\n",
    "      f\" over the next 10 years will end within the range of\"\n",
    "      f\" ${ci_lower_ten_cumulative_return} and ${ci_upper_ten_cumulative_return}.\")"
   ]
  }
 ],
 "metadata": {
  "kernelspec": {
   "display_name": "Python 3.8 (FinTech)",
   "language": "python",
   "name": "fintech"
  },
  "language_info": {
   "codemirror_mode": {
    "name": "ipython",
    "version": 3
   },
   "file_extension": ".py",
   "mimetype": "text/x-python",
   "name": "python",
   "nbconvert_exporter": "python",
   "pygments_lexer": "ipython3",
   "version": "3.8.13"
  }
 },
 "nbformat": 4,
 "nbformat_minor": 5
}
