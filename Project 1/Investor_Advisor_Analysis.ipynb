{
 "cells": [
  {
   "cell_type": "code",
   "execution_count": 1,
   "id": "69444e94-5f91-43db-aaed-118daed51f74",
   "metadata": {},
   "outputs": [],
   "source": [
    "import yfinance as yf\n",
    "import os\n",
    "import questionary\n",
    "import pandas as pd\n",
    "from dotenv import load_dotenv\n",
    "import alpaca_trade_api as tradeapi\n",
    "from alpaca_trade_api.common import URL\n",
    "from MCForecastTools import MCSimulation\n",
    "from datetime import datetime, timedelta\n",
    "\n",
    "%matplotlib inline"
   ]
  },
  {
   "cell_type": "code",
   "execution_count": 2,
   "id": "24855ee2",
   "metadata": {},
   "outputs": [
    {
     "data": {
      "text/plain": [
       "True"
      ]
     },
     "execution_count": 2,
     "metadata": {},
     "output_type": "execute_result"
    }
   ],
   "source": [
    "# Load the environment variables from the .env file\n",
    "#by calling the load_dotenv function\n",
    "load_dotenv(\".\\\\SAMPLE.env\")"
   ]
  },
  {
   "cell_type": "code",
   "execution_count": 3,
   "id": "0ca5ad71-db2a-448b-9585-247b6476f8cc",
   "metadata": {},
   "outputs": [],
   "source": [
    "btc = yf.Ticker(\"BTC-USD\")"
   ]
  },
  {
   "cell_type": "code",
   "execution_count": 4,
   "id": "c0bdad90-a973-4088-a87f-70dd99d08738",
   "metadata": {},
   "outputs": [],
   "source": [
    "btc_hist = btc.history(period=\"3y\")"
   ]
  },
  {
   "cell_type": "code",
   "execution_count": 5,
   "id": "eefae18c-84e5-4a8b-940e-b4dd825ce239",
   "metadata": {},
   "outputs": [],
   "source": [
    "btc_price_df = pd.DataFrame(btc_hist[\"Close\"])\n",
    "btc_price_df.dropna().copy()\n",
    "btc_price_df[\"Close\"] = btc_price_df[\"Close\"].astype(\"float\")"
   ]
  },
  {
   "cell_type": "code",
   "execution_count": 128,
   "id": "ec8f4699",
   "metadata": {},
   "outputs": [],
   "source": [
    "#monthly_investment = questionary.text(\"How much money would you like to invest monthly (50/50 split)?\").ask()\n",
    "monthly_investment = \"1000\"\n",
    "monthly_investment = float(monthly_investment)"
   ]
  },
  {
   "cell_type": "code",
   "execution_count": 129,
   "id": "9dac8e60",
   "metadata": {},
   "outputs": [
    {
     "name": "stdout",
     "output_type": "stream",
     "text": [
      "Monthly BTC Investment: $500.00\n"
     ]
    }
   ],
   "source": [
    "btc_investment = monthly_investment / 2\n",
    "print(f\"Monthly BTC Investment: ${btc_investment:.2f}\")"
   ]
  },
  {
   "cell_type": "code",
   "execution_count": 130,
   "id": "6b0ce084-46c3-4041-a85f-333290123240",
   "metadata": {},
   "outputs": [],
   "source": [
    "btc_coins_list = []\n",
    "\n",
    "for price in btc_price_df['Close']:\n",
    "    btc_coins = btc_investment / price\n",
    "    btc_coins_list.append(btc_coins)"
   ]
  },
  {
   "cell_type": "code",
   "execution_count": 131,
   "id": "2a5b1f53-7972-486a-8e1a-131e5e5654c0",
   "metadata": {},
   "outputs": [],
   "source": [
    "btc_price_df['Coins'] = btc_coins_list\n",
    "btc_coins_df = pd.DataFrame(btc_price_df[\"Coins\"])\n",
    "btc_coins_df.reset_index(inplace=True)\n",
    "btc_coins_df = btc_coins_df.rename(columns = {'index':'Date'})"
   ]
  },
  {
   "cell_type": "code",
   "execution_count": 132,
   "id": "b7225e26",
   "metadata": {},
   "outputs": [
    {
     "name": "stdout",
     "output_type": "stream",
     "text": [
      "Total Current Bitcoin Coins: 1.15578\n"
     ]
    }
   ],
   "source": [
    "btc_period = btc_coins_df.Date.dt.to_period(\"M\")\n",
    "avg_btc_coins_df = btc_coins_df.groupby(btc_period)['Coins'].mean()\n",
    "total_btc_coins = avg_btc_coins_df.sum()\n",
    "print(f\"Total Current Bitcoin Coins: {total_btc_coins:.5f}\")"
   ]
  },
  {
   "cell_type": "code",
   "execution_count": 133,
   "id": "d50c9b7b",
   "metadata": {},
   "outputs": [
    {
     "name": "stdout",
     "output_type": "stream",
     "text": [
      "Current Bitcoin Price: $21386.80\n",
      "Total Bitcoin Wallet (USD): $24718.46\n"
     ]
    }
   ],
   "source": [
    "btc_current_price = btc_price_df[\"Close\"].iloc[-1]\n",
    "print(f\"Current Bitcoin Price: ${btc_current_price:.2f}\") \n",
    "btc_usd_wallet = total_btc_coins * btc_current_price\n",
    "print(f\"Total Bitcoin Wallet (USD): ${btc_usd_wallet:.2f}\")"
   ]
  },
  {
   "cell_type": "code",
   "execution_count": 134,
   "id": "2aa6ed23-2d21-45f0-a0b7-47058496b0f8",
   "metadata": {},
   "outputs": [],
   "source": [
    "spy = yf.Ticker(\"SPY\")"
   ]
  },
  {
   "cell_type": "code",
   "execution_count": 135,
   "id": "855c9d03-22e7-4c87-a31c-32e5f1c7bcdc",
   "metadata": {
    "jupyter": {
     "source_hidden": true
    },
    "tags": []
   },
   "outputs": [],
   "source": [
    "spy_hist = spy.history(period=\"3y\")"
   ]
  },
  {
   "cell_type": "code",
   "execution_count": 136,
   "id": "3a4b6980-2c58-4f87-9e55-511ac1df3d33",
   "metadata": {},
   "outputs": [],
   "source": [
    "spy_price_df = pd.DataFrame(spy_hist[\"Close\"])\n",
    "spy_price_df.dropna().copy()\n",
    "spy_price_df[\"Close\"] = spy_price_df[\"Close\"].astype(\"float\")"
   ]
  },
  {
   "cell_type": "code",
   "execution_count": 137,
   "id": "c8774037-2d5f-4d01-99bc-f223c0f7a8fa",
   "metadata": {},
   "outputs": [
    {
     "name": "stdout",
     "output_type": "stream",
     "text": [
      "Monthly SPY Investment: $500.00\n"
     ]
    }
   ],
   "source": [
    "spy_investment = monthly_investment / 2\n",
    "print(f\"Monthly SPY Investment: ${spy_investment:.2f}\")"
   ]
  },
  {
   "cell_type": "code",
   "execution_count": 138,
   "id": "f6cf37e8",
   "metadata": {},
   "outputs": [],
   "source": [
    "spy_shares_list = []\n",
    "\n",
    "for price in spy_price_df['Close']:\n",
    "    spy_shares = spy_investment / price\n",
    "    spy_shares_list.append(spy_shares)\n",
    "    "
   ]
  },
  {
   "cell_type": "code",
   "execution_count": 139,
   "id": "172b5409",
   "metadata": {},
   "outputs": [],
   "source": [
    "spy_price_df['Shares'] = spy_shares_list\n",
    "spy_shares_df = pd.DataFrame(spy_price_df[\"Shares\"])\n",
    "spy_shares_df.reset_index(inplace=True)\n",
    "spy_shares_df = spy_shares_df.rename(columns = {'index':'Date'})"
   ]
  },
  {
   "cell_type": "code",
   "execution_count": 140,
   "id": "127cd7cb",
   "metadata": {},
   "outputs": [
    {
     "name": "stdout",
     "output_type": "stream",
     "text": [
      "Total Current S&P 500 ETF Shares: 52.07241\n"
     ]
    }
   ],
   "source": [
    "spy_period = spy_shares_df.Date.dt.to_period(\"M\")\n",
    "avg_spy_shares_df = spy_shares_df.groupby(spy_period)['Shares'].mean()\n",
    "total_spy_shares = avg_spy_shares_df.sum()\n",
    "print(f\"Total Current S&P 500 ETF Shares: {total_spy_shares:.5f}\")"
   ]
  },
  {
   "cell_type": "code",
   "execution_count": 141,
   "id": "b32e7355",
   "metadata": {},
   "outputs": [
    {
     "name": "stdout",
     "output_type": "stream",
     "text": [
      "Current S&P 500 ETF Price: $412.35\n",
      "Total S&P 500 ETF Wallet (USD): $21472.06\n"
     ]
    }
   ],
   "source": [
    "spy_current_price = spy_price_df[\"Close\"].iloc[-1]\n",
    "print(f\"Current S&P 500 ETF Price: ${spy_current_price:.2f}\")  \n",
    "spy_usd_wallet = total_spy_shares * spy_current_price\n",
    "print(f\"Total S&P 500 ETF Wallet (USD): ${spy_usd_wallet:.2f}\")"
   ]
  },
  {
   "cell_type": "code",
   "execution_count": 142,
   "id": "d56a067a",
   "metadata": {},
   "outputs": [
    {
     "name": "stdout",
     "output_type": "stream",
     "text": [
      "Total Value of Portfolio (USD): $46190.52\n"
     ]
    }
   ],
   "source": [
    "total_portfolio = btc_usd_wallet + spy_usd_wallet\n",
    "print(f\"Total Value of Portfolio (USD): ${total_portfolio:.2f}\")"
   ]
  },
  {
   "cell_type": "code",
   "execution_count": 143,
   "id": "cf62f8c3",
   "metadata": {},
   "outputs": [],
   "source": [
    "# Set the variables for the Alpaca API and secret keys\n",
    "alpaca_api_key = os.getenv(\"ALPACA_API_KEY\")\n",
    "alpaca_secret_key = os.getenv(\"ALPACA_SECRET_KEY\")\n",
    "\n",
    "# Create the Alpaca tradeapi.REST object\n",
    "api = tradeapi.REST(\n",
    "    alpaca_api_key,\n",
    "    alpaca_secret_key,\n",
    "    URL('https://paper-api.alpaca.markets'),\n",
    "    api_version = \"v2\"\n",
    ")"
   ]
  },
  {
   "cell_type": "code",
   "execution_count": 144,
   "id": "749838ac",
   "metadata": {},
   "outputs": [],
   "source": [
    "# Set the tickers for both the bond and stock portion of the portfolio\n",
    "spy = [\"SPY\"]\n",
    "\n",
    "# Set timeframe to 1Day\n",
    "timeframe = \"1Day\"\n",
    "\n",
    "today = datetime.today()\n",
    "yesterday = today - timedelta(days=1)\n",
    "three_years = today - timedelta(days=756)\n",
    "\n",
    "sdate = three_years.strftime(\"%Y-%m-%d\")\n",
    "edate = yesterday.strftime(\"%Y-%m-%d\")\n",
    "\n",
    "\n",
    "start_date = pd.Timestamp(sdate, tz=\"America/New_York\").isoformat()\n",
    "end_date = pd.Timestamp(edate, tz=\"America/New_York\").isoformat()"
   ]
  },
  {
   "cell_type": "code",
   "execution_count": 145,
   "id": "7c603bff",
   "metadata": {},
   "outputs": [
    {
     "data": {
      "text/html": [
       "<div>\n",
       "<style scoped>\n",
       "    .dataframe tbody tr th:only-of-type {\n",
       "        vertical-align: middle;\n",
       "    }\n",
       "\n",
       "    .dataframe tbody tr th {\n",
       "        vertical-align: top;\n",
       "    }\n",
       "\n",
       "    .dataframe thead th {\n",
       "        text-align: right;\n",
       "    }\n",
       "</style>\n",
       "<table border=\"1\" class=\"dataframe\">\n",
       "  <thead>\n",
       "    <tr style=\"text-align: right;\">\n",
       "      <th></th>\n",
       "      <th>open</th>\n",
       "      <th>high</th>\n",
       "      <th>low</th>\n",
       "      <th>close</th>\n",
       "      <th>volume</th>\n",
       "      <th>trade_count</th>\n",
       "      <th>vwap</th>\n",
       "    </tr>\n",
       "    <tr>\n",
       "      <th>timestamp</th>\n",
       "      <th></th>\n",
       "      <th></th>\n",
       "      <th></th>\n",
       "      <th></th>\n",
       "      <th></th>\n",
       "      <th></th>\n",
       "      <th></th>\n",
       "    </tr>\n",
       "  </thead>\n",
       "  <tbody>\n",
       "    <tr>\n",
       "      <th>2020-07-29</th>\n",
       "      <td>322.14</td>\n",
       "      <td>325.73</td>\n",
       "      <td>322.075</td>\n",
       "      <td>325.12</td>\n",
       "      <td>48454159</td>\n",
       "      <td>275881</td>\n",
       "      <td>323.937307</td>\n",
       "    </tr>\n",
       "    <tr>\n",
       "      <th>2020-07-30</th>\n",
       "      <td>321.90</td>\n",
       "      <td>324.41</td>\n",
       "      <td>319.640</td>\n",
       "      <td>323.96</td>\n",
       "      <td>61861788</td>\n",
       "      <td>397283</td>\n",
       "      <td>322.845066</td>\n",
       "    </tr>\n",
       "    <tr>\n",
       "      <th>2020-07-31</th>\n",
       "      <td>326.00</td>\n",
       "      <td>326.63</td>\n",
       "      <td>321.330</td>\n",
       "      <td>326.52</td>\n",
       "      <td>85211555</td>\n",
       "      <td>448876</td>\n",
       "      <td>324.494578</td>\n",
       "    </tr>\n",
       "    <tr>\n",
       "      <th>2020-08-03</th>\n",
       "      <td>328.31</td>\n",
       "      <td>329.62</td>\n",
       "      <td>327.730</td>\n",
       "      <td>328.79</td>\n",
       "      <td>53078112</td>\n",
       "      <td>288003</td>\n",
       "      <td>328.658795</td>\n",
       "    </tr>\n",
       "    <tr>\n",
       "      <th>2020-08-04</th>\n",
       "      <td>327.88</td>\n",
       "      <td>330.06</td>\n",
       "      <td>327.860</td>\n",
       "      <td>330.06</td>\n",
       "      <td>41917896</td>\n",
       "      <td>250899</td>\n",
       "      <td>329.057592</td>\n",
       "    </tr>\n",
       "  </tbody>\n",
       "</table>\n",
       "</div>"
      ],
      "text/plain": [
       "              open    high      low   close    volume  trade_count        vwap\n",
       "timestamp                                                                     \n",
       "2020-07-29  322.14  325.73  322.075  325.12  48454159       275881  323.937307\n",
       "2020-07-30  321.90  324.41  319.640  323.96  61861788       397283  322.845066\n",
       "2020-07-31  326.00  326.63  321.330  326.52  85211555       448876  324.494578\n",
       "2020-08-03  328.31  329.62  327.730  328.79  53078112       288003  328.658795\n",
       "2020-08-04  327.88  330.06  327.860  330.06  41917896       250899  329.057592"
      ]
     },
     "execution_count": 145,
     "metadata": {},
     "output_type": "execute_result"
    }
   ],
   "source": [
    "# Use the Alpaca get_bars function to get current closing prices the portfolio\n",
    "# Be sure to set the `df` property after the function to format the response object as a DataFrame\n",
    "spy_data = api.get_bars(\n",
    "    spy,\n",
    "    timeframe,\n",
    "    start_date,\n",
    "    end_date\n",
    ").df\n",
    "\n",
    "spy_data.index = spy_data.index.strftime('%Y-%m-%d')\n",
    "# Reorganize the DataFrame\n",
    "SPY = spy_data[spy_data['symbol']=='SPY'].drop('symbol', axis=1)\n",
    "\n",
    "\n",
    "# Review the first 5 rows of the Alpaca DataFrame\n",
    "SPY.head()"
   ]
  },
  {
   "cell_type": "code",
   "execution_count": 146,
   "id": "7f26b093",
   "metadata": {},
   "outputs": [
    {
     "data": {
      "text/html": [
       "<div>\n",
       "<style scoped>\n",
       "    .dataframe tbody tr th:only-of-type {\n",
       "        vertical-align: middle;\n",
       "    }\n",
       "\n",
       "    .dataframe tbody tr th {\n",
       "        vertical-align: top;\n",
       "    }\n",
       "\n",
       "    .dataframe thead th {\n",
       "        text-align: right;\n",
       "    }\n",
       "</style>\n",
       "<table border=\"1\" class=\"dataframe\">\n",
       "  <thead>\n",
       "    <tr style=\"text-align: right;\">\n",
       "      <th></th>\n",
       "      <th>open</th>\n",
       "      <th>high</th>\n",
       "      <th>low</th>\n",
       "      <th>close</th>\n",
       "      <th>volume</th>\n",
       "      <th>trade_count</th>\n",
       "      <th>vwap</th>\n",
       "    </tr>\n",
       "    <tr>\n",
       "      <th>timestamp</th>\n",
       "      <th></th>\n",
       "      <th></th>\n",
       "      <th></th>\n",
       "      <th></th>\n",
       "      <th></th>\n",
       "      <th></th>\n",
       "      <th></th>\n",
       "    </tr>\n",
       "  </thead>\n",
       "  <tbody>\n",
       "    <tr>\n",
       "      <th>2022-08-18</th>\n",
       "      <td>23379.04</td>\n",
       "      <td>23600.00</td>\n",
       "      <td>22712.22</td>\n",
       "      <td>22787.49</td>\n",
       "      <td>16656.303422</td>\n",
       "      <td>577763</td>\n",
       "      <td>23232.073186</td>\n",
       "    </tr>\n",
       "    <tr>\n",
       "      <th>2022-08-19</th>\n",
       "      <td>22789.49</td>\n",
       "      <td>22835.53</td>\n",
       "      <td>20782.39</td>\n",
       "      <td>21244.91</td>\n",
       "      <td>46606.469108</td>\n",
       "      <td>1004800</td>\n",
       "      <td>21446.285151</td>\n",
       "    </tr>\n",
       "    <tr>\n",
       "      <th>2022-08-20</th>\n",
       "      <td>21243.75</td>\n",
       "      <td>21372.93</td>\n",
       "      <td>20760.93</td>\n",
       "      <td>21200.14</td>\n",
       "      <td>18975.526149</td>\n",
       "      <td>689261</td>\n",
       "      <td>21169.806012</td>\n",
       "    </tr>\n",
       "    <tr>\n",
       "      <th>2022-08-21</th>\n",
       "      <td>21200.14</td>\n",
       "      <td>21795.08</td>\n",
       "      <td>21067.33</td>\n",
       "      <td>21468.38</td>\n",
       "      <td>16745.547484</td>\n",
       "      <td>603324</td>\n",
       "      <td>21433.214216</td>\n",
       "    </tr>\n",
       "    <tr>\n",
       "      <th>2022-08-22</th>\n",
       "      <td>21468.33</td>\n",
       "      <td>21540.00</td>\n",
       "      <td>20889.69</td>\n",
       "      <td>21266.93</td>\n",
       "      <td>25643.744102</td>\n",
       "      <td>694327</td>\n",
       "      <td>21220.571293</td>\n",
       "    </tr>\n",
       "  </tbody>\n",
       "</table>\n",
       "</div>"
      ],
      "text/plain": [
       "                open      high       low     close        volume  trade_count  \\\n",
       "timestamp                                                                       \n",
       "2022-08-18  23379.04  23600.00  22712.22  22787.49  16656.303422       577763   \n",
       "2022-08-19  22789.49  22835.53  20782.39  21244.91  46606.469108      1004800   \n",
       "2022-08-20  21243.75  21372.93  20760.93  21200.14  18975.526149       689261   \n",
       "2022-08-21  21200.14  21795.08  21067.33  21468.38  16745.547484       603324   \n",
       "2022-08-22  21468.33  21540.00  20889.69  21266.93  25643.744102       694327   \n",
       "\n",
       "                    vwap  \n",
       "timestamp                 \n",
       "2022-08-18  23232.073186  \n",
       "2022-08-19  21446.285151  \n",
       "2022-08-20  21169.806012  \n",
       "2022-08-21  21433.214216  \n",
       "2022-08-22  21220.571293  "
      ]
     },
     "execution_count": 146,
     "metadata": {},
     "output_type": "execute_result"
    }
   ],
   "source": [
    "btc = [\"BTCUSD\"]\n",
    "\n",
    "bitcoin_data = api.get_crypto_bars(\n",
    "     btc, \n",
    "     timeframe,\n",
    "     start_date,\n",
    "     end_date\n",
    ").df\n",
    "\n",
    "bitcoin_data.index = bitcoin_data.index.strftime('%Y-%m-%d')\n",
    "#bitcoin_data.head()\n",
    "BTC = bitcoin_data[bitcoin_data['exchange']=='CBSE'].drop(['exchange','symbol'], axis=1)\n",
    "\n",
    "BTC.tail()"
   ]
  },
  {
   "cell_type": "code",
   "execution_count": 147,
   "id": "0f231062",
   "metadata": {},
   "outputs": [],
   "source": [
    "prices_df = pd.concat([BTC,SPY],axis=1, keys=['BTC','SPY'])\n",
    "prices_df = prices_df.dropna().copy()"
   ]
  },
  {
   "cell_type": "code",
   "execution_count": 148,
   "id": "36f90497",
   "metadata": {},
   "outputs": [
    {
     "data": {
      "text/html": [
       "<div>\n",
       "<style scoped>\n",
       "    .dataframe tbody tr th:only-of-type {\n",
       "        vertical-align: middle;\n",
       "    }\n",
       "\n",
       "    .dataframe tbody tr th {\n",
       "        vertical-align: top;\n",
       "    }\n",
       "\n",
       "    .dataframe thead tr th {\n",
       "        text-align: left;\n",
       "    }\n",
       "\n",
       "    .dataframe thead tr:last-of-type th {\n",
       "        text-align: right;\n",
       "    }\n",
       "</style>\n",
       "<table border=\"1\" class=\"dataframe\">\n",
       "  <thead>\n",
       "    <tr>\n",
       "      <th></th>\n",
       "      <th colspan=\"8\" halign=\"left\">BTC</th>\n",
       "      <th colspan=\"8\" halign=\"left\">SPY</th>\n",
       "    </tr>\n",
       "    <tr>\n",
       "      <th></th>\n",
       "      <th>open</th>\n",
       "      <th>high</th>\n",
       "      <th>low</th>\n",
       "      <th>close</th>\n",
       "      <th>volume</th>\n",
       "      <th>trade_count</th>\n",
       "      <th>vwap</th>\n",
       "      <th>daily_return</th>\n",
       "      <th>open</th>\n",
       "      <th>high</th>\n",
       "      <th>low</th>\n",
       "      <th>close</th>\n",
       "      <th>volume</th>\n",
       "      <th>trade_count</th>\n",
       "      <th>vwap</th>\n",
       "      <th>daily_return</th>\n",
       "    </tr>\n",
       "    <tr>\n",
       "      <th>timestamp</th>\n",
       "      <th></th>\n",
       "      <th></th>\n",
       "      <th></th>\n",
       "      <th></th>\n",
       "      <th></th>\n",
       "      <th></th>\n",
       "      <th></th>\n",
       "      <th></th>\n",
       "      <th></th>\n",
       "      <th></th>\n",
       "      <th></th>\n",
       "      <th></th>\n",
       "      <th></th>\n",
       "      <th></th>\n",
       "      <th></th>\n",
       "      <th></th>\n",
       "    </tr>\n",
       "  </thead>\n",
       "  <tbody>\n",
       "    <tr>\n",
       "      <th>2020-07-29</th>\n",
       "      <td>10951.76</td>\n",
       "      <td>11350.00</td>\n",
       "      <td>10920.01</td>\n",
       "      <td>11110.12</td>\n",
       "      <td>15426.566781</td>\n",
       "      <td>109844.0</td>\n",
       "      <td>11153.892818</td>\n",
       "      <td>NaN</td>\n",
       "      <td>322.14</td>\n",
       "      <td>325.73</td>\n",
       "      <td>322.075</td>\n",
       "      <td>325.12</td>\n",
       "      <td>48454159.0</td>\n",
       "      <td>275881.0</td>\n",
       "      <td>323.937307</td>\n",
       "      <td>NaN</td>\n",
       "    </tr>\n",
       "    <tr>\n",
       "      <th>2020-07-30</th>\n",
       "      <td>11115.99</td>\n",
       "      <td>11148.28</td>\n",
       "      <td>10975.00</td>\n",
       "      <td>11067.62</td>\n",
       "      <td>1948.135936</td>\n",
       "      <td>23599.0</td>\n",
       "      <td>11031.741379</td>\n",
       "      <td>-0.003825</td>\n",
       "      <td>321.90</td>\n",
       "      <td>324.41</td>\n",
       "      <td>319.640</td>\n",
       "      <td>323.96</td>\n",
       "      <td>61861788.0</td>\n",
       "      <td>397283.0</td>\n",
       "      <td>322.845066</td>\n",
       "      <td>-0.003568</td>\n",
       "    </tr>\n",
       "    <tr>\n",
       "      <th>2020-07-31</th>\n",
       "      <td>11067.63</td>\n",
       "      <td>11460.00</td>\n",
       "      <td>11044.49</td>\n",
       "      <td>11351.62</td>\n",
       "      <td>13697.898587</td>\n",
       "      <td>107668.0</td>\n",
       "      <td>11275.251680</td>\n",
       "      <td>0.025660</td>\n",
       "      <td>326.00</td>\n",
       "      <td>326.63</td>\n",
       "      <td>321.330</td>\n",
       "      <td>326.52</td>\n",
       "      <td>85211555.0</td>\n",
       "      <td>448876.0</td>\n",
       "      <td>324.494578</td>\n",
       "      <td>0.007902</td>\n",
       "    </tr>\n",
       "    <tr>\n",
       "      <th>2020-08-03</th>\n",
       "      <td>11233.16</td>\n",
       "      <td>11417.11</td>\n",
       "      <td>11222.00</td>\n",
       "      <td>11319.07</td>\n",
       "      <td>2337.001514</td>\n",
       "      <td>26352.0</td>\n",
       "      <td>11319.548902</td>\n",
       "      <td>-0.002867</td>\n",
       "      <td>328.31</td>\n",
       "      <td>329.62</td>\n",
       "      <td>327.730</td>\n",
       "      <td>328.79</td>\n",
       "      <td>53078112.0</td>\n",
       "      <td>288003.0</td>\n",
       "      <td>328.658795</td>\n",
       "      <td>0.006952</td>\n",
       "    </tr>\n",
       "    <tr>\n",
       "      <th>2020-08-04</th>\n",
       "      <td>11197.05</td>\n",
       "      <td>11265.74</td>\n",
       "      <td>11073.70</td>\n",
       "      <td>11253.61</td>\n",
       "      <td>1926.660006</td>\n",
       "      <td>19656.0</td>\n",
       "      <td>11185.480901</td>\n",
       "      <td>-0.005783</td>\n",
       "      <td>327.88</td>\n",
       "      <td>330.06</td>\n",
       "      <td>327.860</td>\n",
       "      <td>330.06</td>\n",
       "      <td>41917896.0</td>\n",
       "      <td>250899.0</td>\n",
       "      <td>329.057592</td>\n",
       "      <td>0.003863</td>\n",
       "    </tr>\n",
       "    <tr>\n",
       "      <th>...</th>\n",
       "      <td>...</td>\n",
       "      <td>...</td>\n",
       "      <td>...</td>\n",
       "      <td>...</td>\n",
       "      <td>...</td>\n",
       "      <td>...</td>\n",
       "      <td>...</td>\n",
       "      <td>...</td>\n",
       "      <td>...</td>\n",
       "      <td>...</td>\n",
       "      <td>...</td>\n",
       "      <td>...</td>\n",
       "      <td>...</td>\n",
       "      <td>...</td>\n",
       "      <td>...</td>\n",
       "      <td>...</td>\n",
       "    </tr>\n",
       "    <tr>\n",
       "      <th>2022-08-16</th>\n",
       "      <td>23962.61</td>\n",
       "      <td>24153.58</td>\n",
       "      <td>23668.00</td>\n",
       "      <td>24069.75</td>\n",
       "      <td>18926.543068</td>\n",
       "      <td>622752.0</td>\n",
       "      <td>23917.823725</td>\n",
       "      <td>0.004467</td>\n",
       "      <td>427.62</td>\n",
       "      <td>431.73</td>\n",
       "      <td>426.880</td>\n",
       "      <td>429.70</td>\n",
       "      <td>59118566.0</td>\n",
       "      <td>410281.0</td>\n",
       "      <td>429.307919</td>\n",
       "      <td>0.001959</td>\n",
       "    </tr>\n",
       "    <tr>\n",
       "      <th>2022-08-17</th>\n",
       "      <td>24072.26</td>\n",
       "      <td>24448.49</td>\n",
       "      <td>23180.14</td>\n",
       "      <td>23379.04</td>\n",
       "      <td>21507.482650</td>\n",
       "      <td>556575.0</td>\n",
       "      <td>23599.210786</td>\n",
       "      <td>-0.028696</td>\n",
       "      <td>425.94</td>\n",
       "      <td>429.50</td>\n",
       "      <td>424.540</td>\n",
       "      <td>426.65</td>\n",
       "      <td>63266564.0</td>\n",
       "      <td>451881.0</td>\n",
       "      <td>426.965059</td>\n",
       "      <td>-0.007098</td>\n",
       "    </tr>\n",
       "    <tr>\n",
       "      <th>2022-08-18</th>\n",
       "      <td>23379.04</td>\n",
       "      <td>23600.00</td>\n",
       "      <td>22712.22</td>\n",
       "      <td>22787.49</td>\n",
       "      <td>16656.303422</td>\n",
       "      <td>577763.0</td>\n",
       "      <td>23232.073186</td>\n",
       "      <td>-0.025303</td>\n",
       "      <td>426.78</td>\n",
       "      <td>428.61</td>\n",
       "      <td>425.500</td>\n",
       "      <td>427.89</td>\n",
       "      <td>47948507.0</td>\n",
       "      <td>331980.0</td>\n",
       "      <td>427.137042</td>\n",
       "      <td>0.002906</td>\n",
       "    </tr>\n",
       "    <tr>\n",
       "      <th>2022-08-19</th>\n",
       "      <td>22789.49</td>\n",
       "      <td>22835.53</td>\n",
       "      <td>20782.39</td>\n",
       "      <td>21244.91</td>\n",
       "      <td>46606.469108</td>\n",
       "      <td>1004800.0</td>\n",
       "      <td>21446.285151</td>\n",
       "      <td>-0.067694</td>\n",
       "      <td>424.87</td>\n",
       "      <td>425.26</td>\n",
       "      <td>421.220</td>\n",
       "      <td>422.14</td>\n",
       "      <td>67861630.0</td>\n",
       "      <td>438953.0</td>\n",
       "      <td>423.097019</td>\n",
       "      <td>-0.013438</td>\n",
       "    </tr>\n",
       "    <tr>\n",
       "      <th>2022-08-22</th>\n",
       "      <td>21468.33</td>\n",
       "      <td>21540.00</td>\n",
       "      <td>20889.69</td>\n",
       "      <td>21266.93</td>\n",
       "      <td>25643.744102</td>\n",
       "      <td>694327.0</td>\n",
       "      <td>21220.571293</td>\n",
       "      <td>0.001036</td>\n",
       "      <td>417.04</td>\n",
       "      <td>417.23</td>\n",
       "      <td>412.400</td>\n",
       "      <td>413.35</td>\n",
       "      <td>77604197.0</td>\n",
       "      <td>484052.0</td>\n",
       "      <td>415.048519</td>\n",
       "      <td>-0.020822</td>\n",
       "    </tr>\n",
       "  </tbody>\n",
       "</table>\n",
       "<p>522 rows × 16 columns</p>\n",
       "</div>"
      ],
      "text/plain": [
       "                 BTC                                                          \\\n",
       "                open      high       low     close        volume trade_count   \n",
       "timestamp                                                                      \n",
       "2020-07-29  10951.76  11350.00  10920.01  11110.12  15426.566781    109844.0   \n",
       "2020-07-30  11115.99  11148.28  10975.00  11067.62   1948.135936     23599.0   \n",
       "2020-07-31  11067.63  11460.00  11044.49  11351.62  13697.898587    107668.0   \n",
       "2020-08-03  11233.16  11417.11  11222.00  11319.07   2337.001514     26352.0   \n",
       "2020-08-04  11197.05  11265.74  11073.70  11253.61   1926.660006     19656.0   \n",
       "...              ...       ...       ...       ...           ...         ...   \n",
       "2022-08-16  23962.61  24153.58  23668.00  24069.75  18926.543068    622752.0   \n",
       "2022-08-17  24072.26  24448.49  23180.14  23379.04  21507.482650    556575.0   \n",
       "2022-08-18  23379.04  23600.00  22712.22  22787.49  16656.303422    577763.0   \n",
       "2022-08-19  22789.49  22835.53  20782.39  21244.91  46606.469108   1004800.0   \n",
       "2022-08-22  21468.33  21540.00  20889.69  21266.93  25643.744102    694327.0   \n",
       "\n",
       "                                          SPY                           \\\n",
       "                    vwap daily_return    open    high      low   close   \n",
       "timestamp                                                                \n",
       "2020-07-29  11153.892818          NaN  322.14  325.73  322.075  325.12   \n",
       "2020-07-30  11031.741379    -0.003825  321.90  324.41  319.640  323.96   \n",
       "2020-07-31  11275.251680     0.025660  326.00  326.63  321.330  326.52   \n",
       "2020-08-03  11319.548902    -0.002867  328.31  329.62  327.730  328.79   \n",
       "2020-08-04  11185.480901    -0.005783  327.88  330.06  327.860  330.06   \n",
       "...                  ...          ...     ...     ...      ...     ...   \n",
       "2022-08-16  23917.823725     0.004467  427.62  431.73  426.880  429.70   \n",
       "2022-08-17  23599.210786    -0.028696  425.94  429.50  424.540  426.65   \n",
       "2022-08-18  23232.073186    -0.025303  426.78  428.61  425.500  427.89   \n",
       "2022-08-19  21446.285151    -0.067694  424.87  425.26  421.220  422.14   \n",
       "2022-08-22  21220.571293     0.001036  417.04  417.23  412.400  413.35   \n",
       "\n",
       "                                                             \n",
       "                volume trade_count        vwap daily_return  \n",
       "timestamp                                                    \n",
       "2020-07-29  48454159.0    275881.0  323.937307          NaN  \n",
       "2020-07-30  61861788.0    397283.0  322.845066    -0.003568  \n",
       "2020-07-31  85211555.0    448876.0  324.494578     0.007902  \n",
       "2020-08-03  53078112.0    288003.0  328.658795     0.006952  \n",
       "2020-08-04  41917896.0    250899.0  329.057592     0.003863  \n",
       "...                ...         ...         ...          ...  \n",
       "2022-08-16  59118566.0    410281.0  429.307919     0.001959  \n",
       "2022-08-17  63266564.0    451881.0  426.965059    -0.007098  \n",
       "2022-08-18  47948507.0    331980.0  427.137042     0.002906  \n",
       "2022-08-19  67861630.0    438953.0  423.097019    -0.013438  \n",
       "2022-08-22  77604197.0    484052.0  415.048519    -0.020822  \n",
       "\n",
       "[522 rows x 16 columns]"
      ]
     },
     "execution_count": 148,
     "metadata": {},
     "output_type": "execute_result"
    }
   ],
   "source": [
    "MC_tenyear_aggressive = MCSimulation(\n",
    "    portfolio_data=prices_df,\n",
    "    weights=[0.80, 0.20],\n",
    "    num_simulation=500,\n",
    "    num_trading_days=252*10,\n",
    ")\n",
    "\n",
    "# Review the simulation input data\n",
    "MC_tenyear_aggressive.portfolio_data"
   ]
  },
  {
   "cell_type": "code",
   "execution_count": 149,
   "id": "d991ea11",
   "metadata": {},
   "outputs": [
    {
     "name": "stdout",
     "output_type": "stream",
     "text": [
      "Running Monte Carlo simulation number 0.\n",
      "Running Monte Carlo simulation number 10.\n",
      "Running Monte Carlo simulation number 20.\n",
      "Running Monte Carlo simulation number 30.\n",
      "Running Monte Carlo simulation number 40.\n",
      "Running Monte Carlo simulation number 50.\n",
      "Running Monte Carlo simulation number 60.\n",
      "Running Monte Carlo simulation number 70.\n",
      "Running Monte Carlo simulation number 80.\n",
      "Running Monte Carlo simulation number 90.\n",
      "Running Monte Carlo simulation number 100.\n"
     ]
    },
    {
     "name": "stderr",
     "output_type": "stream",
     "text": [
      "C:\\Users\\Nia\\OneDrive\\Desktop\\UNCC Fintech Bootcamp\\Python\\Projects\\Project 1\\Bitcoin-Advisor-\\Project 1\\MCForecastTools.py:117: PerformanceWarning: DataFrame is highly fragmented.  This is usually the result of calling `frame.insert` many times, which has poor performance.  Consider joining all columns at once using pd.concat(axis=1) instead. To get a de-fragmented frame, use `newframe = frame.copy()`\n",
      "  portfolio_cumulative_returns[n] = (1 + sim_df.fillna(0)).cumprod()\n",
      "C:\\Users\\Nia\\OneDrive\\Desktop\\UNCC Fintech Bootcamp\\Python\\Projects\\Project 1\\Bitcoin-Advisor-\\Project 1\\MCForecastTools.py:117: PerformanceWarning: DataFrame is highly fragmented.  This is usually the result of calling `frame.insert` many times, which has poor performance.  Consider joining all columns at once using pd.concat(axis=1) instead. To get a de-fragmented frame, use `newframe = frame.copy()`\n",
      "  portfolio_cumulative_returns[n] = (1 + sim_df.fillna(0)).cumprod()\n",
      "C:\\Users\\Nia\\OneDrive\\Desktop\\UNCC Fintech Bootcamp\\Python\\Projects\\Project 1\\Bitcoin-Advisor-\\Project 1\\MCForecastTools.py:117: PerformanceWarning: DataFrame is highly fragmented.  This is usually the result of calling `frame.insert` many times, which has poor performance.  Consider joining all columns at once using pd.concat(axis=1) instead. To get a de-fragmented frame, use `newframe = frame.copy()`\n",
      "  portfolio_cumulative_returns[n] = (1 + sim_df.fillna(0)).cumprod()\n",
      "C:\\Users\\Nia\\OneDrive\\Desktop\\UNCC Fintech Bootcamp\\Python\\Projects\\Project 1\\Bitcoin-Advisor-\\Project 1\\MCForecastTools.py:117: PerformanceWarning: DataFrame is highly fragmented.  This is usually the result of calling `frame.insert` many times, which has poor performance.  Consider joining all columns at once using pd.concat(axis=1) instead. To get a de-fragmented frame, use `newframe = frame.copy()`\n",
      "  portfolio_cumulative_returns[n] = (1 + sim_df.fillna(0)).cumprod()\n",
      "C:\\Users\\Nia\\OneDrive\\Desktop\\UNCC Fintech Bootcamp\\Python\\Projects\\Project 1\\Bitcoin-Advisor-\\Project 1\\MCForecastTools.py:117: PerformanceWarning: DataFrame is highly fragmented.  This is usually the result of calling `frame.insert` many times, which has poor performance.  Consider joining all columns at once using pd.concat(axis=1) instead. To get a de-fragmented frame, use `newframe = frame.copy()`\n",
      "  portfolio_cumulative_returns[n] = (1 + sim_df.fillna(0)).cumprod()\n",
      "C:\\Users\\Nia\\OneDrive\\Desktop\\UNCC Fintech Bootcamp\\Python\\Projects\\Project 1\\Bitcoin-Advisor-\\Project 1\\MCForecastTools.py:117: PerformanceWarning: DataFrame is highly fragmented.  This is usually the result of calling `frame.insert` many times, which has poor performance.  Consider joining all columns at once using pd.concat(axis=1) instead. To get a de-fragmented frame, use `newframe = frame.copy()`\n",
      "  portfolio_cumulative_returns[n] = (1 + sim_df.fillna(0)).cumprod()\n",
      "C:\\Users\\Nia\\OneDrive\\Desktop\\UNCC Fintech Bootcamp\\Python\\Projects\\Project 1\\Bitcoin-Advisor-\\Project 1\\MCForecastTools.py:117: PerformanceWarning: DataFrame is highly fragmented.  This is usually the result of calling `frame.insert` many times, which has poor performance.  Consider joining all columns at once using pd.concat(axis=1) instead. To get a de-fragmented frame, use `newframe = frame.copy()`\n",
      "  portfolio_cumulative_returns[n] = (1 + sim_df.fillna(0)).cumprod()\n",
      "C:\\Users\\Nia\\OneDrive\\Desktop\\UNCC Fintech Bootcamp\\Python\\Projects\\Project 1\\Bitcoin-Advisor-\\Project 1\\MCForecastTools.py:117: PerformanceWarning: DataFrame is highly fragmented.  This is usually the result of calling `frame.insert` many times, which has poor performance.  Consider joining all columns at once using pd.concat(axis=1) instead. To get a de-fragmented frame, use `newframe = frame.copy()`\n",
      "  portfolio_cumulative_returns[n] = (1 + sim_df.fillna(0)).cumprod()\n",
      "C:\\Users\\Nia\\OneDrive\\Desktop\\UNCC Fintech Bootcamp\\Python\\Projects\\Project 1\\Bitcoin-Advisor-\\Project 1\\MCForecastTools.py:117: PerformanceWarning: DataFrame is highly fragmented.  This is usually the result of calling `frame.insert` many times, which has poor performance.  Consider joining all columns at once using pd.concat(axis=1) instead. To get a de-fragmented frame, use `newframe = frame.copy()`\n",
      "  portfolio_cumulative_returns[n] = (1 + sim_df.fillna(0)).cumprod()\n",
      "C:\\Users\\Nia\\OneDrive\\Desktop\\UNCC Fintech Bootcamp\\Python\\Projects\\Project 1\\Bitcoin-Advisor-\\Project 1\\MCForecastTools.py:117: PerformanceWarning: DataFrame is highly fragmented.  This is usually the result of calling `frame.insert` many times, which has poor performance.  Consider joining all columns at once using pd.concat(axis=1) instead. To get a de-fragmented frame, use `newframe = frame.copy()`\n",
      "  portfolio_cumulative_returns[n] = (1 + sim_df.fillna(0)).cumprod()\n",
      "C:\\Users\\Nia\\OneDrive\\Desktop\\UNCC Fintech Bootcamp\\Python\\Projects\\Project 1\\Bitcoin-Advisor-\\Project 1\\MCForecastTools.py:117: PerformanceWarning: DataFrame is highly fragmented.  This is usually the result of calling `frame.insert` many times, which has poor performance.  Consider joining all columns at once using pd.concat(axis=1) instead. To get a de-fragmented frame, use `newframe = frame.copy()`\n",
      "  portfolio_cumulative_returns[n] = (1 + sim_df.fillna(0)).cumprod()\n",
      "C:\\Users\\Nia\\OneDrive\\Desktop\\UNCC Fintech Bootcamp\\Python\\Projects\\Project 1\\Bitcoin-Advisor-\\Project 1\\MCForecastTools.py:117: PerformanceWarning: DataFrame is highly fragmented.  This is usually the result of calling `frame.insert` many times, which has poor performance.  Consider joining all columns at once using pd.concat(axis=1) instead. To get a de-fragmented frame, use `newframe = frame.copy()`\n",
      "  portfolio_cumulative_returns[n] = (1 + sim_df.fillna(0)).cumprod()\n",
      "C:\\Users\\Nia\\OneDrive\\Desktop\\UNCC Fintech Bootcamp\\Python\\Projects\\Project 1\\Bitcoin-Advisor-\\Project 1\\MCForecastTools.py:117: PerformanceWarning: DataFrame is highly fragmented.  This is usually the result of calling `frame.insert` many times, which has poor performance.  Consider joining all columns at once using pd.concat(axis=1) instead. To get a de-fragmented frame, use `newframe = frame.copy()`\n",
      "  portfolio_cumulative_returns[n] = (1 + sim_df.fillna(0)).cumprod()\n"
     ]
    },
    {
     "name": "stdout",
     "output_type": "stream",
     "text": [
      "Running Monte Carlo simulation number 110.\n"
     ]
    },
    {
     "name": "stderr",
     "output_type": "stream",
     "text": [
      "C:\\Users\\Nia\\OneDrive\\Desktop\\UNCC Fintech Bootcamp\\Python\\Projects\\Project 1\\Bitcoin-Advisor-\\Project 1\\MCForecastTools.py:117: PerformanceWarning: DataFrame is highly fragmented.  This is usually the result of calling `frame.insert` many times, which has poor performance.  Consider joining all columns at once using pd.concat(axis=1) instead. To get a de-fragmented frame, use `newframe = frame.copy()`\n",
      "  portfolio_cumulative_returns[n] = (1 + sim_df.fillna(0)).cumprod()\n",
      "C:\\Users\\Nia\\OneDrive\\Desktop\\UNCC Fintech Bootcamp\\Python\\Projects\\Project 1\\Bitcoin-Advisor-\\Project 1\\MCForecastTools.py:117: PerformanceWarning: DataFrame is highly fragmented.  This is usually the result of calling `frame.insert` many times, which has poor performance.  Consider joining all columns at once using pd.concat(axis=1) instead. To get a de-fragmented frame, use `newframe = frame.copy()`\n",
      "  portfolio_cumulative_returns[n] = (1 + sim_df.fillna(0)).cumprod()\n",
      "C:\\Users\\Nia\\OneDrive\\Desktop\\UNCC Fintech Bootcamp\\Python\\Projects\\Project 1\\Bitcoin-Advisor-\\Project 1\\MCForecastTools.py:117: PerformanceWarning: DataFrame is highly fragmented.  This is usually the result of calling `frame.insert` many times, which has poor performance.  Consider joining all columns at once using pd.concat(axis=1) instead. To get a de-fragmented frame, use `newframe = frame.copy()`\n",
      "  portfolio_cumulative_returns[n] = (1 + sim_df.fillna(0)).cumprod()\n",
      "C:\\Users\\Nia\\OneDrive\\Desktop\\UNCC Fintech Bootcamp\\Python\\Projects\\Project 1\\Bitcoin-Advisor-\\Project 1\\MCForecastTools.py:117: PerformanceWarning: DataFrame is highly fragmented.  This is usually the result of calling `frame.insert` many times, which has poor performance.  Consider joining all columns at once using pd.concat(axis=1) instead. To get a de-fragmented frame, use `newframe = frame.copy()`\n",
      "  portfolio_cumulative_returns[n] = (1 + sim_df.fillna(0)).cumprod()\n",
      "C:\\Users\\Nia\\OneDrive\\Desktop\\UNCC Fintech Bootcamp\\Python\\Projects\\Project 1\\Bitcoin-Advisor-\\Project 1\\MCForecastTools.py:117: PerformanceWarning: DataFrame is highly fragmented.  This is usually the result of calling `frame.insert` many times, which has poor performance.  Consider joining all columns at once using pd.concat(axis=1) instead. To get a de-fragmented frame, use `newframe = frame.copy()`\n",
      "  portfolio_cumulative_returns[n] = (1 + sim_df.fillna(0)).cumprod()\n",
      "C:\\Users\\Nia\\OneDrive\\Desktop\\UNCC Fintech Bootcamp\\Python\\Projects\\Project 1\\Bitcoin-Advisor-\\Project 1\\MCForecastTools.py:117: PerformanceWarning: DataFrame is highly fragmented.  This is usually the result of calling `frame.insert` many times, which has poor performance.  Consider joining all columns at once using pd.concat(axis=1) instead. To get a de-fragmented frame, use `newframe = frame.copy()`\n",
      "  portfolio_cumulative_returns[n] = (1 + sim_df.fillna(0)).cumprod()\n",
      "C:\\Users\\Nia\\OneDrive\\Desktop\\UNCC Fintech Bootcamp\\Python\\Projects\\Project 1\\Bitcoin-Advisor-\\Project 1\\MCForecastTools.py:117: PerformanceWarning: DataFrame is highly fragmented.  This is usually the result of calling `frame.insert` many times, which has poor performance.  Consider joining all columns at once using pd.concat(axis=1) instead. To get a de-fragmented frame, use `newframe = frame.copy()`\n",
      "  portfolio_cumulative_returns[n] = (1 + sim_df.fillna(0)).cumprod()\n",
      "C:\\Users\\Nia\\OneDrive\\Desktop\\UNCC Fintech Bootcamp\\Python\\Projects\\Project 1\\Bitcoin-Advisor-\\Project 1\\MCForecastTools.py:117: PerformanceWarning: DataFrame is highly fragmented.  This is usually the result of calling `frame.insert` many times, which has poor performance.  Consider joining all columns at once using pd.concat(axis=1) instead. To get a de-fragmented frame, use `newframe = frame.copy()`\n",
      "  portfolio_cumulative_returns[n] = (1 + sim_df.fillna(0)).cumprod()\n",
      "C:\\Users\\Nia\\OneDrive\\Desktop\\UNCC Fintech Bootcamp\\Python\\Projects\\Project 1\\Bitcoin-Advisor-\\Project 1\\MCForecastTools.py:117: PerformanceWarning: DataFrame is highly fragmented.  This is usually the result of calling `frame.insert` many times, which has poor performance.  Consider joining all columns at once using pd.concat(axis=1) instead. To get a de-fragmented frame, use `newframe = frame.copy()`\n",
      "  portfolio_cumulative_returns[n] = (1 + sim_df.fillna(0)).cumprod()\n",
      "C:\\Users\\Nia\\OneDrive\\Desktop\\UNCC Fintech Bootcamp\\Python\\Projects\\Project 1\\Bitcoin-Advisor-\\Project 1\\MCForecastTools.py:117: PerformanceWarning: DataFrame is highly fragmented.  This is usually the result of calling `frame.insert` many times, which has poor performance.  Consider joining all columns at once using pd.concat(axis=1) instead. To get a de-fragmented frame, use `newframe = frame.copy()`\n",
      "  portfolio_cumulative_returns[n] = (1 + sim_df.fillna(0)).cumprod()\n"
     ]
    },
    {
     "name": "stdout",
     "output_type": "stream",
     "text": [
      "Running Monte Carlo simulation number 120.\n"
     ]
    },
    {
     "name": "stderr",
     "output_type": "stream",
     "text": [
      "C:\\Users\\Nia\\OneDrive\\Desktop\\UNCC Fintech Bootcamp\\Python\\Projects\\Project 1\\Bitcoin-Advisor-\\Project 1\\MCForecastTools.py:117: PerformanceWarning: DataFrame is highly fragmented.  This is usually the result of calling `frame.insert` many times, which has poor performance.  Consider joining all columns at once using pd.concat(axis=1) instead. To get a de-fragmented frame, use `newframe = frame.copy()`\n",
      "  portfolio_cumulative_returns[n] = (1 + sim_df.fillna(0)).cumprod()\n",
      "C:\\Users\\Nia\\OneDrive\\Desktop\\UNCC Fintech Bootcamp\\Python\\Projects\\Project 1\\Bitcoin-Advisor-\\Project 1\\MCForecastTools.py:117: PerformanceWarning: DataFrame is highly fragmented.  This is usually the result of calling `frame.insert` many times, which has poor performance.  Consider joining all columns at once using pd.concat(axis=1) instead. To get a de-fragmented frame, use `newframe = frame.copy()`\n",
      "  portfolio_cumulative_returns[n] = (1 + sim_df.fillna(0)).cumprod()\n",
      "C:\\Users\\Nia\\OneDrive\\Desktop\\UNCC Fintech Bootcamp\\Python\\Projects\\Project 1\\Bitcoin-Advisor-\\Project 1\\MCForecastTools.py:117: PerformanceWarning: DataFrame is highly fragmented.  This is usually the result of calling `frame.insert` many times, which has poor performance.  Consider joining all columns at once using pd.concat(axis=1) instead. To get a de-fragmented frame, use `newframe = frame.copy()`\n",
      "  portfolio_cumulative_returns[n] = (1 + sim_df.fillna(0)).cumprod()\n",
      "C:\\Users\\Nia\\OneDrive\\Desktop\\UNCC Fintech Bootcamp\\Python\\Projects\\Project 1\\Bitcoin-Advisor-\\Project 1\\MCForecastTools.py:117: PerformanceWarning: DataFrame is highly fragmented.  This is usually the result of calling `frame.insert` many times, which has poor performance.  Consider joining all columns at once using pd.concat(axis=1) instead. To get a de-fragmented frame, use `newframe = frame.copy()`\n",
      "  portfolio_cumulative_returns[n] = (1 + sim_df.fillna(0)).cumprod()\n",
      "C:\\Users\\Nia\\OneDrive\\Desktop\\UNCC Fintech Bootcamp\\Python\\Projects\\Project 1\\Bitcoin-Advisor-\\Project 1\\MCForecastTools.py:117: PerformanceWarning: DataFrame is highly fragmented.  This is usually the result of calling `frame.insert` many times, which has poor performance.  Consider joining all columns at once using pd.concat(axis=1) instead. To get a de-fragmented frame, use `newframe = frame.copy()`\n",
      "  portfolio_cumulative_returns[n] = (1 + sim_df.fillna(0)).cumprod()\n",
      "C:\\Users\\Nia\\OneDrive\\Desktop\\UNCC Fintech Bootcamp\\Python\\Projects\\Project 1\\Bitcoin-Advisor-\\Project 1\\MCForecastTools.py:117: PerformanceWarning: DataFrame is highly fragmented.  This is usually the result of calling `frame.insert` many times, which has poor performance.  Consider joining all columns at once using pd.concat(axis=1) instead. To get a de-fragmented frame, use `newframe = frame.copy()`\n",
      "  portfolio_cumulative_returns[n] = (1 + sim_df.fillna(0)).cumprod()\n",
      "C:\\Users\\Nia\\OneDrive\\Desktop\\UNCC Fintech Bootcamp\\Python\\Projects\\Project 1\\Bitcoin-Advisor-\\Project 1\\MCForecastTools.py:117: PerformanceWarning: DataFrame is highly fragmented.  This is usually the result of calling `frame.insert` many times, which has poor performance.  Consider joining all columns at once using pd.concat(axis=1) instead. To get a de-fragmented frame, use `newframe = frame.copy()`\n",
      "  portfolio_cumulative_returns[n] = (1 + sim_df.fillna(0)).cumprod()\n",
      "C:\\Users\\Nia\\OneDrive\\Desktop\\UNCC Fintech Bootcamp\\Python\\Projects\\Project 1\\Bitcoin-Advisor-\\Project 1\\MCForecastTools.py:117: PerformanceWarning: DataFrame is highly fragmented.  This is usually the result of calling `frame.insert` many times, which has poor performance.  Consider joining all columns at once using pd.concat(axis=1) instead. To get a de-fragmented frame, use `newframe = frame.copy()`\n",
      "  portfolio_cumulative_returns[n] = (1 + sim_df.fillna(0)).cumprod()\n",
      "C:\\Users\\Nia\\OneDrive\\Desktop\\UNCC Fintech Bootcamp\\Python\\Projects\\Project 1\\Bitcoin-Advisor-\\Project 1\\MCForecastTools.py:117: PerformanceWarning: DataFrame is highly fragmented.  This is usually the result of calling `frame.insert` many times, which has poor performance.  Consider joining all columns at once using pd.concat(axis=1) instead. To get a de-fragmented frame, use `newframe = frame.copy()`\n",
      "  portfolio_cumulative_returns[n] = (1 + sim_df.fillna(0)).cumprod()\n",
      "C:\\Users\\Nia\\OneDrive\\Desktop\\UNCC Fintech Bootcamp\\Python\\Projects\\Project 1\\Bitcoin-Advisor-\\Project 1\\MCForecastTools.py:117: PerformanceWarning: DataFrame is highly fragmented.  This is usually the result of calling `frame.insert` many times, which has poor performance.  Consider joining all columns at once using pd.concat(axis=1) instead. To get a de-fragmented frame, use `newframe = frame.copy()`\n",
      "  portfolio_cumulative_returns[n] = (1 + sim_df.fillna(0)).cumprod()\n"
     ]
    },
    {
     "name": "stdout",
     "output_type": "stream",
     "text": [
      "Running Monte Carlo simulation number 130.\n"
     ]
    },
    {
     "name": "stderr",
     "output_type": "stream",
     "text": [
      "C:\\Users\\Nia\\OneDrive\\Desktop\\UNCC Fintech Bootcamp\\Python\\Projects\\Project 1\\Bitcoin-Advisor-\\Project 1\\MCForecastTools.py:117: PerformanceWarning: DataFrame is highly fragmented.  This is usually the result of calling `frame.insert` many times, which has poor performance.  Consider joining all columns at once using pd.concat(axis=1) instead. To get a de-fragmented frame, use `newframe = frame.copy()`\n",
      "  portfolio_cumulative_returns[n] = (1 + sim_df.fillna(0)).cumprod()\n",
      "C:\\Users\\Nia\\OneDrive\\Desktop\\UNCC Fintech Bootcamp\\Python\\Projects\\Project 1\\Bitcoin-Advisor-\\Project 1\\MCForecastTools.py:117: PerformanceWarning: DataFrame is highly fragmented.  This is usually the result of calling `frame.insert` many times, which has poor performance.  Consider joining all columns at once using pd.concat(axis=1) instead. To get a de-fragmented frame, use `newframe = frame.copy()`\n",
      "  portfolio_cumulative_returns[n] = (1 + sim_df.fillna(0)).cumprod()\n",
      "C:\\Users\\Nia\\OneDrive\\Desktop\\UNCC Fintech Bootcamp\\Python\\Projects\\Project 1\\Bitcoin-Advisor-\\Project 1\\MCForecastTools.py:117: PerformanceWarning: DataFrame is highly fragmented.  This is usually the result of calling `frame.insert` many times, which has poor performance.  Consider joining all columns at once using pd.concat(axis=1) instead. To get a de-fragmented frame, use `newframe = frame.copy()`\n",
      "  portfolio_cumulative_returns[n] = (1 + sim_df.fillna(0)).cumprod()\n",
      "C:\\Users\\Nia\\OneDrive\\Desktop\\UNCC Fintech Bootcamp\\Python\\Projects\\Project 1\\Bitcoin-Advisor-\\Project 1\\MCForecastTools.py:117: PerformanceWarning: DataFrame is highly fragmented.  This is usually the result of calling `frame.insert` many times, which has poor performance.  Consider joining all columns at once using pd.concat(axis=1) instead. To get a de-fragmented frame, use `newframe = frame.copy()`\n",
      "  portfolio_cumulative_returns[n] = (1 + sim_df.fillna(0)).cumprod()\n",
      "C:\\Users\\Nia\\OneDrive\\Desktop\\UNCC Fintech Bootcamp\\Python\\Projects\\Project 1\\Bitcoin-Advisor-\\Project 1\\MCForecastTools.py:117: PerformanceWarning: DataFrame is highly fragmented.  This is usually the result of calling `frame.insert` many times, which has poor performance.  Consider joining all columns at once using pd.concat(axis=1) instead. To get a de-fragmented frame, use `newframe = frame.copy()`\n",
      "  portfolio_cumulative_returns[n] = (1 + sim_df.fillna(0)).cumprod()\n",
      "C:\\Users\\Nia\\OneDrive\\Desktop\\UNCC Fintech Bootcamp\\Python\\Projects\\Project 1\\Bitcoin-Advisor-\\Project 1\\MCForecastTools.py:117: PerformanceWarning: DataFrame is highly fragmented.  This is usually the result of calling `frame.insert` many times, which has poor performance.  Consider joining all columns at once using pd.concat(axis=1) instead. To get a de-fragmented frame, use `newframe = frame.copy()`\n",
      "  portfolio_cumulative_returns[n] = (1 + sim_df.fillna(0)).cumprod()\n",
      "C:\\Users\\Nia\\OneDrive\\Desktop\\UNCC Fintech Bootcamp\\Python\\Projects\\Project 1\\Bitcoin-Advisor-\\Project 1\\MCForecastTools.py:117: PerformanceWarning: DataFrame is highly fragmented.  This is usually the result of calling `frame.insert` many times, which has poor performance.  Consider joining all columns at once using pd.concat(axis=1) instead. To get a de-fragmented frame, use `newframe = frame.copy()`\n",
      "  portfolio_cumulative_returns[n] = (1 + sim_df.fillna(0)).cumprod()\n",
      "C:\\Users\\Nia\\OneDrive\\Desktop\\UNCC Fintech Bootcamp\\Python\\Projects\\Project 1\\Bitcoin-Advisor-\\Project 1\\MCForecastTools.py:117: PerformanceWarning: DataFrame is highly fragmented.  This is usually the result of calling `frame.insert` many times, which has poor performance.  Consider joining all columns at once using pd.concat(axis=1) instead. To get a de-fragmented frame, use `newframe = frame.copy()`\n",
      "  portfolio_cumulative_returns[n] = (1 + sim_df.fillna(0)).cumprod()\n"
     ]
    },
    {
     "name": "stdout",
     "output_type": "stream",
     "text": [
      "Running Monte Carlo simulation number 140.\n"
     ]
    },
    {
     "name": "stderr",
     "output_type": "stream",
     "text": [
      "C:\\Users\\Nia\\OneDrive\\Desktop\\UNCC Fintech Bootcamp\\Python\\Projects\\Project 1\\Bitcoin-Advisor-\\Project 1\\MCForecastTools.py:117: PerformanceWarning: DataFrame is highly fragmented.  This is usually the result of calling `frame.insert` many times, which has poor performance.  Consider joining all columns at once using pd.concat(axis=1) instead. To get a de-fragmented frame, use `newframe = frame.copy()`\n",
      "  portfolio_cumulative_returns[n] = (1 + sim_df.fillna(0)).cumprod()\n",
      "C:\\Users\\Nia\\OneDrive\\Desktop\\UNCC Fintech Bootcamp\\Python\\Projects\\Project 1\\Bitcoin-Advisor-\\Project 1\\MCForecastTools.py:117: PerformanceWarning: DataFrame is highly fragmented.  This is usually the result of calling `frame.insert` many times, which has poor performance.  Consider joining all columns at once using pd.concat(axis=1) instead. To get a de-fragmented frame, use `newframe = frame.copy()`\n",
      "  portfolio_cumulative_returns[n] = (1 + sim_df.fillna(0)).cumprod()\n",
      "C:\\Users\\Nia\\OneDrive\\Desktop\\UNCC Fintech Bootcamp\\Python\\Projects\\Project 1\\Bitcoin-Advisor-\\Project 1\\MCForecastTools.py:117: PerformanceWarning: DataFrame is highly fragmented.  This is usually the result of calling `frame.insert` many times, which has poor performance.  Consider joining all columns at once using pd.concat(axis=1) instead. To get a de-fragmented frame, use `newframe = frame.copy()`\n",
      "  portfolio_cumulative_returns[n] = (1 + sim_df.fillna(0)).cumprod()\n",
      "C:\\Users\\Nia\\OneDrive\\Desktop\\UNCC Fintech Bootcamp\\Python\\Projects\\Project 1\\Bitcoin-Advisor-\\Project 1\\MCForecastTools.py:117: PerformanceWarning: DataFrame is highly fragmented.  This is usually the result of calling `frame.insert` many times, which has poor performance.  Consider joining all columns at once using pd.concat(axis=1) instead. To get a de-fragmented frame, use `newframe = frame.copy()`\n",
      "  portfolio_cumulative_returns[n] = (1 + sim_df.fillna(0)).cumprod()\n",
      "C:\\Users\\Nia\\OneDrive\\Desktop\\UNCC Fintech Bootcamp\\Python\\Projects\\Project 1\\Bitcoin-Advisor-\\Project 1\\MCForecastTools.py:117: PerformanceWarning: DataFrame is highly fragmented.  This is usually the result of calling `frame.insert` many times, which has poor performance.  Consider joining all columns at once using pd.concat(axis=1) instead. To get a de-fragmented frame, use `newframe = frame.copy()`\n",
      "  portfolio_cumulative_returns[n] = (1 + sim_df.fillna(0)).cumprod()\n",
      "C:\\Users\\Nia\\OneDrive\\Desktop\\UNCC Fintech Bootcamp\\Python\\Projects\\Project 1\\Bitcoin-Advisor-\\Project 1\\MCForecastTools.py:117: PerformanceWarning: DataFrame is highly fragmented.  This is usually the result of calling `frame.insert` many times, which has poor performance.  Consider joining all columns at once using pd.concat(axis=1) instead. To get a de-fragmented frame, use `newframe = frame.copy()`\n",
      "  portfolio_cumulative_returns[n] = (1 + sim_df.fillna(0)).cumprod()\n",
      "C:\\Users\\Nia\\OneDrive\\Desktop\\UNCC Fintech Bootcamp\\Python\\Projects\\Project 1\\Bitcoin-Advisor-\\Project 1\\MCForecastTools.py:117: PerformanceWarning: DataFrame is highly fragmented.  This is usually the result of calling `frame.insert` many times, which has poor performance.  Consider joining all columns at once using pd.concat(axis=1) instead. To get a de-fragmented frame, use `newframe = frame.copy()`\n",
      "  portfolio_cumulative_returns[n] = (1 + sim_df.fillna(0)).cumprod()\n",
      "C:\\Users\\Nia\\OneDrive\\Desktop\\UNCC Fintech Bootcamp\\Python\\Projects\\Project 1\\Bitcoin-Advisor-\\Project 1\\MCForecastTools.py:117: PerformanceWarning: DataFrame is highly fragmented.  This is usually the result of calling `frame.insert` many times, which has poor performance.  Consider joining all columns at once using pd.concat(axis=1) instead. To get a de-fragmented frame, use `newframe = frame.copy()`\n",
      "  portfolio_cumulative_returns[n] = (1 + sim_df.fillna(0)).cumprod()\n",
      "C:\\Users\\Nia\\OneDrive\\Desktop\\UNCC Fintech Bootcamp\\Python\\Projects\\Project 1\\Bitcoin-Advisor-\\Project 1\\MCForecastTools.py:117: PerformanceWarning: DataFrame is highly fragmented.  This is usually the result of calling `frame.insert` many times, which has poor performance.  Consider joining all columns at once using pd.concat(axis=1) instead. To get a de-fragmented frame, use `newframe = frame.copy()`\n",
      "  portfolio_cumulative_returns[n] = (1 + sim_df.fillna(0)).cumprod()\n",
      "C:\\Users\\Nia\\OneDrive\\Desktop\\UNCC Fintech Bootcamp\\Python\\Projects\\Project 1\\Bitcoin-Advisor-\\Project 1\\MCForecastTools.py:117: PerformanceWarning: DataFrame is highly fragmented.  This is usually the result of calling `frame.insert` many times, which has poor performance.  Consider joining all columns at once using pd.concat(axis=1) instead. To get a de-fragmented frame, use `newframe = frame.copy()`\n",
      "  portfolio_cumulative_returns[n] = (1 + sim_df.fillna(0)).cumprod()\n"
     ]
    },
    {
     "name": "stdout",
     "output_type": "stream",
     "text": [
      "Running Monte Carlo simulation number 150.\n"
     ]
    },
    {
     "name": "stderr",
     "output_type": "stream",
     "text": [
      "C:\\Users\\Nia\\OneDrive\\Desktop\\UNCC Fintech Bootcamp\\Python\\Projects\\Project 1\\Bitcoin-Advisor-\\Project 1\\MCForecastTools.py:117: PerformanceWarning: DataFrame is highly fragmented.  This is usually the result of calling `frame.insert` many times, which has poor performance.  Consider joining all columns at once using pd.concat(axis=1) instead. To get a de-fragmented frame, use `newframe = frame.copy()`\n",
      "  portfolio_cumulative_returns[n] = (1 + sim_df.fillna(0)).cumprod()\n",
      "C:\\Users\\Nia\\OneDrive\\Desktop\\UNCC Fintech Bootcamp\\Python\\Projects\\Project 1\\Bitcoin-Advisor-\\Project 1\\MCForecastTools.py:117: PerformanceWarning: DataFrame is highly fragmented.  This is usually the result of calling `frame.insert` many times, which has poor performance.  Consider joining all columns at once using pd.concat(axis=1) instead. To get a de-fragmented frame, use `newframe = frame.copy()`\n",
      "  portfolio_cumulative_returns[n] = (1 + sim_df.fillna(0)).cumprod()\n",
      "C:\\Users\\Nia\\OneDrive\\Desktop\\UNCC Fintech Bootcamp\\Python\\Projects\\Project 1\\Bitcoin-Advisor-\\Project 1\\MCForecastTools.py:117: PerformanceWarning: DataFrame is highly fragmented.  This is usually the result of calling `frame.insert` many times, which has poor performance.  Consider joining all columns at once using pd.concat(axis=1) instead. To get a de-fragmented frame, use `newframe = frame.copy()`\n",
      "  portfolio_cumulative_returns[n] = (1 + sim_df.fillna(0)).cumprod()\n",
      "C:\\Users\\Nia\\OneDrive\\Desktop\\UNCC Fintech Bootcamp\\Python\\Projects\\Project 1\\Bitcoin-Advisor-\\Project 1\\MCForecastTools.py:117: PerformanceWarning: DataFrame is highly fragmented.  This is usually the result of calling `frame.insert` many times, which has poor performance.  Consider joining all columns at once using pd.concat(axis=1) instead. To get a de-fragmented frame, use `newframe = frame.copy()`\n",
      "  portfolio_cumulative_returns[n] = (1 + sim_df.fillna(0)).cumprod()\n",
      "C:\\Users\\Nia\\OneDrive\\Desktop\\UNCC Fintech Bootcamp\\Python\\Projects\\Project 1\\Bitcoin-Advisor-\\Project 1\\MCForecastTools.py:117: PerformanceWarning: DataFrame is highly fragmented.  This is usually the result of calling `frame.insert` many times, which has poor performance.  Consider joining all columns at once using pd.concat(axis=1) instead. To get a de-fragmented frame, use `newframe = frame.copy()`\n",
      "  portfolio_cumulative_returns[n] = (1 + sim_df.fillna(0)).cumprod()\n",
      "C:\\Users\\Nia\\OneDrive\\Desktop\\UNCC Fintech Bootcamp\\Python\\Projects\\Project 1\\Bitcoin-Advisor-\\Project 1\\MCForecastTools.py:117: PerformanceWarning: DataFrame is highly fragmented.  This is usually the result of calling `frame.insert` many times, which has poor performance.  Consider joining all columns at once using pd.concat(axis=1) instead. To get a de-fragmented frame, use `newframe = frame.copy()`\n",
      "  portfolio_cumulative_returns[n] = (1 + sim_df.fillna(0)).cumprod()\n",
      "C:\\Users\\Nia\\OneDrive\\Desktop\\UNCC Fintech Bootcamp\\Python\\Projects\\Project 1\\Bitcoin-Advisor-\\Project 1\\MCForecastTools.py:117: PerformanceWarning: DataFrame is highly fragmented.  This is usually the result of calling `frame.insert` many times, which has poor performance.  Consider joining all columns at once using pd.concat(axis=1) instead. To get a de-fragmented frame, use `newframe = frame.copy()`\n",
      "  portfolio_cumulative_returns[n] = (1 + sim_df.fillna(0)).cumprod()\n",
      "C:\\Users\\Nia\\OneDrive\\Desktop\\UNCC Fintech Bootcamp\\Python\\Projects\\Project 1\\Bitcoin-Advisor-\\Project 1\\MCForecastTools.py:117: PerformanceWarning: DataFrame is highly fragmented.  This is usually the result of calling `frame.insert` many times, which has poor performance.  Consider joining all columns at once using pd.concat(axis=1) instead. To get a de-fragmented frame, use `newframe = frame.copy()`\n",
      "  portfolio_cumulative_returns[n] = (1 + sim_df.fillna(0)).cumprod()\n",
      "C:\\Users\\Nia\\OneDrive\\Desktop\\UNCC Fintech Bootcamp\\Python\\Projects\\Project 1\\Bitcoin-Advisor-\\Project 1\\MCForecastTools.py:117: PerformanceWarning: DataFrame is highly fragmented.  This is usually the result of calling `frame.insert` many times, which has poor performance.  Consider joining all columns at once using pd.concat(axis=1) instead. To get a de-fragmented frame, use `newframe = frame.copy()`\n",
      "  portfolio_cumulative_returns[n] = (1 + sim_df.fillna(0)).cumprod()\n"
     ]
    },
    {
     "name": "stdout",
     "output_type": "stream",
     "text": [
      "Running Monte Carlo simulation number 160.\n"
     ]
    },
    {
     "name": "stderr",
     "output_type": "stream",
     "text": [
      "C:\\Users\\Nia\\OneDrive\\Desktop\\UNCC Fintech Bootcamp\\Python\\Projects\\Project 1\\Bitcoin-Advisor-\\Project 1\\MCForecastTools.py:117: PerformanceWarning: DataFrame is highly fragmented.  This is usually the result of calling `frame.insert` many times, which has poor performance.  Consider joining all columns at once using pd.concat(axis=1) instead. To get a de-fragmented frame, use `newframe = frame.copy()`\n",
      "  portfolio_cumulative_returns[n] = (1 + sim_df.fillna(0)).cumprod()\n",
      "C:\\Users\\Nia\\OneDrive\\Desktop\\UNCC Fintech Bootcamp\\Python\\Projects\\Project 1\\Bitcoin-Advisor-\\Project 1\\MCForecastTools.py:117: PerformanceWarning: DataFrame is highly fragmented.  This is usually the result of calling `frame.insert` many times, which has poor performance.  Consider joining all columns at once using pd.concat(axis=1) instead. To get a de-fragmented frame, use `newframe = frame.copy()`\n",
      "  portfolio_cumulative_returns[n] = (1 + sim_df.fillna(0)).cumprod()\n",
      "C:\\Users\\Nia\\OneDrive\\Desktop\\UNCC Fintech Bootcamp\\Python\\Projects\\Project 1\\Bitcoin-Advisor-\\Project 1\\MCForecastTools.py:117: PerformanceWarning: DataFrame is highly fragmented.  This is usually the result of calling `frame.insert` many times, which has poor performance.  Consider joining all columns at once using pd.concat(axis=1) instead. To get a de-fragmented frame, use `newframe = frame.copy()`\n",
      "  portfolio_cumulative_returns[n] = (1 + sim_df.fillna(0)).cumprod()\n",
      "C:\\Users\\Nia\\OneDrive\\Desktop\\UNCC Fintech Bootcamp\\Python\\Projects\\Project 1\\Bitcoin-Advisor-\\Project 1\\MCForecastTools.py:117: PerformanceWarning: DataFrame is highly fragmented.  This is usually the result of calling `frame.insert` many times, which has poor performance.  Consider joining all columns at once using pd.concat(axis=1) instead. To get a de-fragmented frame, use `newframe = frame.copy()`\n",
      "  portfolio_cumulative_returns[n] = (1 + sim_df.fillna(0)).cumprod()\n",
      "C:\\Users\\Nia\\OneDrive\\Desktop\\UNCC Fintech Bootcamp\\Python\\Projects\\Project 1\\Bitcoin-Advisor-\\Project 1\\MCForecastTools.py:117: PerformanceWarning: DataFrame is highly fragmented.  This is usually the result of calling `frame.insert` many times, which has poor performance.  Consider joining all columns at once using pd.concat(axis=1) instead. To get a de-fragmented frame, use `newframe = frame.copy()`\n",
      "  portfolio_cumulative_returns[n] = (1 + sim_df.fillna(0)).cumprod()\n",
      "C:\\Users\\Nia\\OneDrive\\Desktop\\UNCC Fintech Bootcamp\\Python\\Projects\\Project 1\\Bitcoin-Advisor-\\Project 1\\MCForecastTools.py:117: PerformanceWarning: DataFrame is highly fragmented.  This is usually the result of calling `frame.insert` many times, which has poor performance.  Consider joining all columns at once using pd.concat(axis=1) instead. To get a de-fragmented frame, use `newframe = frame.copy()`\n",
      "  portfolio_cumulative_returns[n] = (1 + sim_df.fillna(0)).cumprod()\n",
      "C:\\Users\\Nia\\OneDrive\\Desktop\\UNCC Fintech Bootcamp\\Python\\Projects\\Project 1\\Bitcoin-Advisor-\\Project 1\\MCForecastTools.py:117: PerformanceWarning: DataFrame is highly fragmented.  This is usually the result of calling `frame.insert` many times, which has poor performance.  Consider joining all columns at once using pd.concat(axis=1) instead. To get a de-fragmented frame, use `newframe = frame.copy()`\n",
      "  portfolio_cumulative_returns[n] = (1 + sim_df.fillna(0)).cumprod()\n",
      "C:\\Users\\Nia\\OneDrive\\Desktop\\UNCC Fintech Bootcamp\\Python\\Projects\\Project 1\\Bitcoin-Advisor-\\Project 1\\MCForecastTools.py:117: PerformanceWarning: DataFrame is highly fragmented.  This is usually the result of calling `frame.insert` many times, which has poor performance.  Consider joining all columns at once using pd.concat(axis=1) instead. To get a de-fragmented frame, use `newframe = frame.copy()`\n",
      "  portfolio_cumulative_returns[n] = (1 + sim_df.fillna(0)).cumprod()\n",
      "C:\\Users\\Nia\\OneDrive\\Desktop\\UNCC Fintech Bootcamp\\Python\\Projects\\Project 1\\Bitcoin-Advisor-\\Project 1\\MCForecastTools.py:117: PerformanceWarning: DataFrame is highly fragmented.  This is usually the result of calling `frame.insert` many times, which has poor performance.  Consider joining all columns at once using pd.concat(axis=1) instead. To get a de-fragmented frame, use `newframe = frame.copy()`\n",
      "  portfolio_cumulative_returns[n] = (1 + sim_df.fillna(0)).cumprod()\n",
      "C:\\Users\\Nia\\OneDrive\\Desktop\\UNCC Fintech Bootcamp\\Python\\Projects\\Project 1\\Bitcoin-Advisor-\\Project 1\\MCForecastTools.py:117: PerformanceWarning: DataFrame is highly fragmented.  This is usually the result of calling `frame.insert` many times, which has poor performance.  Consider joining all columns at once using pd.concat(axis=1) instead. To get a de-fragmented frame, use `newframe = frame.copy()`\n",
      "  portfolio_cumulative_returns[n] = (1 + sim_df.fillna(0)).cumprod()\n",
      "C:\\Users\\Nia\\OneDrive\\Desktop\\UNCC Fintech Bootcamp\\Python\\Projects\\Project 1\\Bitcoin-Advisor-\\Project 1\\MCForecastTools.py:117: PerformanceWarning: DataFrame is highly fragmented.  This is usually the result of calling `frame.insert` many times, which has poor performance.  Consider joining all columns at once using pd.concat(axis=1) instead. To get a de-fragmented frame, use `newframe = frame.copy()`\n",
      "  portfolio_cumulative_returns[n] = (1 + sim_df.fillna(0)).cumprod()\n",
      "C:\\Users\\Nia\\OneDrive\\Desktop\\UNCC Fintech Bootcamp\\Python\\Projects\\Project 1\\Bitcoin-Advisor-\\Project 1\\MCForecastTools.py:117: PerformanceWarning: DataFrame is highly fragmented.  This is usually the result of calling `frame.insert` many times, which has poor performance.  Consider joining all columns at once using pd.concat(axis=1) instead. To get a de-fragmented frame, use `newframe = frame.copy()`\n",
      "  portfolio_cumulative_returns[n] = (1 + sim_df.fillna(0)).cumprod()\n",
      "C:\\Users\\Nia\\OneDrive\\Desktop\\UNCC Fintech Bootcamp\\Python\\Projects\\Project 1\\Bitcoin-Advisor-\\Project 1\\MCForecastTools.py:117: PerformanceWarning: DataFrame is highly fragmented.  This is usually the result of calling `frame.insert` many times, which has poor performance.  Consider joining all columns at once using pd.concat(axis=1) instead. To get a de-fragmented frame, use `newframe = frame.copy()`\n",
      "  portfolio_cumulative_returns[n] = (1 + sim_df.fillna(0)).cumprod()\n",
      "C:\\Users\\Nia\\OneDrive\\Desktop\\UNCC Fintech Bootcamp\\Python\\Projects\\Project 1\\Bitcoin-Advisor-\\Project 1\\MCForecastTools.py:117: PerformanceWarning: DataFrame is highly fragmented.  This is usually the result of calling `frame.insert` many times, which has poor performance.  Consider joining all columns at once using pd.concat(axis=1) instead. To get a de-fragmented frame, use `newframe = frame.copy()`\n",
      "  portfolio_cumulative_returns[n] = (1 + sim_df.fillna(0)).cumprod()\n"
     ]
    },
    {
     "name": "stdout",
     "output_type": "stream",
     "text": [
      "Running Monte Carlo simulation number 170.\n"
     ]
    },
    {
     "name": "stderr",
     "output_type": "stream",
     "text": [
      "C:\\Users\\Nia\\OneDrive\\Desktop\\UNCC Fintech Bootcamp\\Python\\Projects\\Project 1\\Bitcoin-Advisor-\\Project 1\\MCForecastTools.py:117: PerformanceWarning: DataFrame is highly fragmented.  This is usually the result of calling `frame.insert` many times, which has poor performance.  Consider joining all columns at once using pd.concat(axis=1) instead. To get a de-fragmented frame, use `newframe = frame.copy()`\n",
      "  portfolio_cumulative_returns[n] = (1 + sim_df.fillna(0)).cumprod()\n",
      "C:\\Users\\Nia\\OneDrive\\Desktop\\UNCC Fintech Bootcamp\\Python\\Projects\\Project 1\\Bitcoin-Advisor-\\Project 1\\MCForecastTools.py:117: PerformanceWarning: DataFrame is highly fragmented.  This is usually the result of calling `frame.insert` many times, which has poor performance.  Consider joining all columns at once using pd.concat(axis=1) instead. To get a de-fragmented frame, use `newframe = frame.copy()`\n",
      "  portfolio_cumulative_returns[n] = (1 + sim_df.fillna(0)).cumprod()\n",
      "C:\\Users\\Nia\\OneDrive\\Desktop\\UNCC Fintech Bootcamp\\Python\\Projects\\Project 1\\Bitcoin-Advisor-\\Project 1\\MCForecastTools.py:117: PerformanceWarning: DataFrame is highly fragmented.  This is usually the result of calling `frame.insert` many times, which has poor performance.  Consider joining all columns at once using pd.concat(axis=1) instead. To get a de-fragmented frame, use `newframe = frame.copy()`\n",
      "  portfolio_cumulative_returns[n] = (1 + sim_df.fillna(0)).cumprod()\n",
      "C:\\Users\\Nia\\OneDrive\\Desktop\\UNCC Fintech Bootcamp\\Python\\Projects\\Project 1\\Bitcoin-Advisor-\\Project 1\\MCForecastTools.py:117: PerformanceWarning: DataFrame is highly fragmented.  This is usually the result of calling `frame.insert` many times, which has poor performance.  Consider joining all columns at once using pd.concat(axis=1) instead. To get a de-fragmented frame, use `newframe = frame.copy()`\n",
      "  portfolio_cumulative_returns[n] = (1 + sim_df.fillna(0)).cumprod()\n",
      "C:\\Users\\Nia\\OneDrive\\Desktop\\UNCC Fintech Bootcamp\\Python\\Projects\\Project 1\\Bitcoin-Advisor-\\Project 1\\MCForecastTools.py:117: PerformanceWarning: DataFrame is highly fragmented.  This is usually the result of calling `frame.insert` many times, which has poor performance.  Consider joining all columns at once using pd.concat(axis=1) instead. To get a de-fragmented frame, use `newframe = frame.copy()`\n",
      "  portfolio_cumulative_returns[n] = (1 + sim_df.fillna(0)).cumprod()\n",
      "C:\\Users\\Nia\\OneDrive\\Desktop\\UNCC Fintech Bootcamp\\Python\\Projects\\Project 1\\Bitcoin-Advisor-\\Project 1\\MCForecastTools.py:117: PerformanceWarning: DataFrame is highly fragmented.  This is usually the result of calling `frame.insert` many times, which has poor performance.  Consider joining all columns at once using pd.concat(axis=1) instead. To get a de-fragmented frame, use `newframe = frame.copy()`\n",
      "  portfolio_cumulative_returns[n] = (1 + sim_df.fillna(0)).cumprod()\n",
      "C:\\Users\\Nia\\OneDrive\\Desktop\\UNCC Fintech Bootcamp\\Python\\Projects\\Project 1\\Bitcoin-Advisor-\\Project 1\\MCForecastTools.py:117: PerformanceWarning: DataFrame is highly fragmented.  This is usually the result of calling `frame.insert` many times, which has poor performance.  Consider joining all columns at once using pd.concat(axis=1) instead. To get a de-fragmented frame, use `newframe = frame.copy()`\n",
      "  portfolio_cumulative_returns[n] = (1 + sim_df.fillna(0)).cumprod()\n",
      "C:\\Users\\Nia\\OneDrive\\Desktop\\UNCC Fintech Bootcamp\\Python\\Projects\\Project 1\\Bitcoin-Advisor-\\Project 1\\MCForecastTools.py:117: PerformanceWarning: DataFrame is highly fragmented.  This is usually the result of calling `frame.insert` many times, which has poor performance.  Consider joining all columns at once using pd.concat(axis=1) instead. To get a de-fragmented frame, use `newframe = frame.copy()`\n",
      "  portfolio_cumulative_returns[n] = (1 + sim_df.fillna(0)).cumprod()\n",
      "C:\\Users\\Nia\\OneDrive\\Desktop\\UNCC Fintech Bootcamp\\Python\\Projects\\Project 1\\Bitcoin-Advisor-\\Project 1\\MCForecastTools.py:117: PerformanceWarning: DataFrame is highly fragmented.  This is usually the result of calling `frame.insert` many times, which has poor performance.  Consider joining all columns at once using pd.concat(axis=1) instead. To get a de-fragmented frame, use `newframe = frame.copy()`\n",
      "  portfolio_cumulative_returns[n] = (1 + sim_df.fillna(0)).cumprod()\n",
      "C:\\Users\\Nia\\OneDrive\\Desktop\\UNCC Fintech Bootcamp\\Python\\Projects\\Project 1\\Bitcoin-Advisor-\\Project 1\\MCForecastTools.py:117: PerformanceWarning: DataFrame is highly fragmented.  This is usually the result of calling `frame.insert` many times, which has poor performance.  Consider joining all columns at once using pd.concat(axis=1) instead. To get a de-fragmented frame, use `newframe = frame.copy()`\n",
      "  portfolio_cumulative_returns[n] = (1 + sim_df.fillna(0)).cumprod()\n"
     ]
    },
    {
     "name": "stdout",
     "output_type": "stream",
     "text": [
      "Running Monte Carlo simulation number 180.\n"
     ]
    },
    {
     "name": "stderr",
     "output_type": "stream",
     "text": [
      "C:\\Users\\Nia\\OneDrive\\Desktop\\UNCC Fintech Bootcamp\\Python\\Projects\\Project 1\\Bitcoin-Advisor-\\Project 1\\MCForecastTools.py:117: PerformanceWarning: DataFrame is highly fragmented.  This is usually the result of calling `frame.insert` many times, which has poor performance.  Consider joining all columns at once using pd.concat(axis=1) instead. To get a de-fragmented frame, use `newframe = frame.copy()`\n",
      "  portfolio_cumulative_returns[n] = (1 + sim_df.fillna(0)).cumprod()\n",
      "C:\\Users\\Nia\\OneDrive\\Desktop\\UNCC Fintech Bootcamp\\Python\\Projects\\Project 1\\Bitcoin-Advisor-\\Project 1\\MCForecastTools.py:117: PerformanceWarning: DataFrame is highly fragmented.  This is usually the result of calling `frame.insert` many times, which has poor performance.  Consider joining all columns at once using pd.concat(axis=1) instead. To get a de-fragmented frame, use `newframe = frame.copy()`\n",
      "  portfolio_cumulative_returns[n] = (1 + sim_df.fillna(0)).cumprod()\n",
      "C:\\Users\\Nia\\OneDrive\\Desktop\\UNCC Fintech Bootcamp\\Python\\Projects\\Project 1\\Bitcoin-Advisor-\\Project 1\\MCForecastTools.py:117: PerformanceWarning: DataFrame is highly fragmented.  This is usually the result of calling `frame.insert` many times, which has poor performance.  Consider joining all columns at once using pd.concat(axis=1) instead. To get a de-fragmented frame, use `newframe = frame.copy()`\n",
      "  portfolio_cumulative_returns[n] = (1 + sim_df.fillna(0)).cumprod()\n",
      "C:\\Users\\Nia\\OneDrive\\Desktop\\UNCC Fintech Bootcamp\\Python\\Projects\\Project 1\\Bitcoin-Advisor-\\Project 1\\MCForecastTools.py:117: PerformanceWarning: DataFrame is highly fragmented.  This is usually the result of calling `frame.insert` many times, which has poor performance.  Consider joining all columns at once using pd.concat(axis=1) instead. To get a de-fragmented frame, use `newframe = frame.copy()`\n",
      "  portfolio_cumulative_returns[n] = (1 + sim_df.fillna(0)).cumprod()\n",
      "C:\\Users\\Nia\\OneDrive\\Desktop\\UNCC Fintech Bootcamp\\Python\\Projects\\Project 1\\Bitcoin-Advisor-\\Project 1\\MCForecastTools.py:117: PerformanceWarning: DataFrame is highly fragmented.  This is usually the result of calling `frame.insert` many times, which has poor performance.  Consider joining all columns at once using pd.concat(axis=1) instead. To get a de-fragmented frame, use `newframe = frame.copy()`\n",
      "  portfolio_cumulative_returns[n] = (1 + sim_df.fillna(0)).cumprod()\n",
      "C:\\Users\\Nia\\OneDrive\\Desktop\\UNCC Fintech Bootcamp\\Python\\Projects\\Project 1\\Bitcoin-Advisor-\\Project 1\\MCForecastTools.py:117: PerformanceWarning: DataFrame is highly fragmented.  This is usually the result of calling `frame.insert` many times, which has poor performance.  Consider joining all columns at once using pd.concat(axis=1) instead. To get a de-fragmented frame, use `newframe = frame.copy()`\n",
      "  portfolio_cumulative_returns[n] = (1 + sim_df.fillna(0)).cumprod()\n",
      "C:\\Users\\Nia\\OneDrive\\Desktop\\UNCC Fintech Bootcamp\\Python\\Projects\\Project 1\\Bitcoin-Advisor-\\Project 1\\MCForecastTools.py:117: PerformanceWarning: DataFrame is highly fragmented.  This is usually the result of calling `frame.insert` many times, which has poor performance.  Consider joining all columns at once using pd.concat(axis=1) instead. To get a de-fragmented frame, use `newframe = frame.copy()`\n",
      "  portfolio_cumulative_returns[n] = (1 + sim_df.fillna(0)).cumprod()\n",
      "C:\\Users\\Nia\\OneDrive\\Desktop\\UNCC Fintech Bootcamp\\Python\\Projects\\Project 1\\Bitcoin-Advisor-\\Project 1\\MCForecastTools.py:117: PerformanceWarning: DataFrame is highly fragmented.  This is usually the result of calling `frame.insert` many times, which has poor performance.  Consider joining all columns at once using pd.concat(axis=1) instead. To get a de-fragmented frame, use `newframe = frame.copy()`\n",
      "  portfolio_cumulative_returns[n] = (1 + sim_df.fillna(0)).cumprod()\n",
      "C:\\Users\\Nia\\OneDrive\\Desktop\\UNCC Fintech Bootcamp\\Python\\Projects\\Project 1\\Bitcoin-Advisor-\\Project 1\\MCForecastTools.py:117: PerformanceWarning: DataFrame is highly fragmented.  This is usually the result of calling `frame.insert` many times, which has poor performance.  Consider joining all columns at once using pd.concat(axis=1) instead. To get a de-fragmented frame, use `newframe = frame.copy()`\n",
      "  portfolio_cumulative_returns[n] = (1 + sim_df.fillna(0)).cumprod()\n",
      "C:\\Users\\Nia\\OneDrive\\Desktop\\UNCC Fintech Bootcamp\\Python\\Projects\\Project 1\\Bitcoin-Advisor-\\Project 1\\MCForecastTools.py:117: PerformanceWarning: DataFrame is highly fragmented.  This is usually the result of calling `frame.insert` many times, which has poor performance.  Consider joining all columns at once using pd.concat(axis=1) instead. To get a de-fragmented frame, use `newframe = frame.copy()`\n",
      "  portfolio_cumulative_returns[n] = (1 + sim_df.fillna(0)).cumprod()\n"
     ]
    },
    {
     "name": "stdout",
     "output_type": "stream",
     "text": [
      "Running Monte Carlo simulation number 190.\n"
     ]
    },
    {
     "name": "stderr",
     "output_type": "stream",
     "text": [
      "C:\\Users\\Nia\\OneDrive\\Desktop\\UNCC Fintech Bootcamp\\Python\\Projects\\Project 1\\Bitcoin-Advisor-\\Project 1\\MCForecastTools.py:117: PerformanceWarning: DataFrame is highly fragmented.  This is usually the result of calling `frame.insert` many times, which has poor performance.  Consider joining all columns at once using pd.concat(axis=1) instead. To get a de-fragmented frame, use `newframe = frame.copy()`\n",
      "  portfolio_cumulative_returns[n] = (1 + sim_df.fillna(0)).cumprod()\n",
      "C:\\Users\\Nia\\OneDrive\\Desktop\\UNCC Fintech Bootcamp\\Python\\Projects\\Project 1\\Bitcoin-Advisor-\\Project 1\\MCForecastTools.py:117: PerformanceWarning: DataFrame is highly fragmented.  This is usually the result of calling `frame.insert` many times, which has poor performance.  Consider joining all columns at once using pd.concat(axis=1) instead. To get a de-fragmented frame, use `newframe = frame.copy()`\n",
      "  portfolio_cumulative_returns[n] = (1 + sim_df.fillna(0)).cumprod()\n",
      "C:\\Users\\Nia\\OneDrive\\Desktop\\UNCC Fintech Bootcamp\\Python\\Projects\\Project 1\\Bitcoin-Advisor-\\Project 1\\MCForecastTools.py:117: PerformanceWarning: DataFrame is highly fragmented.  This is usually the result of calling `frame.insert` many times, which has poor performance.  Consider joining all columns at once using pd.concat(axis=1) instead. To get a de-fragmented frame, use `newframe = frame.copy()`\n",
      "  portfolio_cumulative_returns[n] = (1 + sim_df.fillna(0)).cumprod()\n",
      "C:\\Users\\Nia\\OneDrive\\Desktop\\UNCC Fintech Bootcamp\\Python\\Projects\\Project 1\\Bitcoin-Advisor-\\Project 1\\MCForecastTools.py:117: PerformanceWarning: DataFrame is highly fragmented.  This is usually the result of calling `frame.insert` many times, which has poor performance.  Consider joining all columns at once using pd.concat(axis=1) instead. To get a de-fragmented frame, use `newframe = frame.copy()`\n",
      "  portfolio_cumulative_returns[n] = (1 + sim_df.fillna(0)).cumprod()\n",
      "C:\\Users\\Nia\\OneDrive\\Desktop\\UNCC Fintech Bootcamp\\Python\\Projects\\Project 1\\Bitcoin-Advisor-\\Project 1\\MCForecastTools.py:117: PerformanceWarning: DataFrame is highly fragmented.  This is usually the result of calling `frame.insert` many times, which has poor performance.  Consider joining all columns at once using pd.concat(axis=1) instead. To get a de-fragmented frame, use `newframe = frame.copy()`\n",
      "  portfolio_cumulative_returns[n] = (1 + sim_df.fillna(0)).cumprod()\n",
      "C:\\Users\\Nia\\OneDrive\\Desktop\\UNCC Fintech Bootcamp\\Python\\Projects\\Project 1\\Bitcoin-Advisor-\\Project 1\\MCForecastTools.py:117: PerformanceWarning: DataFrame is highly fragmented.  This is usually the result of calling `frame.insert` many times, which has poor performance.  Consider joining all columns at once using pd.concat(axis=1) instead. To get a de-fragmented frame, use `newframe = frame.copy()`\n",
      "  portfolio_cumulative_returns[n] = (1 + sim_df.fillna(0)).cumprod()\n",
      "C:\\Users\\Nia\\OneDrive\\Desktop\\UNCC Fintech Bootcamp\\Python\\Projects\\Project 1\\Bitcoin-Advisor-\\Project 1\\MCForecastTools.py:117: PerformanceWarning: DataFrame is highly fragmented.  This is usually the result of calling `frame.insert` many times, which has poor performance.  Consider joining all columns at once using pd.concat(axis=1) instead. To get a de-fragmented frame, use `newframe = frame.copy()`\n",
      "  portfolio_cumulative_returns[n] = (1 + sim_df.fillna(0)).cumprod()\n",
      "C:\\Users\\Nia\\OneDrive\\Desktop\\UNCC Fintech Bootcamp\\Python\\Projects\\Project 1\\Bitcoin-Advisor-\\Project 1\\MCForecastTools.py:117: PerformanceWarning: DataFrame is highly fragmented.  This is usually the result of calling `frame.insert` many times, which has poor performance.  Consider joining all columns at once using pd.concat(axis=1) instead. To get a de-fragmented frame, use `newframe = frame.copy()`\n",
      "  portfolio_cumulative_returns[n] = (1 + sim_df.fillna(0)).cumprod()\n",
      "C:\\Users\\Nia\\OneDrive\\Desktop\\UNCC Fintech Bootcamp\\Python\\Projects\\Project 1\\Bitcoin-Advisor-\\Project 1\\MCForecastTools.py:117: PerformanceWarning: DataFrame is highly fragmented.  This is usually the result of calling `frame.insert` many times, which has poor performance.  Consider joining all columns at once using pd.concat(axis=1) instead. To get a de-fragmented frame, use `newframe = frame.copy()`\n",
      "  portfolio_cumulative_returns[n] = (1 + sim_df.fillna(0)).cumprod()\n"
     ]
    },
    {
     "name": "stdout",
     "output_type": "stream",
     "text": [
      "Running Monte Carlo simulation number 200.\n"
     ]
    },
    {
     "name": "stderr",
     "output_type": "stream",
     "text": [
      "C:\\Users\\Nia\\OneDrive\\Desktop\\UNCC Fintech Bootcamp\\Python\\Projects\\Project 1\\Bitcoin-Advisor-\\Project 1\\MCForecastTools.py:117: PerformanceWarning: DataFrame is highly fragmented.  This is usually the result of calling `frame.insert` many times, which has poor performance.  Consider joining all columns at once using pd.concat(axis=1) instead. To get a de-fragmented frame, use `newframe = frame.copy()`\n",
      "  portfolio_cumulative_returns[n] = (1 + sim_df.fillna(0)).cumprod()\n",
      "C:\\Users\\Nia\\OneDrive\\Desktop\\UNCC Fintech Bootcamp\\Python\\Projects\\Project 1\\Bitcoin-Advisor-\\Project 1\\MCForecastTools.py:117: PerformanceWarning: DataFrame is highly fragmented.  This is usually the result of calling `frame.insert` many times, which has poor performance.  Consider joining all columns at once using pd.concat(axis=1) instead. To get a de-fragmented frame, use `newframe = frame.copy()`\n",
      "  portfolio_cumulative_returns[n] = (1 + sim_df.fillna(0)).cumprod()\n",
      "C:\\Users\\Nia\\OneDrive\\Desktop\\UNCC Fintech Bootcamp\\Python\\Projects\\Project 1\\Bitcoin-Advisor-\\Project 1\\MCForecastTools.py:117: PerformanceWarning: DataFrame is highly fragmented.  This is usually the result of calling `frame.insert` many times, which has poor performance.  Consider joining all columns at once using pd.concat(axis=1) instead. To get a de-fragmented frame, use `newframe = frame.copy()`\n",
      "  portfolio_cumulative_returns[n] = (1 + sim_df.fillna(0)).cumprod()\n",
      "C:\\Users\\Nia\\OneDrive\\Desktop\\UNCC Fintech Bootcamp\\Python\\Projects\\Project 1\\Bitcoin-Advisor-\\Project 1\\MCForecastTools.py:117: PerformanceWarning: DataFrame is highly fragmented.  This is usually the result of calling `frame.insert` many times, which has poor performance.  Consider joining all columns at once using pd.concat(axis=1) instead. To get a de-fragmented frame, use `newframe = frame.copy()`\n",
      "  portfolio_cumulative_returns[n] = (1 + sim_df.fillna(0)).cumprod()\n",
      "C:\\Users\\Nia\\OneDrive\\Desktop\\UNCC Fintech Bootcamp\\Python\\Projects\\Project 1\\Bitcoin-Advisor-\\Project 1\\MCForecastTools.py:117: PerformanceWarning: DataFrame is highly fragmented.  This is usually the result of calling `frame.insert` many times, which has poor performance.  Consider joining all columns at once using pd.concat(axis=1) instead. To get a de-fragmented frame, use `newframe = frame.copy()`\n",
      "  portfolio_cumulative_returns[n] = (1 + sim_df.fillna(0)).cumprod()\n",
      "C:\\Users\\Nia\\OneDrive\\Desktop\\UNCC Fintech Bootcamp\\Python\\Projects\\Project 1\\Bitcoin-Advisor-\\Project 1\\MCForecastTools.py:117: PerformanceWarning: DataFrame is highly fragmented.  This is usually the result of calling `frame.insert` many times, which has poor performance.  Consider joining all columns at once using pd.concat(axis=1) instead. To get a de-fragmented frame, use `newframe = frame.copy()`\n",
      "  portfolio_cumulative_returns[n] = (1 + sim_df.fillna(0)).cumprod()\n",
      "C:\\Users\\Nia\\OneDrive\\Desktop\\UNCC Fintech Bootcamp\\Python\\Projects\\Project 1\\Bitcoin-Advisor-\\Project 1\\MCForecastTools.py:117: PerformanceWarning: DataFrame is highly fragmented.  This is usually the result of calling `frame.insert` many times, which has poor performance.  Consider joining all columns at once using pd.concat(axis=1) instead. To get a de-fragmented frame, use `newframe = frame.copy()`\n",
      "  portfolio_cumulative_returns[n] = (1 + sim_df.fillna(0)).cumprod()\n",
      "C:\\Users\\Nia\\OneDrive\\Desktop\\UNCC Fintech Bootcamp\\Python\\Projects\\Project 1\\Bitcoin-Advisor-\\Project 1\\MCForecastTools.py:117: PerformanceWarning: DataFrame is highly fragmented.  This is usually the result of calling `frame.insert` many times, which has poor performance.  Consider joining all columns at once using pd.concat(axis=1) instead. To get a de-fragmented frame, use `newframe = frame.copy()`\n",
      "  portfolio_cumulative_returns[n] = (1 + sim_df.fillna(0)).cumprod()\n",
      "C:\\Users\\Nia\\OneDrive\\Desktop\\UNCC Fintech Bootcamp\\Python\\Projects\\Project 1\\Bitcoin-Advisor-\\Project 1\\MCForecastTools.py:117: PerformanceWarning: DataFrame is highly fragmented.  This is usually the result of calling `frame.insert` many times, which has poor performance.  Consider joining all columns at once using pd.concat(axis=1) instead. To get a de-fragmented frame, use `newframe = frame.copy()`\n",
      "  portfolio_cumulative_returns[n] = (1 + sim_df.fillna(0)).cumprod()\n",
      "C:\\Users\\Nia\\OneDrive\\Desktop\\UNCC Fintech Bootcamp\\Python\\Projects\\Project 1\\Bitcoin-Advisor-\\Project 1\\MCForecastTools.py:117: PerformanceWarning: DataFrame is highly fragmented.  This is usually the result of calling `frame.insert` many times, which has poor performance.  Consider joining all columns at once using pd.concat(axis=1) instead. To get a de-fragmented frame, use `newframe = frame.copy()`\n",
      "  portfolio_cumulative_returns[n] = (1 + sim_df.fillna(0)).cumprod()\n",
      "C:\\Users\\Nia\\OneDrive\\Desktop\\UNCC Fintech Bootcamp\\Python\\Projects\\Project 1\\Bitcoin-Advisor-\\Project 1\\MCForecastTools.py:117: PerformanceWarning: DataFrame is highly fragmented.  This is usually the result of calling `frame.insert` many times, which has poor performance.  Consider joining all columns at once using pd.concat(axis=1) instead. To get a de-fragmented frame, use `newframe = frame.copy()`\n",
      "  portfolio_cumulative_returns[n] = (1 + sim_df.fillna(0)).cumprod()\n"
     ]
    },
    {
     "name": "stdout",
     "output_type": "stream",
     "text": [
      "Running Monte Carlo simulation number 210.\n"
     ]
    },
    {
     "name": "stderr",
     "output_type": "stream",
     "text": [
      "C:\\Users\\Nia\\OneDrive\\Desktop\\UNCC Fintech Bootcamp\\Python\\Projects\\Project 1\\Bitcoin-Advisor-\\Project 1\\MCForecastTools.py:117: PerformanceWarning: DataFrame is highly fragmented.  This is usually the result of calling `frame.insert` many times, which has poor performance.  Consider joining all columns at once using pd.concat(axis=1) instead. To get a de-fragmented frame, use `newframe = frame.copy()`\n",
      "  portfolio_cumulative_returns[n] = (1 + sim_df.fillna(0)).cumprod()\n",
      "C:\\Users\\Nia\\OneDrive\\Desktop\\UNCC Fintech Bootcamp\\Python\\Projects\\Project 1\\Bitcoin-Advisor-\\Project 1\\MCForecastTools.py:117: PerformanceWarning: DataFrame is highly fragmented.  This is usually the result of calling `frame.insert` many times, which has poor performance.  Consider joining all columns at once using pd.concat(axis=1) instead. To get a de-fragmented frame, use `newframe = frame.copy()`\n",
      "  portfolio_cumulative_returns[n] = (1 + sim_df.fillna(0)).cumprod()\n",
      "C:\\Users\\Nia\\OneDrive\\Desktop\\UNCC Fintech Bootcamp\\Python\\Projects\\Project 1\\Bitcoin-Advisor-\\Project 1\\MCForecastTools.py:117: PerformanceWarning: DataFrame is highly fragmented.  This is usually the result of calling `frame.insert` many times, which has poor performance.  Consider joining all columns at once using pd.concat(axis=1) instead. To get a de-fragmented frame, use `newframe = frame.copy()`\n",
      "  portfolio_cumulative_returns[n] = (1 + sim_df.fillna(0)).cumprod()\n",
      "C:\\Users\\Nia\\OneDrive\\Desktop\\UNCC Fintech Bootcamp\\Python\\Projects\\Project 1\\Bitcoin-Advisor-\\Project 1\\MCForecastTools.py:117: PerformanceWarning: DataFrame is highly fragmented.  This is usually the result of calling `frame.insert` many times, which has poor performance.  Consider joining all columns at once using pd.concat(axis=1) instead. To get a de-fragmented frame, use `newframe = frame.copy()`\n",
      "  portfolio_cumulative_returns[n] = (1 + sim_df.fillna(0)).cumprod()\n",
      "C:\\Users\\Nia\\OneDrive\\Desktop\\UNCC Fintech Bootcamp\\Python\\Projects\\Project 1\\Bitcoin-Advisor-\\Project 1\\MCForecastTools.py:117: PerformanceWarning: DataFrame is highly fragmented.  This is usually the result of calling `frame.insert` many times, which has poor performance.  Consider joining all columns at once using pd.concat(axis=1) instead. To get a de-fragmented frame, use `newframe = frame.copy()`\n",
      "  portfolio_cumulative_returns[n] = (1 + sim_df.fillna(0)).cumprod()\n",
      "C:\\Users\\Nia\\OneDrive\\Desktop\\UNCC Fintech Bootcamp\\Python\\Projects\\Project 1\\Bitcoin-Advisor-\\Project 1\\MCForecastTools.py:117: PerformanceWarning: DataFrame is highly fragmented.  This is usually the result of calling `frame.insert` many times, which has poor performance.  Consider joining all columns at once using pd.concat(axis=1) instead. To get a de-fragmented frame, use `newframe = frame.copy()`\n",
      "  portfolio_cumulative_returns[n] = (1 + sim_df.fillna(0)).cumprod()\n",
      "C:\\Users\\Nia\\OneDrive\\Desktop\\UNCC Fintech Bootcamp\\Python\\Projects\\Project 1\\Bitcoin-Advisor-\\Project 1\\MCForecastTools.py:117: PerformanceWarning: DataFrame is highly fragmented.  This is usually the result of calling `frame.insert` many times, which has poor performance.  Consider joining all columns at once using pd.concat(axis=1) instead. To get a de-fragmented frame, use `newframe = frame.copy()`\n",
      "  portfolio_cumulative_returns[n] = (1 + sim_df.fillna(0)).cumprod()\n",
      "C:\\Users\\Nia\\OneDrive\\Desktop\\UNCC Fintech Bootcamp\\Python\\Projects\\Project 1\\Bitcoin-Advisor-\\Project 1\\MCForecastTools.py:117: PerformanceWarning: DataFrame is highly fragmented.  This is usually the result of calling `frame.insert` many times, which has poor performance.  Consider joining all columns at once using pd.concat(axis=1) instead. To get a de-fragmented frame, use `newframe = frame.copy()`\n",
      "  portfolio_cumulative_returns[n] = (1 + sim_df.fillna(0)).cumprod()\n",
      "C:\\Users\\Nia\\OneDrive\\Desktop\\UNCC Fintech Bootcamp\\Python\\Projects\\Project 1\\Bitcoin-Advisor-\\Project 1\\MCForecastTools.py:117: PerformanceWarning: DataFrame is highly fragmented.  This is usually the result of calling `frame.insert` many times, which has poor performance.  Consider joining all columns at once using pd.concat(axis=1) instead. To get a de-fragmented frame, use `newframe = frame.copy()`\n",
      "  portfolio_cumulative_returns[n] = (1 + sim_df.fillna(0)).cumprod()\n"
     ]
    },
    {
     "name": "stdout",
     "output_type": "stream",
     "text": [
      "Running Monte Carlo simulation number 220.\n"
     ]
    },
    {
     "name": "stderr",
     "output_type": "stream",
     "text": [
      "C:\\Users\\Nia\\OneDrive\\Desktop\\UNCC Fintech Bootcamp\\Python\\Projects\\Project 1\\Bitcoin-Advisor-\\Project 1\\MCForecastTools.py:117: PerformanceWarning: DataFrame is highly fragmented.  This is usually the result of calling `frame.insert` many times, which has poor performance.  Consider joining all columns at once using pd.concat(axis=1) instead. To get a de-fragmented frame, use `newframe = frame.copy()`\n",
      "  portfolio_cumulative_returns[n] = (1 + sim_df.fillna(0)).cumprod()\n",
      "C:\\Users\\Nia\\OneDrive\\Desktop\\UNCC Fintech Bootcamp\\Python\\Projects\\Project 1\\Bitcoin-Advisor-\\Project 1\\MCForecastTools.py:117: PerformanceWarning: DataFrame is highly fragmented.  This is usually the result of calling `frame.insert` many times, which has poor performance.  Consider joining all columns at once using pd.concat(axis=1) instead. To get a de-fragmented frame, use `newframe = frame.copy()`\n",
      "  portfolio_cumulative_returns[n] = (1 + sim_df.fillna(0)).cumprod()\n",
      "C:\\Users\\Nia\\OneDrive\\Desktop\\UNCC Fintech Bootcamp\\Python\\Projects\\Project 1\\Bitcoin-Advisor-\\Project 1\\MCForecastTools.py:117: PerformanceWarning: DataFrame is highly fragmented.  This is usually the result of calling `frame.insert` many times, which has poor performance.  Consider joining all columns at once using pd.concat(axis=1) instead. To get a de-fragmented frame, use `newframe = frame.copy()`\n",
      "  portfolio_cumulative_returns[n] = (1 + sim_df.fillna(0)).cumprod()\n",
      "C:\\Users\\Nia\\OneDrive\\Desktop\\UNCC Fintech Bootcamp\\Python\\Projects\\Project 1\\Bitcoin-Advisor-\\Project 1\\MCForecastTools.py:117: PerformanceWarning: DataFrame is highly fragmented.  This is usually the result of calling `frame.insert` many times, which has poor performance.  Consider joining all columns at once using pd.concat(axis=1) instead. To get a de-fragmented frame, use `newframe = frame.copy()`\n",
      "  portfolio_cumulative_returns[n] = (1 + sim_df.fillna(0)).cumprod()\n",
      "C:\\Users\\Nia\\OneDrive\\Desktop\\UNCC Fintech Bootcamp\\Python\\Projects\\Project 1\\Bitcoin-Advisor-\\Project 1\\MCForecastTools.py:117: PerformanceWarning: DataFrame is highly fragmented.  This is usually the result of calling `frame.insert` many times, which has poor performance.  Consider joining all columns at once using pd.concat(axis=1) instead. To get a de-fragmented frame, use `newframe = frame.copy()`\n",
      "  portfolio_cumulative_returns[n] = (1 + sim_df.fillna(0)).cumprod()\n",
      "C:\\Users\\Nia\\OneDrive\\Desktop\\UNCC Fintech Bootcamp\\Python\\Projects\\Project 1\\Bitcoin-Advisor-\\Project 1\\MCForecastTools.py:117: PerformanceWarning: DataFrame is highly fragmented.  This is usually the result of calling `frame.insert` many times, which has poor performance.  Consider joining all columns at once using pd.concat(axis=1) instead. To get a de-fragmented frame, use `newframe = frame.copy()`\n",
      "  portfolio_cumulative_returns[n] = (1 + sim_df.fillna(0)).cumprod()\n",
      "C:\\Users\\Nia\\OneDrive\\Desktop\\UNCC Fintech Bootcamp\\Python\\Projects\\Project 1\\Bitcoin-Advisor-\\Project 1\\MCForecastTools.py:117: PerformanceWarning: DataFrame is highly fragmented.  This is usually the result of calling `frame.insert` many times, which has poor performance.  Consider joining all columns at once using pd.concat(axis=1) instead. To get a de-fragmented frame, use `newframe = frame.copy()`\n",
      "  portfolio_cumulative_returns[n] = (1 + sim_df.fillna(0)).cumprod()\n",
      "C:\\Users\\Nia\\OneDrive\\Desktop\\UNCC Fintech Bootcamp\\Python\\Projects\\Project 1\\Bitcoin-Advisor-\\Project 1\\MCForecastTools.py:117: PerformanceWarning: DataFrame is highly fragmented.  This is usually the result of calling `frame.insert` many times, which has poor performance.  Consider joining all columns at once using pd.concat(axis=1) instead. To get a de-fragmented frame, use `newframe = frame.copy()`\n",
      "  portfolio_cumulative_returns[n] = (1 + sim_df.fillna(0)).cumprod()\n",
      "C:\\Users\\Nia\\OneDrive\\Desktop\\UNCC Fintech Bootcamp\\Python\\Projects\\Project 1\\Bitcoin-Advisor-\\Project 1\\MCForecastTools.py:117: PerformanceWarning: DataFrame is highly fragmented.  This is usually the result of calling `frame.insert` many times, which has poor performance.  Consider joining all columns at once using pd.concat(axis=1) instead. To get a de-fragmented frame, use `newframe = frame.copy()`\n",
      "  portfolio_cumulative_returns[n] = (1 + sim_df.fillna(0)).cumprod()\n"
     ]
    },
    {
     "name": "stdout",
     "output_type": "stream",
     "text": [
      "Running Monte Carlo simulation number 230.\n"
     ]
    },
    {
     "name": "stderr",
     "output_type": "stream",
     "text": [
      "C:\\Users\\Nia\\OneDrive\\Desktop\\UNCC Fintech Bootcamp\\Python\\Projects\\Project 1\\Bitcoin-Advisor-\\Project 1\\MCForecastTools.py:117: PerformanceWarning: DataFrame is highly fragmented.  This is usually the result of calling `frame.insert` many times, which has poor performance.  Consider joining all columns at once using pd.concat(axis=1) instead. To get a de-fragmented frame, use `newframe = frame.copy()`\n",
      "  portfolio_cumulative_returns[n] = (1 + sim_df.fillna(0)).cumprod()\n",
      "C:\\Users\\Nia\\OneDrive\\Desktop\\UNCC Fintech Bootcamp\\Python\\Projects\\Project 1\\Bitcoin-Advisor-\\Project 1\\MCForecastTools.py:117: PerformanceWarning: DataFrame is highly fragmented.  This is usually the result of calling `frame.insert` many times, which has poor performance.  Consider joining all columns at once using pd.concat(axis=1) instead. To get a de-fragmented frame, use `newframe = frame.copy()`\n",
      "  portfolio_cumulative_returns[n] = (1 + sim_df.fillna(0)).cumprod()\n",
      "C:\\Users\\Nia\\OneDrive\\Desktop\\UNCC Fintech Bootcamp\\Python\\Projects\\Project 1\\Bitcoin-Advisor-\\Project 1\\MCForecastTools.py:117: PerformanceWarning: DataFrame is highly fragmented.  This is usually the result of calling `frame.insert` many times, which has poor performance.  Consider joining all columns at once using pd.concat(axis=1) instead. To get a de-fragmented frame, use `newframe = frame.copy()`\n",
      "  portfolio_cumulative_returns[n] = (1 + sim_df.fillna(0)).cumprod()\n",
      "C:\\Users\\Nia\\OneDrive\\Desktop\\UNCC Fintech Bootcamp\\Python\\Projects\\Project 1\\Bitcoin-Advisor-\\Project 1\\MCForecastTools.py:117: PerformanceWarning: DataFrame is highly fragmented.  This is usually the result of calling `frame.insert` many times, which has poor performance.  Consider joining all columns at once using pd.concat(axis=1) instead. To get a de-fragmented frame, use `newframe = frame.copy()`\n",
      "  portfolio_cumulative_returns[n] = (1 + sim_df.fillna(0)).cumprod()\n",
      "C:\\Users\\Nia\\OneDrive\\Desktop\\UNCC Fintech Bootcamp\\Python\\Projects\\Project 1\\Bitcoin-Advisor-\\Project 1\\MCForecastTools.py:117: PerformanceWarning: DataFrame is highly fragmented.  This is usually the result of calling `frame.insert` many times, which has poor performance.  Consider joining all columns at once using pd.concat(axis=1) instead. To get a de-fragmented frame, use `newframe = frame.copy()`\n",
      "  portfolio_cumulative_returns[n] = (1 + sim_df.fillna(0)).cumprod()\n",
      "C:\\Users\\Nia\\OneDrive\\Desktop\\UNCC Fintech Bootcamp\\Python\\Projects\\Project 1\\Bitcoin-Advisor-\\Project 1\\MCForecastTools.py:117: PerformanceWarning: DataFrame is highly fragmented.  This is usually the result of calling `frame.insert` many times, which has poor performance.  Consider joining all columns at once using pd.concat(axis=1) instead. To get a de-fragmented frame, use `newframe = frame.copy()`\n",
      "  portfolio_cumulative_returns[n] = (1 + sim_df.fillna(0)).cumprod()\n",
      "C:\\Users\\Nia\\OneDrive\\Desktop\\UNCC Fintech Bootcamp\\Python\\Projects\\Project 1\\Bitcoin-Advisor-\\Project 1\\MCForecastTools.py:117: PerformanceWarning: DataFrame is highly fragmented.  This is usually the result of calling `frame.insert` many times, which has poor performance.  Consider joining all columns at once using pd.concat(axis=1) instead. To get a de-fragmented frame, use `newframe = frame.copy()`\n",
      "  portfolio_cumulative_returns[n] = (1 + sim_df.fillna(0)).cumprod()\n",
      "C:\\Users\\Nia\\OneDrive\\Desktop\\UNCC Fintech Bootcamp\\Python\\Projects\\Project 1\\Bitcoin-Advisor-\\Project 1\\MCForecastTools.py:117: PerformanceWarning: DataFrame is highly fragmented.  This is usually the result of calling `frame.insert` many times, which has poor performance.  Consider joining all columns at once using pd.concat(axis=1) instead. To get a de-fragmented frame, use `newframe = frame.copy()`\n",
      "  portfolio_cumulative_returns[n] = (1 + sim_df.fillna(0)).cumprod()\n",
      "C:\\Users\\Nia\\OneDrive\\Desktop\\UNCC Fintech Bootcamp\\Python\\Projects\\Project 1\\Bitcoin-Advisor-\\Project 1\\MCForecastTools.py:117: PerformanceWarning: DataFrame is highly fragmented.  This is usually the result of calling `frame.insert` many times, which has poor performance.  Consider joining all columns at once using pd.concat(axis=1) instead. To get a de-fragmented frame, use `newframe = frame.copy()`\n",
      "  portfolio_cumulative_returns[n] = (1 + sim_df.fillna(0)).cumprod()\n",
      "C:\\Users\\Nia\\OneDrive\\Desktop\\UNCC Fintech Bootcamp\\Python\\Projects\\Project 1\\Bitcoin-Advisor-\\Project 1\\MCForecastTools.py:117: PerformanceWarning: DataFrame is highly fragmented.  This is usually the result of calling `frame.insert` many times, which has poor performance.  Consider joining all columns at once using pd.concat(axis=1) instead. To get a de-fragmented frame, use `newframe = frame.copy()`\n",
      "  portfolio_cumulative_returns[n] = (1 + sim_df.fillna(0)).cumprod()\n"
     ]
    },
    {
     "name": "stdout",
     "output_type": "stream",
     "text": [
      "Running Monte Carlo simulation number 240.\n"
     ]
    },
    {
     "name": "stderr",
     "output_type": "stream",
     "text": [
      "C:\\Users\\Nia\\OneDrive\\Desktop\\UNCC Fintech Bootcamp\\Python\\Projects\\Project 1\\Bitcoin-Advisor-\\Project 1\\MCForecastTools.py:117: PerformanceWarning: DataFrame is highly fragmented.  This is usually the result of calling `frame.insert` many times, which has poor performance.  Consider joining all columns at once using pd.concat(axis=1) instead. To get a de-fragmented frame, use `newframe = frame.copy()`\n",
      "  portfolio_cumulative_returns[n] = (1 + sim_df.fillna(0)).cumprod()\n",
      "C:\\Users\\Nia\\OneDrive\\Desktop\\UNCC Fintech Bootcamp\\Python\\Projects\\Project 1\\Bitcoin-Advisor-\\Project 1\\MCForecastTools.py:117: PerformanceWarning: DataFrame is highly fragmented.  This is usually the result of calling `frame.insert` many times, which has poor performance.  Consider joining all columns at once using pd.concat(axis=1) instead. To get a de-fragmented frame, use `newframe = frame.copy()`\n",
      "  portfolio_cumulative_returns[n] = (1 + sim_df.fillna(0)).cumprod()\n",
      "C:\\Users\\Nia\\OneDrive\\Desktop\\UNCC Fintech Bootcamp\\Python\\Projects\\Project 1\\Bitcoin-Advisor-\\Project 1\\MCForecastTools.py:117: PerformanceWarning: DataFrame is highly fragmented.  This is usually the result of calling `frame.insert` many times, which has poor performance.  Consider joining all columns at once using pd.concat(axis=1) instead. To get a de-fragmented frame, use `newframe = frame.copy()`\n",
      "  portfolio_cumulative_returns[n] = (1 + sim_df.fillna(0)).cumprod()\n",
      "C:\\Users\\Nia\\OneDrive\\Desktop\\UNCC Fintech Bootcamp\\Python\\Projects\\Project 1\\Bitcoin-Advisor-\\Project 1\\MCForecastTools.py:117: PerformanceWarning: DataFrame is highly fragmented.  This is usually the result of calling `frame.insert` many times, which has poor performance.  Consider joining all columns at once using pd.concat(axis=1) instead. To get a de-fragmented frame, use `newframe = frame.copy()`\n",
      "  portfolio_cumulative_returns[n] = (1 + sim_df.fillna(0)).cumprod()\n",
      "C:\\Users\\Nia\\OneDrive\\Desktop\\UNCC Fintech Bootcamp\\Python\\Projects\\Project 1\\Bitcoin-Advisor-\\Project 1\\MCForecastTools.py:117: PerformanceWarning: DataFrame is highly fragmented.  This is usually the result of calling `frame.insert` many times, which has poor performance.  Consider joining all columns at once using pd.concat(axis=1) instead. To get a de-fragmented frame, use `newframe = frame.copy()`\n",
      "  portfolio_cumulative_returns[n] = (1 + sim_df.fillna(0)).cumprod()\n",
      "C:\\Users\\Nia\\OneDrive\\Desktop\\UNCC Fintech Bootcamp\\Python\\Projects\\Project 1\\Bitcoin-Advisor-\\Project 1\\MCForecastTools.py:117: PerformanceWarning: DataFrame is highly fragmented.  This is usually the result of calling `frame.insert` many times, which has poor performance.  Consider joining all columns at once using pd.concat(axis=1) instead. To get a de-fragmented frame, use `newframe = frame.copy()`\n",
      "  portfolio_cumulative_returns[n] = (1 + sim_df.fillna(0)).cumprod()\n",
      "C:\\Users\\Nia\\OneDrive\\Desktop\\UNCC Fintech Bootcamp\\Python\\Projects\\Project 1\\Bitcoin-Advisor-\\Project 1\\MCForecastTools.py:117: PerformanceWarning: DataFrame is highly fragmented.  This is usually the result of calling `frame.insert` many times, which has poor performance.  Consider joining all columns at once using pd.concat(axis=1) instead. To get a de-fragmented frame, use `newframe = frame.copy()`\n",
      "  portfolio_cumulative_returns[n] = (1 + sim_df.fillna(0)).cumprod()\n",
      "C:\\Users\\Nia\\OneDrive\\Desktop\\UNCC Fintech Bootcamp\\Python\\Projects\\Project 1\\Bitcoin-Advisor-\\Project 1\\MCForecastTools.py:117: PerformanceWarning: DataFrame is highly fragmented.  This is usually the result of calling `frame.insert` many times, which has poor performance.  Consider joining all columns at once using pd.concat(axis=1) instead. To get a de-fragmented frame, use `newframe = frame.copy()`\n",
      "  portfolio_cumulative_returns[n] = (1 + sim_df.fillna(0)).cumprod()\n",
      "C:\\Users\\Nia\\OneDrive\\Desktop\\UNCC Fintech Bootcamp\\Python\\Projects\\Project 1\\Bitcoin-Advisor-\\Project 1\\MCForecastTools.py:117: PerformanceWarning: DataFrame is highly fragmented.  This is usually the result of calling `frame.insert` many times, which has poor performance.  Consider joining all columns at once using pd.concat(axis=1) instead. To get a de-fragmented frame, use `newframe = frame.copy()`\n",
      "  portfolio_cumulative_returns[n] = (1 + sim_df.fillna(0)).cumprod()\n",
      "C:\\Users\\Nia\\OneDrive\\Desktop\\UNCC Fintech Bootcamp\\Python\\Projects\\Project 1\\Bitcoin-Advisor-\\Project 1\\MCForecastTools.py:117: PerformanceWarning: DataFrame is highly fragmented.  This is usually the result of calling `frame.insert` many times, which has poor performance.  Consider joining all columns at once using pd.concat(axis=1) instead. To get a de-fragmented frame, use `newframe = frame.copy()`\n",
      "  portfolio_cumulative_returns[n] = (1 + sim_df.fillna(0)).cumprod()\n"
     ]
    },
    {
     "name": "stdout",
     "output_type": "stream",
     "text": [
      "Running Monte Carlo simulation number 250.\n"
     ]
    },
    {
     "name": "stderr",
     "output_type": "stream",
     "text": [
      "C:\\Users\\Nia\\OneDrive\\Desktop\\UNCC Fintech Bootcamp\\Python\\Projects\\Project 1\\Bitcoin-Advisor-\\Project 1\\MCForecastTools.py:117: PerformanceWarning: DataFrame is highly fragmented.  This is usually the result of calling `frame.insert` many times, which has poor performance.  Consider joining all columns at once using pd.concat(axis=1) instead. To get a de-fragmented frame, use `newframe = frame.copy()`\n",
      "  portfolio_cumulative_returns[n] = (1 + sim_df.fillna(0)).cumprod()\n",
      "C:\\Users\\Nia\\OneDrive\\Desktop\\UNCC Fintech Bootcamp\\Python\\Projects\\Project 1\\Bitcoin-Advisor-\\Project 1\\MCForecastTools.py:117: PerformanceWarning: DataFrame is highly fragmented.  This is usually the result of calling `frame.insert` many times, which has poor performance.  Consider joining all columns at once using pd.concat(axis=1) instead. To get a de-fragmented frame, use `newframe = frame.copy()`\n",
      "  portfolio_cumulative_returns[n] = (1 + sim_df.fillna(0)).cumprod()\n",
      "C:\\Users\\Nia\\OneDrive\\Desktop\\UNCC Fintech Bootcamp\\Python\\Projects\\Project 1\\Bitcoin-Advisor-\\Project 1\\MCForecastTools.py:117: PerformanceWarning: DataFrame is highly fragmented.  This is usually the result of calling `frame.insert` many times, which has poor performance.  Consider joining all columns at once using pd.concat(axis=1) instead. To get a de-fragmented frame, use `newframe = frame.copy()`\n",
      "  portfolio_cumulative_returns[n] = (1 + sim_df.fillna(0)).cumprod()\n",
      "C:\\Users\\Nia\\OneDrive\\Desktop\\UNCC Fintech Bootcamp\\Python\\Projects\\Project 1\\Bitcoin-Advisor-\\Project 1\\MCForecastTools.py:117: PerformanceWarning: DataFrame is highly fragmented.  This is usually the result of calling `frame.insert` many times, which has poor performance.  Consider joining all columns at once using pd.concat(axis=1) instead. To get a de-fragmented frame, use `newframe = frame.copy()`\n",
      "  portfolio_cumulative_returns[n] = (1 + sim_df.fillna(0)).cumprod()\n",
      "C:\\Users\\Nia\\OneDrive\\Desktop\\UNCC Fintech Bootcamp\\Python\\Projects\\Project 1\\Bitcoin-Advisor-\\Project 1\\MCForecastTools.py:117: PerformanceWarning: DataFrame is highly fragmented.  This is usually the result of calling `frame.insert` many times, which has poor performance.  Consider joining all columns at once using pd.concat(axis=1) instead. To get a de-fragmented frame, use `newframe = frame.copy()`\n",
      "  portfolio_cumulative_returns[n] = (1 + sim_df.fillna(0)).cumprod()\n",
      "C:\\Users\\Nia\\OneDrive\\Desktop\\UNCC Fintech Bootcamp\\Python\\Projects\\Project 1\\Bitcoin-Advisor-\\Project 1\\MCForecastTools.py:117: PerformanceWarning: DataFrame is highly fragmented.  This is usually the result of calling `frame.insert` many times, which has poor performance.  Consider joining all columns at once using pd.concat(axis=1) instead. To get a de-fragmented frame, use `newframe = frame.copy()`\n",
      "  portfolio_cumulative_returns[n] = (1 + sim_df.fillna(0)).cumprod()\n",
      "C:\\Users\\Nia\\OneDrive\\Desktop\\UNCC Fintech Bootcamp\\Python\\Projects\\Project 1\\Bitcoin-Advisor-\\Project 1\\MCForecastTools.py:117: PerformanceWarning: DataFrame is highly fragmented.  This is usually the result of calling `frame.insert` many times, which has poor performance.  Consider joining all columns at once using pd.concat(axis=1) instead. To get a de-fragmented frame, use `newframe = frame.copy()`\n",
      "  portfolio_cumulative_returns[n] = (1 + sim_df.fillna(0)).cumprod()\n",
      "C:\\Users\\Nia\\OneDrive\\Desktop\\UNCC Fintech Bootcamp\\Python\\Projects\\Project 1\\Bitcoin-Advisor-\\Project 1\\MCForecastTools.py:117: PerformanceWarning: DataFrame is highly fragmented.  This is usually the result of calling `frame.insert` many times, which has poor performance.  Consider joining all columns at once using pd.concat(axis=1) instead. To get a de-fragmented frame, use `newframe = frame.copy()`\n",
      "  portfolio_cumulative_returns[n] = (1 + sim_df.fillna(0)).cumprod()\n",
      "C:\\Users\\Nia\\OneDrive\\Desktop\\UNCC Fintech Bootcamp\\Python\\Projects\\Project 1\\Bitcoin-Advisor-\\Project 1\\MCForecastTools.py:117: PerformanceWarning: DataFrame is highly fragmented.  This is usually the result of calling `frame.insert` many times, which has poor performance.  Consider joining all columns at once using pd.concat(axis=1) instead. To get a de-fragmented frame, use `newframe = frame.copy()`\n",
      "  portfolio_cumulative_returns[n] = (1 + sim_df.fillna(0)).cumprod()\n",
      "C:\\Users\\Nia\\OneDrive\\Desktop\\UNCC Fintech Bootcamp\\Python\\Projects\\Project 1\\Bitcoin-Advisor-\\Project 1\\MCForecastTools.py:117: PerformanceWarning: DataFrame is highly fragmented.  This is usually the result of calling `frame.insert` many times, which has poor performance.  Consider joining all columns at once using pd.concat(axis=1) instead. To get a de-fragmented frame, use `newframe = frame.copy()`\n",
      "  portfolio_cumulative_returns[n] = (1 + sim_df.fillna(0)).cumprod()\n"
     ]
    },
    {
     "name": "stdout",
     "output_type": "stream",
     "text": [
      "Running Monte Carlo simulation number 260.\n"
     ]
    },
    {
     "name": "stderr",
     "output_type": "stream",
     "text": [
      "C:\\Users\\Nia\\OneDrive\\Desktop\\UNCC Fintech Bootcamp\\Python\\Projects\\Project 1\\Bitcoin-Advisor-\\Project 1\\MCForecastTools.py:117: PerformanceWarning: DataFrame is highly fragmented.  This is usually the result of calling `frame.insert` many times, which has poor performance.  Consider joining all columns at once using pd.concat(axis=1) instead. To get a de-fragmented frame, use `newframe = frame.copy()`\n",
      "  portfolio_cumulative_returns[n] = (1 + sim_df.fillna(0)).cumprod()\n",
      "C:\\Users\\Nia\\OneDrive\\Desktop\\UNCC Fintech Bootcamp\\Python\\Projects\\Project 1\\Bitcoin-Advisor-\\Project 1\\MCForecastTools.py:117: PerformanceWarning: DataFrame is highly fragmented.  This is usually the result of calling `frame.insert` many times, which has poor performance.  Consider joining all columns at once using pd.concat(axis=1) instead. To get a de-fragmented frame, use `newframe = frame.copy()`\n",
      "  portfolio_cumulative_returns[n] = (1 + sim_df.fillna(0)).cumprod()\n",
      "C:\\Users\\Nia\\OneDrive\\Desktop\\UNCC Fintech Bootcamp\\Python\\Projects\\Project 1\\Bitcoin-Advisor-\\Project 1\\MCForecastTools.py:117: PerformanceWarning: DataFrame is highly fragmented.  This is usually the result of calling `frame.insert` many times, which has poor performance.  Consider joining all columns at once using pd.concat(axis=1) instead. To get a de-fragmented frame, use `newframe = frame.copy()`\n",
      "  portfolio_cumulative_returns[n] = (1 + sim_df.fillna(0)).cumprod()\n",
      "C:\\Users\\Nia\\OneDrive\\Desktop\\UNCC Fintech Bootcamp\\Python\\Projects\\Project 1\\Bitcoin-Advisor-\\Project 1\\MCForecastTools.py:117: PerformanceWarning: DataFrame is highly fragmented.  This is usually the result of calling `frame.insert` many times, which has poor performance.  Consider joining all columns at once using pd.concat(axis=1) instead. To get a de-fragmented frame, use `newframe = frame.copy()`\n",
      "  portfolio_cumulative_returns[n] = (1 + sim_df.fillna(0)).cumprod()\n",
      "C:\\Users\\Nia\\OneDrive\\Desktop\\UNCC Fintech Bootcamp\\Python\\Projects\\Project 1\\Bitcoin-Advisor-\\Project 1\\MCForecastTools.py:117: PerformanceWarning: DataFrame is highly fragmented.  This is usually the result of calling `frame.insert` many times, which has poor performance.  Consider joining all columns at once using pd.concat(axis=1) instead. To get a de-fragmented frame, use `newframe = frame.copy()`\n",
      "  portfolio_cumulative_returns[n] = (1 + sim_df.fillna(0)).cumprod()\n",
      "C:\\Users\\Nia\\OneDrive\\Desktop\\UNCC Fintech Bootcamp\\Python\\Projects\\Project 1\\Bitcoin-Advisor-\\Project 1\\MCForecastTools.py:117: PerformanceWarning: DataFrame is highly fragmented.  This is usually the result of calling `frame.insert` many times, which has poor performance.  Consider joining all columns at once using pd.concat(axis=1) instead. To get a de-fragmented frame, use `newframe = frame.copy()`\n",
      "  portfolio_cumulative_returns[n] = (1 + sim_df.fillna(0)).cumprod()\n",
      "C:\\Users\\Nia\\OneDrive\\Desktop\\UNCC Fintech Bootcamp\\Python\\Projects\\Project 1\\Bitcoin-Advisor-\\Project 1\\MCForecastTools.py:117: PerformanceWarning: DataFrame is highly fragmented.  This is usually the result of calling `frame.insert` many times, which has poor performance.  Consider joining all columns at once using pd.concat(axis=1) instead. To get a de-fragmented frame, use `newframe = frame.copy()`\n",
      "  portfolio_cumulative_returns[n] = (1 + sim_df.fillna(0)).cumprod()\n",
      "C:\\Users\\Nia\\OneDrive\\Desktop\\UNCC Fintech Bootcamp\\Python\\Projects\\Project 1\\Bitcoin-Advisor-\\Project 1\\MCForecastTools.py:117: PerformanceWarning: DataFrame is highly fragmented.  This is usually the result of calling `frame.insert` many times, which has poor performance.  Consider joining all columns at once using pd.concat(axis=1) instead. To get a de-fragmented frame, use `newframe = frame.copy()`\n",
      "  portfolio_cumulative_returns[n] = (1 + sim_df.fillna(0)).cumprod()\n",
      "C:\\Users\\Nia\\OneDrive\\Desktop\\UNCC Fintech Bootcamp\\Python\\Projects\\Project 1\\Bitcoin-Advisor-\\Project 1\\MCForecastTools.py:117: PerformanceWarning: DataFrame is highly fragmented.  This is usually the result of calling `frame.insert` many times, which has poor performance.  Consider joining all columns at once using pd.concat(axis=1) instead. To get a de-fragmented frame, use `newframe = frame.copy()`\n",
      "  portfolio_cumulative_returns[n] = (1 + sim_df.fillna(0)).cumprod()\n"
     ]
    },
    {
     "name": "stdout",
     "output_type": "stream",
     "text": [
      "Running Monte Carlo simulation number 270.\n"
     ]
    },
    {
     "name": "stderr",
     "output_type": "stream",
     "text": [
      "C:\\Users\\Nia\\OneDrive\\Desktop\\UNCC Fintech Bootcamp\\Python\\Projects\\Project 1\\Bitcoin-Advisor-\\Project 1\\MCForecastTools.py:117: PerformanceWarning: DataFrame is highly fragmented.  This is usually the result of calling `frame.insert` many times, which has poor performance.  Consider joining all columns at once using pd.concat(axis=1) instead. To get a de-fragmented frame, use `newframe = frame.copy()`\n",
      "  portfolio_cumulative_returns[n] = (1 + sim_df.fillna(0)).cumprod()\n",
      "C:\\Users\\Nia\\OneDrive\\Desktop\\UNCC Fintech Bootcamp\\Python\\Projects\\Project 1\\Bitcoin-Advisor-\\Project 1\\MCForecastTools.py:117: PerformanceWarning: DataFrame is highly fragmented.  This is usually the result of calling `frame.insert` many times, which has poor performance.  Consider joining all columns at once using pd.concat(axis=1) instead. To get a de-fragmented frame, use `newframe = frame.copy()`\n",
      "  portfolio_cumulative_returns[n] = (1 + sim_df.fillna(0)).cumprod()\n",
      "C:\\Users\\Nia\\OneDrive\\Desktop\\UNCC Fintech Bootcamp\\Python\\Projects\\Project 1\\Bitcoin-Advisor-\\Project 1\\MCForecastTools.py:117: PerformanceWarning: DataFrame is highly fragmented.  This is usually the result of calling `frame.insert` many times, which has poor performance.  Consider joining all columns at once using pd.concat(axis=1) instead. To get a de-fragmented frame, use `newframe = frame.copy()`\n",
      "  portfolio_cumulative_returns[n] = (1 + sim_df.fillna(0)).cumprod()\n",
      "C:\\Users\\Nia\\OneDrive\\Desktop\\UNCC Fintech Bootcamp\\Python\\Projects\\Project 1\\Bitcoin-Advisor-\\Project 1\\MCForecastTools.py:117: PerformanceWarning: DataFrame is highly fragmented.  This is usually the result of calling `frame.insert` many times, which has poor performance.  Consider joining all columns at once using pd.concat(axis=1) instead. To get a de-fragmented frame, use `newframe = frame.copy()`\n",
      "  portfolio_cumulative_returns[n] = (1 + sim_df.fillna(0)).cumprod()\n",
      "C:\\Users\\Nia\\OneDrive\\Desktop\\UNCC Fintech Bootcamp\\Python\\Projects\\Project 1\\Bitcoin-Advisor-\\Project 1\\MCForecastTools.py:117: PerformanceWarning: DataFrame is highly fragmented.  This is usually the result of calling `frame.insert` many times, which has poor performance.  Consider joining all columns at once using pd.concat(axis=1) instead. To get a de-fragmented frame, use `newframe = frame.copy()`\n",
      "  portfolio_cumulative_returns[n] = (1 + sim_df.fillna(0)).cumprod()\n",
      "C:\\Users\\Nia\\OneDrive\\Desktop\\UNCC Fintech Bootcamp\\Python\\Projects\\Project 1\\Bitcoin-Advisor-\\Project 1\\MCForecastTools.py:117: PerformanceWarning: DataFrame is highly fragmented.  This is usually the result of calling `frame.insert` many times, which has poor performance.  Consider joining all columns at once using pd.concat(axis=1) instead. To get a de-fragmented frame, use `newframe = frame.copy()`\n",
      "  portfolio_cumulative_returns[n] = (1 + sim_df.fillna(0)).cumprod()\n",
      "C:\\Users\\Nia\\OneDrive\\Desktop\\UNCC Fintech Bootcamp\\Python\\Projects\\Project 1\\Bitcoin-Advisor-\\Project 1\\MCForecastTools.py:117: PerformanceWarning: DataFrame is highly fragmented.  This is usually the result of calling `frame.insert` many times, which has poor performance.  Consider joining all columns at once using pd.concat(axis=1) instead. To get a de-fragmented frame, use `newframe = frame.copy()`\n",
      "  portfolio_cumulative_returns[n] = (1 + sim_df.fillna(0)).cumprod()\n",
      "C:\\Users\\Nia\\OneDrive\\Desktop\\UNCC Fintech Bootcamp\\Python\\Projects\\Project 1\\Bitcoin-Advisor-\\Project 1\\MCForecastTools.py:117: PerformanceWarning: DataFrame is highly fragmented.  This is usually the result of calling `frame.insert` many times, which has poor performance.  Consider joining all columns at once using pd.concat(axis=1) instead. To get a de-fragmented frame, use `newframe = frame.copy()`\n",
      "  portfolio_cumulative_returns[n] = (1 + sim_df.fillna(0)).cumprod()\n",
      "C:\\Users\\Nia\\OneDrive\\Desktop\\UNCC Fintech Bootcamp\\Python\\Projects\\Project 1\\Bitcoin-Advisor-\\Project 1\\MCForecastTools.py:117: PerformanceWarning: DataFrame is highly fragmented.  This is usually the result of calling `frame.insert` many times, which has poor performance.  Consider joining all columns at once using pd.concat(axis=1) instead. To get a de-fragmented frame, use `newframe = frame.copy()`\n",
      "  portfolio_cumulative_returns[n] = (1 + sim_df.fillna(0)).cumprod()\n"
     ]
    },
    {
     "name": "stdout",
     "output_type": "stream",
     "text": [
      "Running Monte Carlo simulation number 280.\n"
     ]
    },
    {
     "name": "stderr",
     "output_type": "stream",
     "text": [
      "C:\\Users\\Nia\\OneDrive\\Desktop\\UNCC Fintech Bootcamp\\Python\\Projects\\Project 1\\Bitcoin-Advisor-\\Project 1\\MCForecastTools.py:117: PerformanceWarning: DataFrame is highly fragmented.  This is usually the result of calling `frame.insert` many times, which has poor performance.  Consider joining all columns at once using pd.concat(axis=1) instead. To get a de-fragmented frame, use `newframe = frame.copy()`\n",
      "  portfolio_cumulative_returns[n] = (1 + sim_df.fillna(0)).cumprod()\n",
      "C:\\Users\\Nia\\OneDrive\\Desktop\\UNCC Fintech Bootcamp\\Python\\Projects\\Project 1\\Bitcoin-Advisor-\\Project 1\\MCForecastTools.py:117: PerformanceWarning: DataFrame is highly fragmented.  This is usually the result of calling `frame.insert` many times, which has poor performance.  Consider joining all columns at once using pd.concat(axis=1) instead. To get a de-fragmented frame, use `newframe = frame.copy()`\n",
      "  portfolio_cumulative_returns[n] = (1 + sim_df.fillna(0)).cumprod()\n",
      "C:\\Users\\Nia\\OneDrive\\Desktop\\UNCC Fintech Bootcamp\\Python\\Projects\\Project 1\\Bitcoin-Advisor-\\Project 1\\MCForecastTools.py:117: PerformanceWarning: DataFrame is highly fragmented.  This is usually the result of calling `frame.insert` many times, which has poor performance.  Consider joining all columns at once using pd.concat(axis=1) instead. To get a de-fragmented frame, use `newframe = frame.copy()`\n",
      "  portfolio_cumulative_returns[n] = (1 + sim_df.fillna(0)).cumprod()\n",
      "C:\\Users\\Nia\\OneDrive\\Desktop\\UNCC Fintech Bootcamp\\Python\\Projects\\Project 1\\Bitcoin-Advisor-\\Project 1\\MCForecastTools.py:117: PerformanceWarning: DataFrame is highly fragmented.  This is usually the result of calling `frame.insert` many times, which has poor performance.  Consider joining all columns at once using pd.concat(axis=1) instead. To get a de-fragmented frame, use `newframe = frame.copy()`\n",
      "  portfolio_cumulative_returns[n] = (1 + sim_df.fillna(0)).cumprod()\n",
      "C:\\Users\\Nia\\OneDrive\\Desktop\\UNCC Fintech Bootcamp\\Python\\Projects\\Project 1\\Bitcoin-Advisor-\\Project 1\\MCForecastTools.py:117: PerformanceWarning: DataFrame is highly fragmented.  This is usually the result of calling `frame.insert` many times, which has poor performance.  Consider joining all columns at once using pd.concat(axis=1) instead. To get a de-fragmented frame, use `newframe = frame.copy()`\n",
      "  portfolio_cumulative_returns[n] = (1 + sim_df.fillna(0)).cumprod()\n",
      "C:\\Users\\Nia\\OneDrive\\Desktop\\UNCC Fintech Bootcamp\\Python\\Projects\\Project 1\\Bitcoin-Advisor-\\Project 1\\MCForecastTools.py:117: PerformanceWarning: DataFrame is highly fragmented.  This is usually the result of calling `frame.insert` many times, which has poor performance.  Consider joining all columns at once using pd.concat(axis=1) instead. To get a de-fragmented frame, use `newframe = frame.copy()`\n",
      "  portfolio_cumulative_returns[n] = (1 + sim_df.fillna(0)).cumprod()\n",
      "C:\\Users\\Nia\\OneDrive\\Desktop\\UNCC Fintech Bootcamp\\Python\\Projects\\Project 1\\Bitcoin-Advisor-\\Project 1\\MCForecastTools.py:117: PerformanceWarning: DataFrame is highly fragmented.  This is usually the result of calling `frame.insert` many times, which has poor performance.  Consider joining all columns at once using pd.concat(axis=1) instead. To get a de-fragmented frame, use `newframe = frame.copy()`\n",
      "  portfolio_cumulative_returns[n] = (1 + sim_df.fillna(0)).cumprod()\n",
      "C:\\Users\\Nia\\OneDrive\\Desktop\\UNCC Fintech Bootcamp\\Python\\Projects\\Project 1\\Bitcoin-Advisor-\\Project 1\\MCForecastTools.py:117: PerformanceWarning: DataFrame is highly fragmented.  This is usually the result of calling `frame.insert` many times, which has poor performance.  Consider joining all columns at once using pd.concat(axis=1) instead. To get a de-fragmented frame, use `newframe = frame.copy()`\n",
      "  portfolio_cumulative_returns[n] = (1 + sim_df.fillna(0)).cumprod()\n",
      "C:\\Users\\Nia\\OneDrive\\Desktop\\UNCC Fintech Bootcamp\\Python\\Projects\\Project 1\\Bitcoin-Advisor-\\Project 1\\MCForecastTools.py:117: PerformanceWarning: DataFrame is highly fragmented.  This is usually the result of calling `frame.insert` many times, which has poor performance.  Consider joining all columns at once using pd.concat(axis=1) instead. To get a de-fragmented frame, use `newframe = frame.copy()`\n",
      "  portfolio_cumulative_returns[n] = (1 + sim_df.fillna(0)).cumprod()\n",
      "C:\\Users\\Nia\\OneDrive\\Desktop\\UNCC Fintech Bootcamp\\Python\\Projects\\Project 1\\Bitcoin-Advisor-\\Project 1\\MCForecastTools.py:117: PerformanceWarning: DataFrame is highly fragmented.  This is usually the result of calling `frame.insert` many times, which has poor performance.  Consider joining all columns at once using pd.concat(axis=1) instead. To get a de-fragmented frame, use `newframe = frame.copy()`\n",
      "  portfolio_cumulative_returns[n] = (1 + sim_df.fillna(0)).cumprod()\n"
     ]
    },
    {
     "name": "stdout",
     "output_type": "stream",
     "text": [
      "Running Monte Carlo simulation number 290.\n"
     ]
    },
    {
     "name": "stderr",
     "output_type": "stream",
     "text": [
      "C:\\Users\\Nia\\OneDrive\\Desktop\\UNCC Fintech Bootcamp\\Python\\Projects\\Project 1\\Bitcoin-Advisor-\\Project 1\\MCForecastTools.py:117: PerformanceWarning: DataFrame is highly fragmented.  This is usually the result of calling `frame.insert` many times, which has poor performance.  Consider joining all columns at once using pd.concat(axis=1) instead. To get a de-fragmented frame, use `newframe = frame.copy()`\n",
      "  portfolio_cumulative_returns[n] = (1 + sim_df.fillna(0)).cumprod()\n",
      "C:\\Users\\Nia\\OneDrive\\Desktop\\UNCC Fintech Bootcamp\\Python\\Projects\\Project 1\\Bitcoin-Advisor-\\Project 1\\MCForecastTools.py:117: PerformanceWarning: DataFrame is highly fragmented.  This is usually the result of calling `frame.insert` many times, which has poor performance.  Consider joining all columns at once using pd.concat(axis=1) instead. To get a de-fragmented frame, use `newframe = frame.copy()`\n",
      "  portfolio_cumulative_returns[n] = (1 + sim_df.fillna(0)).cumprod()\n",
      "C:\\Users\\Nia\\OneDrive\\Desktop\\UNCC Fintech Bootcamp\\Python\\Projects\\Project 1\\Bitcoin-Advisor-\\Project 1\\MCForecastTools.py:117: PerformanceWarning: DataFrame is highly fragmented.  This is usually the result of calling `frame.insert` many times, which has poor performance.  Consider joining all columns at once using pd.concat(axis=1) instead. To get a de-fragmented frame, use `newframe = frame.copy()`\n",
      "  portfolio_cumulative_returns[n] = (1 + sim_df.fillna(0)).cumprod()\n",
      "C:\\Users\\Nia\\OneDrive\\Desktop\\UNCC Fintech Bootcamp\\Python\\Projects\\Project 1\\Bitcoin-Advisor-\\Project 1\\MCForecastTools.py:117: PerformanceWarning: DataFrame is highly fragmented.  This is usually the result of calling `frame.insert` many times, which has poor performance.  Consider joining all columns at once using pd.concat(axis=1) instead. To get a de-fragmented frame, use `newframe = frame.copy()`\n",
      "  portfolio_cumulative_returns[n] = (1 + sim_df.fillna(0)).cumprod()\n",
      "C:\\Users\\Nia\\OneDrive\\Desktop\\UNCC Fintech Bootcamp\\Python\\Projects\\Project 1\\Bitcoin-Advisor-\\Project 1\\MCForecastTools.py:117: PerformanceWarning: DataFrame is highly fragmented.  This is usually the result of calling `frame.insert` many times, which has poor performance.  Consider joining all columns at once using pd.concat(axis=1) instead. To get a de-fragmented frame, use `newframe = frame.copy()`\n",
      "  portfolio_cumulative_returns[n] = (1 + sim_df.fillna(0)).cumprod()\n",
      "C:\\Users\\Nia\\OneDrive\\Desktop\\UNCC Fintech Bootcamp\\Python\\Projects\\Project 1\\Bitcoin-Advisor-\\Project 1\\MCForecastTools.py:117: PerformanceWarning: DataFrame is highly fragmented.  This is usually the result of calling `frame.insert` many times, which has poor performance.  Consider joining all columns at once using pd.concat(axis=1) instead. To get a de-fragmented frame, use `newframe = frame.copy()`\n",
      "  portfolio_cumulative_returns[n] = (1 + sim_df.fillna(0)).cumprod()\n",
      "C:\\Users\\Nia\\OneDrive\\Desktop\\UNCC Fintech Bootcamp\\Python\\Projects\\Project 1\\Bitcoin-Advisor-\\Project 1\\MCForecastTools.py:117: PerformanceWarning: DataFrame is highly fragmented.  This is usually the result of calling `frame.insert` many times, which has poor performance.  Consider joining all columns at once using pd.concat(axis=1) instead. To get a de-fragmented frame, use `newframe = frame.copy()`\n",
      "  portfolio_cumulative_returns[n] = (1 + sim_df.fillna(0)).cumprod()\n",
      "C:\\Users\\Nia\\OneDrive\\Desktop\\UNCC Fintech Bootcamp\\Python\\Projects\\Project 1\\Bitcoin-Advisor-\\Project 1\\MCForecastTools.py:117: PerformanceWarning: DataFrame is highly fragmented.  This is usually the result of calling `frame.insert` many times, which has poor performance.  Consider joining all columns at once using pd.concat(axis=1) instead. To get a de-fragmented frame, use `newframe = frame.copy()`\n",
      "  portfolio_cumulative_returns[n] = (1 + sim_df.fillna(0)).cumprod()\n",
      "C:\\Users\\Nia\\OneDrive\\Desktop\\UNCC Fintech Bootcamp\\Python\\Projects\\Project 1\\Bitcoin-Advisor-\\Project 1\\MCForecastTools.py:117: PerformanceWarning: DataFrame is highly fragmented.  This is usually the result of calling `frame.insert` many times, which has poor performance.  Consider joining all columns at once using pd.concat(axis=1) instead. To get a de-fragmented frame, use `newframe = frame.copy()`\n",
      "  portfolio_cumulative_returns[n] = (1 + sim_df.fillna(0)).cumprod()\n",
      "C:\\Users\\Nia\\OneDrive\\Desktop\\UNCC Fintech Bootcamp\\Python\\Projects\\Project 1\\Bitcoin-Advisor-\\Project 1\\MCForecastTools.py:117: PerformanceWarning: DataFrame is highly fragmented.  This is usually the result of calling `frame.insert` many times, which has poor performance.  Consider joining all columns at once using pd.concat(axis=1) instead. To get a de-fragmented frame, use `newframe = frame.copy()`\n",
      "  portfolio_cumulative_returns[n] = (1 + sim_df.fillna(0)).cumprod()\n"
     ]
    },
    {
     "name": "stdout",
     "output_type": "stream",
     "text": [
      "Running Monte Carlo simulation number 300.\n"
     ]
    },
    {
     "name": "stderr",
     "output_type": "stream",
     "text": [
      "C:\\Users\\Nia\\OneDrive\\Desktop\\UNCC Fintech Bootcamp\\Python\\Projects\\Project 1\\Bitcoin-Advisor-\\Project 1\\MCForecastTools.py:117: PerformanceWarning: DataFrame is highly fragmented.  This is usually the result of calling `frame.insert` many times, which has poor performance.  Consider joining all columns at once using pd.concat(axis=1) instead. To get a de-fragmented frame, use `newframe = frame.copy()`\n",
      "  portfolio_cumulative_returns[n] = (1 + sim_df.fillna(0)).cumprod()\n",
      "C:\\Users\\Nia\\OneDrive\\Desktop\\UNCC Fintech Bootcamp\\Python\\Projects\\Project 1\\Bitcoin-Advisor-\\Project 1\\MCForecastTools.py:117: PerformanceWarning: DataFrame is highly fragmented.  This is usually the result of calling `frame.insert` many times, which has poor performance.  Consider joining all columns at once using pd.concat(axis=1) instead. To get a de-fragmented frame, use `newframe = frame.copy()`\n",
      "  portfolio_cumulative_returns[n] = (1 + sim_df.fillna(0)).cumprod()\n",
      "C:\\Users\\Nia\\OneDrive\\Desktop\\UNCC Fintech Bootcamp\\Python\\Projects\\Project 1\\Bitcoin-Advisor-\\Project 1\\MCForecastTools.py:117: PerformanceWarning: DataFrame is highly fragmented.  This is usually the result of calling `frame.insert` many times, which has poor performance.  Consider joining all columns at once using pd.concat(axis=1) instead. To get a de-fragmented frame, use `newframe = frame.copy()`\n",
      "  portfolio_cumulative_returns[n] = (1 + sim_df.fillna(0)).cumprod()\n",
      "C:\\Users\\Nia\\OneDrive\\Desktop\\UNCC Fintech Bootcamp\\Python\\Projects\\Project 1\\Bitcoin-Advisor-\\Project 1\\MCForecastTools.py:117: PerformanceWarning: DataFrame is highly fragmented.  This is usually the result of calling `frame.insert` many times, which has poor performance.  Consider joining all columns at once using pd.concat(axis=1) instead. To get a de-fragmented frame, use `newframe = frame.copy()`\n",
      "  portfolio_cumulative_returns[n] = (1 + sim_df.fillna(0)).cumprod()\n",
      "C:\\Users\\Nia\\OneDrive\\Desktop\\UNCC Fintech Bootcamp\\Python\\Projects\\Project 1\\Bitcoin-Advisor-\\Project 1\\MCForecastTools.py:117: PerformanceWarning: DataFrame is highly fragmented.  This is usually the result of calling `frame.insert` many times, which has poor performance.  Consider joining all columns at once using pd.concat(axis=1) instead. To get a de-fragmented frame, use `newframe = frame.copy()`\n",
      "  portfolio_cumulative_returns[n] = (1 + sim_df.fillna(0)).cumprod()\n",
      "C:\\Users\\Nia\\OneDrive\\Desktop\\UNCC Fintech Bootcamp\\Python\\Projects\\Project 1\\Bitcoin-Advisor-\\Project 1\\MCForecastTools.py:117: PerformanceWarning: DataFrame is highly fragmented.  This is usually the result of calling `frame.insert` many times, which has poor performance.  Consider joining all columns at once using pd.concat(axis=1) instead. To get a de-fragmented frame, use `newframe = frame.copy()`\n",
      "  portfolio_cumulative_returns[n] = (1 + sim_df.fillna(0)).cumprod()\n",
      "C:\\Users\\Nia\\OneDrive\\Desktop\\UNCC Fintech Bootcamp\\Python\\Projects\\Project 1\\Bitcoin-Advisor-\\Project 1\\MCForecastTools.py:117: PerformanceWarning: DataFrame is highly fragmented.  This is usually the result of calling `frame.insert` many times, which has poor performance.  Consider joining all columns at once using pd.concat(axis=1) instead. To get a de-fragmented frame, use `newframe = frame.copy()`\n",
      "  portfolio_cumulative_returns[n] = (1 + sim_df.fillna(0)).cumprod()\n",
      "C:\\Users\\Nia\\OneDrive\\Desktop\\UNCC Fintech Bootcamp\\Python\\Projects\\Project 1\\Bitcoin-Advisor-\\Project 1\\MCForecastTools.py:117: PerformanceWarning: DataFrame is highly fragmented.  This is usually the result of calling `frame.insert` many times, which has poor performance.  Consider joining all columns at once using pd.concat(axis=1) instead. To get a de-fragmented frame, use `newframe = frame.copy()`\n",
      "  portfolio_cumulative_returns[n] = (1 + sim_df.fillna(0)).cumprod()\n",
      "C:\\Users\\Nia\\OneDrive\\Desktop\\UNCC Fintech Bootcamp\\Python\\Projects\\Project 1\\Bitcoin-Advisor-\\Project 1\\MCForecastTools.py:117: PerformanceWarning: DataFrame is highly fragmented.  This is usually the result of calling `frame.insert` many times, which has poor performance.  Consider joining all columns at once using pd.concat(axis=1) instead. To get a de-fragmented frame, use `newframe = frame.copy()`\n",
      "  portfolio_cumulative_returns[n] = (1 + sim_df.fillna(0)).cumprod()\n"
     ]
    },
    {
     "name": "stdout",
     "output_type": "stream",
     "text": [
      "Running Monte Carlo simulation number 310.\n"
     ]
    },
    {
     "name": "stderr",
     "output_type": "stream",
     "text": [
      "C:\\Users\\Nia\\OneDrive\\Desktop\\UNCC Fintech Bootcamp\\Python\\Projects\\Project 1\\Bitcoin-Advisor-\\Project 1\\MCForecastTools.py:117: PerformanceWarning: DataFrame is highly fragmented.  This is usually the result of calling `frame.insert` many times, which has poor performance.  Consider joining all columns at once using pd.concat(axis=1) instead. To get a de-fragmented frame, use `newframe = frame.copy()`\n",
      "  portfolio_cumulative_returns[n] = (1 + sim_df.fillna(0)).cumprod()\n",
      "C:\\Users\\Nia\\OneDrive\\Desktop\\UNCC Fintech Bootcamp\\Python\\Projects\\Project 1\\Bitcoin-Advisor-\\Project 1\\MCForecastTools.py:117: PerformanceWarning: DataFrame is highly fragmented.  This is usually the result of calling `frame.insert` many times, which has poor performance.  Consider joining all columns at once using pd.concat(axis=1) instead. To get a de-fragmented frame, use `newframe = frame.copy()`\n",
      "  portfolio_cumulative_returns[n] = (1 + sim_df.fillna(0)).cumprod()\n",
      "C:\\Users\\Nia\\OneDrive\\Desktop\\UNCC Fintech Bootcamp\\Python\\Projects\\Project 1\\Bitcoin-Advisor-\\Project 1\\MCForecastTools.py:117: PerformanceWarning: DataFrame is highly fragmented.  This is usually the result of calling `frame.insert` many times, which has poor performance.  Consider joining all columns at once using pd.concat(axis=1) instead. To get a de-fragmented frame, use `newframe = frame.copy()`\n",
      "  portfolio_cumulative_returns[n] = (1 + sim_df.fillna(0)).cumprod()\n",
      "C:\\Users\\Nia\\OneDrive\\Desktop\\UNCC Fintech Bootcamp\\Python\\Projects\\Project 1\\Bitcoin-Advisor-\\Project 1\\MCForecastTools.py:117: PerformanceWarning: DataFrame is highly fragmented.  This is usually the result of calling `frame.insert` many times, which has poor performance.  Consider joining all columns at once using pd.concat(axis=1) instead. To get a de-fragmented frame, use `newframe = frame.copy()`\n",
      "  portfolio_cumulative_returns[n] = (1 + sim_df.fillna(0)).cumprod()\n",
      "C:\\Users\\Nia\\OneDrive\\Desktop\\UNCC Fintech Bootcamp\\Python\\Projects\\Project 1\\Bitcoin-Advisor-\\Project 1\\MCForecastTools.py:117: PerformanceWarning: DataFrame is highly fragmented.  This is usually the result of calling `frame.insert` many times, which has poor performance.  Consider joining all columns at once using pd.concat(axis=1) instead. To get a de-fragmented frame, use `newframe = frame.copy()`\n",
      "  portfolio_cumulative_returns[n] = (1 + sim_df.fillna(0)).cumprod()\n",
      "C:\\Users\\Nia\\OneDrive\\Desktop\\UNCC Fintech Bootcamp\\Python\\Projects\\Project 1\\Bitcoin-Advisor-\\Project 1\\MCForecastTools.py:117: PerformanceWarning: DataFrame is highly fragmented.  This is usually the result of calling `frame.insert` many times, which has poor performance.  Consider joining all columns at once using pd.concat(axis=1) instead. To get a de-fragmented frame, use `newframe = frame.copy()`\n",
      "  portfolio_cumulative_returns[n] = (1 + sim_df.fillna(0)).cumprod()\n",
      "C:\\Users\\Nia\\OneDrive\\Desktop\\UNCC Fintech Bootcamp\\Python\\Projects\\Project 1\\Bitcoin-Advisor-\\Project 1\\MCForecastTools.py:117: PerformanceWarning: DataFrame is highly fragmented.  This is usually the result of calling `frame.insert` many times, which has poor performance.  Consider joining all columns at once using pd.concat(axis=1) instead. To get a de-fragmented frame, use `newframe = frame.copy()`\n",
      "  portfolio_cumulative_returns[n] = (1 + sim_df.fillna(0)).cumprod()\n",
      "C:\\Users\\Nia\\OneDrive\\Desktop\\UNCC Fintech Bootcamp\\Python\\Projects\\Project 1\\Bitcoin-Advisor-\\Project 1\\MCForecastTools.py:117: PerformanceWarning: DataFrame is highly fragmented.  This is usually the result of calling `frame.insert` many times, which has poor performance.  Consider joining all columns at once using pd.concat(axis=1) instead. To get a de-fragmented frame, use `newframe = frame.copy()`\n",
      "  portfolio_cumulative_returns[n] = (1 + sim_df.fillna(0)).cumprod()\n",
      "C:\\Users\\Nia\\OneDrive\\Desktop\\UNCC Fintech Bootcamp\\Python\\Projects\\Project 1\\Bitcoin-Advisor-\\Project 1\\MCForecastTools.py:117: PerformanceWarning: DataFrame is highly fragmented.  This is usually the result of calling `frame.insert` many times, which has poor performance.  Consider joining all columns at once using pd.concat(axis=1) instead. To get a de-fragmented frame, use `newframe = frame.copy()`\n",
      "  portfolio_cumulative_returns[n] = (1 + sim_df.fillna(0)).cumprod()\n",
      "C:\\Users\\Nia\\OneDrive\\Desktop\\UNCC Fintech Bootcamp\\Python\\Projects\\Project 1\\Bitcoin-Advisor-\\Project 1\\MCForecastTools.py:117: PerformanceWarning: DataFrame is highly fragmented.  This is usually the result of calling `frame.insert` many times, which has poor performance.  Consider joining all columns at once using pd.concat(axis=1) instead. To get a de-fragmented frame, use `newframe = frame.copy()`\n",
      "  portfolio_cumulative_returns[n] = (1 + sim_df.fillna(0)).cumprod()\n",
      "C:\\Users\\Nia\\OneDrive\\Desktop\\UNCC Fintech Bootcamp\\Python\\Projects\\Project 1\\Bitcoin-Advisor-\\Project 1\\MCForecastTools.py:117: PerformanceWarning: DataFrame is highly fragmented.  This is usually the result of calling `frame.insert` many times, which has poor performance.  Consider joining all columns at once using pd.concat(axis=1) instead. To get a de-fragmented frame, use `newframe = frame.copy()`\n",
      "  portfolio_cumulative_returns[n] = (1 + sim_df.fillna(0)).cumprod()\n",
      "C:\\Users\\Nia\\OneDrive\\Desktop\\UNCC Fintech Bootcamp\\Python\\Projects\\Project 1\\Bitcoin-Advisor-\\Project 1\\MCForecastTools.py:117: PerformanceWarning: DataFrame is highly fragmented.  This is usually the result of calling `frame.insert` many times, which has poor performance.  Consider joining all columns at once using pd.concat(axis=1) instead. To get a de-fragmented frame, use `newframe = frame.copy()`\n",
      "  portfolio_cumulative_returns[n] = (1 + sim_df.fillna(0)).cumprod()\n",
      "C:\\Users\\Nia\\OneDrive\\Desktop\\UNCC Fintech Bootcamp\\Python\\Projects\\Project 1\\Bitcoin-Advisor-\\Project 1\\MCForecastTools.py:117: PerformanceWarning: DataFrame is highly fragmented.  This is usually the result of calling `frame.insert` many times, which has poor performance.  Consider joining all columns at once using pd.concat(axis=1) instead. To get a de-fragmented frame, use `newframe = frame.copy()`\n",
      "  portfolio_cumulative_returns[n] = (1 + sim_df.fillna(0)).cumprod()\n",
      "C:\\Users\\Nia\\OneDrive\\Desktop\\UNCC Fintech Bootcamp\\Python\\Projects\\Project 1\\Bitcoin-Advisor-\\Project 1\\MCForecastTools.py:117: PerformanceWarning: DataFrame is highly fragmented.  This is usually the result of calling `frame.insert` many times, which has poor performance.  Consider joining all columns at once using pd.concat(axis=1) instead. To get a de-fragmented frame, use `newframe = frame.copy()`\n",
      "  portfolio_cumulative_returns[n] = (1 + sim_df.fillna(0)).cumprod()\n"
     ]
    },
    {
     "name": "stdout",
     "output_type": "stream",
     "text": [
      "Running Monte Carlo simulation number 320.\n"
     ]
    },
    {
     "name": "stderr",
     "output_type": "stream",
     "text": [
      "C:\\Users\\Nia\\OneDrive\\Desktop\\UNCC Fintech Bootcamp\\Python\\Projects\\Project 1\\Bitcoin-Advisor-\\Project 1\\MCForecastTools.py:117: PerformanceWarning: DataFrame is highly fragmented.  This is usually the result of calling `frame.insert` many times, which has poor performance.  Consider joining all columns at once using pd.concat(axis=1) instead. To get a de-fragmented frame, use `newframe = frame.copy()`\n",
      "  portfolio_cumulative_returns[n] = (1 + sim_df.fillna(0)).cumprod()\n",
      "C:\\Users\\Nia\\OneDrive\\Desktop\\UNCC Fintech Bootcamp\\Python\\Projects\\Project 1\\Bitcoin-Advisor-\\Project 1\\MCForecastTools.py:117: PerformanceWarning: DataFrame is highly fragmented.  This is usually the result of calling `frame.insert` many times, which has poor performance.  Consider joining all columns at once using pd.concat(axis=1) instead. To get a de-fragmented frame, use `newframe = frame.copy()`\n",
      "  portfolio_cumulative_returns[n] = (1 + sim_df.fillna(0)).cumprod()\n",
      "C:\\Users\\Nia\\OneDrive\\Desktop\\UNCC Fintech Bootcamp\\Python\\Projects\\Project 1\\Bitcoin-Advisor-\\Project 1\\MCForecastTools.py:117: PerformanceWarning: DataFrame is highly fragmented.  This is usually the result of calling `frame.insert` many times, which has poor performance.  Consider joining all columns at once using pd.concat(axis=1) instead. To get a de-fragmented frame, use `newframe = frame.copy()`\n",
      "  portfolio_cumulative_returns[n] = (1 + sim_df.fillna(0)).cumprod()\n",
      "C:\\Users\\Nia\\OneDrive\\Desktop\\UNCC Fintech Bootcamp\\Python\\Projects\\Project 1\\Bitcoin-Advisor-\\Project 1\\MCForecastTools.py:117: PerformanceWarning: DataFrame is highly fragmented.  This is usually the result of calling `frame.insert` many times, which has poor performance.  Consider joining all columns at once using pd.concat(axis=1) instead. To get a de-fragmented frame, use `newframe = frame.copy()`\n",
      "  portfolio_cumulative_returns[n] = (1 + sim_df.fillna(0)).cumprod()\n",
      "C:\\Users\\Nia\\OneDrive\\Desktop\\UNCC Fintech Bootcamp\\Python\\Projects\\Project 1\\Bitcoin-Advisor-\\Project 1\\MCForecastTools.py:117: PerformanceWarning: DataFrame is highly fragmented.  This is usually the result of calling `frame.insert` many times, which has poor performance.  Consider joining all columns at once using pd.concat(axis=1) instead. To get a de-fragmented frame, use `newframe = frame.copy()`\n",
      "  portfolio_cumulative_returns[n] = (1 + sim_df.fillna(0)).cumprod()\n",
      "C:\\Users\\Nia\\OneDrive\\Desktop\\UNCC Fintech Bootcamp\\Python\\Projects\\Project 1\\Bitcoin-Advisor-\\Project 1\\MCForecastTools.py:117: PerformanceWarning: DataFrame is highly fragmented.  This is usually the result of calling `frame.insert` many times, which has poor performance.  Consider joining all columns at once using pd.concat(axis=1) instead. To get a de-fragmented frame, use `newframe = frame.copy()`\n",
      "  portfolio_cumulative_returns[n] = (1 + sim_df.fillna(0)).cumprod()\n",
      "C:\\Users\\Nia\\OneDrive\\Desktop\\UNCC Fintech Bootcamp\\Python\\Projects\\Project 1\\Bitcoin-Advisor-\\Project 1\\MCForecastTools.py:117: PerformanceWarning: DataFrame is highly fragmented.  This is usually the result of calling `frame.insert` many times, which has poor performance.  Consider joining all columns at once using pd.concat(axis=1) instead. To get a de-fragmented frame, use `newframe = frame.copy()`\n",
      "  portfolio_cumulative_returns[n] = (1 + sim_df.fillna(0)).cumprod()\n",
      "C:\\Users\\Nia\\OneDrive\\Desktop\\UNCC Fintech Bootcamp\\Python\\Projects\\Project 1\\Bitcoin-Advisor-\\Project 1\\MCForecastTools.py:117: PerformanceWarning: DataFrame is highly fragmented.  This is usually the result of calling `frame.insert` many times, which has poor performance.  Consider joining all columns at once using pd.concat(axis=1) instead. To get a de-fragmented frame, use `newframe = frame.copy()`\n",
      "  portfolio_cumulative_returns[n] = (1 + sim_df.fillna(0)).cumprod()\n",
      "C:\\Users\\Nia\\OneDrive\\Desktop\\UNCC Fintech Bootcamp\\Python\\Projects\\Project 1\\Bitcoin-Advisor-\\Project 1\\MCForecastTools.py:117: PerformanceWarning: DataFrame is highly fragmented.  This is usually the result of calling `frame.insert` many times, which has poor performance.  Consider joining all columns at once using pd.concat(axis=1) instead. To get a de-fragmented frame, use `newframe = frame.copy()`\n",
      "  portfolio_cumulative_returns[n] = (1 + sim_df.fillna(0)).cumprod()\n"
     ]
    },
    {
     "name": "stdout",
     "output_type": "stream",
     "text": [
      "Running Monte Carlo simulation number 330.\n"
     ]
    },
    {
     "name": "stderr",
     "output_type": "stream",
     "text": [
      "C:\\Users\\Nia\\OneDrive\\Desktop\\UNCC Fintech Bootcamp\\Python\\Projects\\Project 1\\Bitcoin-Advisor-\\Project 1\\MCForecastTools.py:117: PerformanceWarning: DataFrame is highly fragmented.  This is usually the result of calling `frame.insert` many times, which has poor performance.  Consider joining all columns at once using pd.concat(axis=1) instead. To get a de-fragmented frame, use `newframe = frame.copy()`\n",
      "  portfolio_cumulative_returns[n] = (1 + sim_df.fillna(0)).cumprod()\n",
      "C:\\Users\\Nia\\OneDrive\\Desktop\\UNCC Fintech Bootcamp\\Python\\Projects\\Project 1\\Bitcoin-Advisor-\\Project 1\\MCForecastTools.py:117: PerformanceWarning: DataFrame is highly fragmented.  This is usually the result of calling `frame.insert` many times, which has poor performance.  Consider joining all columns at once using pd.concat(axis=1) instead. To get a de-fragmented frame, use `newframe = frame.copy()`\n",
      "  portfolio_cumulative_returns[n] = (1 + sim_df.fillna(0)).cumprod()\n",
      "C:\\Users\\Nia\\OneDrive\\Desktop\\UNCC Fintech Bootcamp\\Python\\Projects\\Project 1\\Bitcoin-Advisor-\\Project 1\\MCForecastTools.py:117: PerformanceWarning: DataFrame is highly fragmented.  This is usually the result of calling `frame.insert` many times, which has poor performance.  Consider joining all columns at once using pd.concat(axis=1) instead. To get a de-fragmented frame, use `newframe = frame.copy()`\n",
      "  portfolio_cumulative_returns[n] = (1 + sim_df.fillna(0)).cumprod()\n",
      "C:\\Users\\Nia\\OneDrive\\Desktop\\UNCC Fintech Bootcamp\\Python\\Projects\\Project 1\\Bitcoin-Advisor-\\Project 1\\MCForecastTools.py:117: PerformanceWarning: DataFrame is highly fragmented.  This is usually the result of calling `frame.insert` many times, which has poor performance.  Consider joining all columns at once using pd.concat(axis=1) instead. To get a de-fragmented frame, use `newframe = frame.copy()`\n",
      "  portfolio_cumulative_returns[n] = (1 + sim_df.fillna(0)).cumprod()\n",
      "C:\\Users\\Nia\\OneDrive\\Desktop\\UNCC Fintech Bootcamp\\Python\\Projects\\Project 1\\Bitcoin-Advisor-\\Project 1\\MCForecastTools.py:117: PerformanceWarning: DataFrame is highly fragmented.  This is usually the result of calling `frame.insert` many times, which has poor performance.  Consider joining all columns at once using pd.concat(axis=1) instead. To get a de-fragmented frame, use `newframe = frame.copy()`\n",
      "  portfolio_cumulative_returns[n] = (1 + sim_df.fillna(0)).cumprod()\n",
      "C:\\Users\\Nia\\OneDrive\\Desktop\\UNCC Fintech Bootcamp\\Python\\Projects\\Project 1\\Bitcoin-Advisor-\\Project 1\\MCForecastTools.py:117: PerformanceWarning: DataFrame is highly fragmented.  This is usually the result of calling `frame.insert` many times, which has poor performance.  Consider joining all columns at once using pd.concat(axis=1) instead. To get a de-fragmented frame, use `newframe = frame.copy()`\n",
      "  portfolio_cumulative_returns[n] = (1 + sim_df.fillna(0)).cumprod()\n",
      "C:\\Users\\Nia\\OneDrive\\Desktop\\UNCC Fintech Bootcamp\\Python\\Projects\\Project 1\\Bitcoin-Advisor-\\Project 1\\MCForecastTools.py:117: PerformanceWarning: DataFrame is highly fragmented.  This is usually the result of calling `frame.insert` many times, which has poor performance.  Consider joining all columns at once using pd.concat(axis=1) instead. To get a de-fragmented frame, use `newframe = frame.copy()`\n",
      "  portfolio_cumulative_returns[n] = (1 + sim_df.fillna(0)).cumprod()\n",
      "C:\\Users\\Nia\\OneDrive\\Desktop\\UNCC Fintech Bootcamp\\Python\\Projects\\Project 1\\Bitcoin-Advisor-\\Project 1\\MCForecastTools.py:117: PerformanceWarning: DataFrame is highly fragmented.  This is usually the result of calling `frame.insert` many times, which has poor performance.  Consider joining all columns at once using pd.concat(axis=1) instead. To get a de-fragmented frame, use `newframe = frame.copy()`\n",
      "  portfolio_cumulative_returns[n] = (1 + sim_df.fillna(0)).cumprod()\n"
     ]
    },
    {
     "name": "stdout",
     "output_type": "stream",
     "text": [
      "Running Monte Carlo simulation number 340.\n"
     ]
    },
    {
     "name": "stderr",
     "output_type": "stream",
     "text": [
      "C:\\Users\\Nia\\OneDrive\\Desktop\\UNCC Fintech Bootcamp\\Python\\Projects\\Project 1\\Bitcoin-Advisor-\\Project 1\\MCForecastTools.py:117: PerformanceWarning: DataFrame is highly fragmented.  This is usually the result of calling `frame.insert` many times, which has poor performance.  Consider joining all columns at once using pd.concat(axis=1) instead. To get a de-fragmented frame, use `newframe = frame.copy()`\n",
      "  portfolio_cumulative_returns[n] = (1 + sim_df.fillna(0)).cumprod()\n",
      "C:\\Users\\Nia\\OneDrive\\Desktop\\UNCC Fintech Bootcamp\\Python\\Projects\\Project 1\\Bitcoin-Advisor-\\Project 1\\MCForecastTools.py:117: PerformanceWarning: DataFrame is highly fragmented.  This is usually the result of calling `frame.insert` many times, which has poor performance.  Consider joining all columns at once using pd.concat(axis=1) instead. To get a de-fragmented frame, use `newframe = frame.copy()`\n",
      "  portfolio_cumulative_returns[n] = (1 + sim_df.fillna(0)).cumprod()\n",
      "C:\\Users\\Nia\\OneDrive\\Desktop\\UNCC Fintech Bootcamp\\Python\\Projects\\Project 1\\Bitcoin-Advisor-\\Project 1\\MCForecastTools.py:117: PerformanceWarning: DataFrame is highly fragmented.  This is usually the result of calling `frame.insert` many times, which has poor performance.  Consider joining all columns at once using pd.concat(axis=1) instead. To get a de-fragmented frame, use `newframe = frame.copy()`\n",
      "  portfolio_cumulative_returns[n] = (1 + sim_df.fillna(0)).cumprod()\n",
      "C:\\Users\\Nia\\OneDrive\\Desktop\\UNCC Fintech Bootcamp\\Python\\Projects\\Project 1\\Bitcoin-Advisor-\\Project 1\\MCForecastTools.py:117: PerformanceWarning: DataFrame is highly fragmented.  This is usually the result of calling `frame.insert` many times, which has poor performance.  Consider joining all columns at once using pd.concat(axis=1) instead. To get a de-fragmented frame, use `newframe = frame.copy()`\n",
      "  portfolio_cumulative_returns[n] = (1 + sim_df.fillna(0)).cumprod()\n",
      "C:\\Users\\Nia\\OneDrive\\Desktop\\UNCC Fintech Bootcamp\\Python\\Projects\\Project 1\\Bitcoin-Advisor-\\Project 1\\MCForecastTools.py:117: PerformanceWarning: DataFrame is highly fragmented.  This is usually the result of calling `frame.insert` many times, which has poor performance.  Consider joining all columns at once using pd.concat(axis=1) instead. To get a de-fragmented frame, use `newframe = frame.copy()`\n",
      "  portfolio_cumulative_returns[n] = (1 + sim_df.fillna(0)).cumprod()\n",
      "C:\\Users\\Nia\\OneDrive\\Desktop\\UNCC Fintech Bootcamp\\Python\\Projects\\Project 1\\Bitcoin-Advisor-\\Project 1\\MCForecastTools.py:117: PerformanceWarning: DataFrame is highly fragmented.  This is usually the result of calling `frame.insert` many times, which has poor performance.  Consider joining all columns at once using pd.concat(axis=1) instead. To get a de-fragmented frame, use `newframe = frame.copy()`\n",
      "  portfolio_cumulative_returns[n] = (1 + sim_df.fillna(0)).cumprod()\n",
      "C:\\Users\\Nia\\OneDrive\\Desktop\\UNCC Fintech Bootcamp\\Python\\Projects\\Project 1\\Bitcoin-Advisor-\\Project 1\\MCForecastTools.py:117: PerformanceWarning: DataFrame is highly fragmented.  This is usually the result of calling `frame.insert` many times, which has poor performance.  Consider joining all columns at once using pd.concat(axis=1) instead. To get a de-fragmented frame, use `newframe = frame.copy()`\n",
      "  portfolio_cumulative_returns[n] = (1 + sim_df.fillna(0)).cumprod()\n",
      "C:\\Users\\Nia\\OneDrive\\Desktop\\UNCC Fintech Bootcamp\\Python\\Projects\\Project 1\\Bitcoin-Advisor-\\Project 1\\MCForecastTools.py:117: PerformanceWarning: DataFrame is highly fragmented.  This is usually the result of calling `frame.insert` many times, which has poor performance.  Consider joining all columns at once using pd.concat(axis=1) instead. To get a de-fragmented frame, use `newframe = frame.copy()`\n",
      "  portfolio_cumulative_returns[n] = (1 + sim_df.fillna(0)).cumprod()\n",
      "C:\\Users\\Nia\\OneDrive\\Desktop\\UNCC Fintech Bootcamp\\Python\\Projects\\Project 1\\Bitcoin-Advisor-\\Project 1\\MCForecastTools.py:117: PerformanceWarning: DataFrame is highly fragmented.  This is usually the result of calling `frame.insert` many times, which has poor performance.  Consider joining all columns at once using pd.concat(axis=1) instead. To get a de-fragmented frame, use `newframe = frame.copy()`\n",
      "  portfolio_cumulative_returns[n] = (1 + sim_df.fillna(0)).cumprod()\n",
      "C:\\Users\\Nia\\OneDrive\\Desktop\\UNCC Fintech Bootcamp\\Python\\Projects\\Project 1\\Bitcoin-Advisor-\\Project 1\\MCForecastTools.py:117: PerformanceWarning: DataFrame is highly fragmented.  This is usually the result of calling `frame.insert` many times, which has poor performance.  Consider joining all columns at once using pd.concat(axis=1) instead. To get a de-fragmented frame, use `newframe = frame.copy()`\n",
      "  portfolio_cumulative_returns[n] = (1 + sim_df.fillna(0)).cumprod()\n"
     ]
    },
    {
     "name": "stdout",
     "output_type": "stream",
     "text": [
      "Running Monte Carlo simulation number 350.\n"
     ]
    },
    {
     "name": "stderr",
     "output_type": "stream",
     "text": [
      "C:\\Users\\Nia\\OneDrive\\Desktop\\UNCC Fintech Bootcamp\\Python\\Projects\\Project 1\\Bitcoin-Advisor-\\Project 1\\MCForecastTools.py:117: PerformanceWarning: DataFrame is highly fragmented.  This is usually the result of calling `frame.insert` many times, which has poor performance.  Consider joining all columns at once using pd.concat(axis=1) instead. To get a de-fragmented frame, use `newframe = frame.copy()`\n",
      "  portfolio_cumulative_returns[n] = (1 + sim_df.fillna(0)).cumprod()\n",
      "C:\\Users\\Nia\\OneDrive\\Desktop\\UNCC Fintech Bootcamp\\Python\\Projects\\Project 1\\Bitcoin-Advisor-\\Project 1\\MCForecastTools.py:117: PerformanceWarning: DataFrame is highly fragmented.  This is usually the result of calling `frame.insert` many times, which has poor performance.  Consider joining all columns at once using pd.concat(axis=1) instead. To get a de-fragmented frame, use `newframe = frame.copy()`\n",
      "  portfolio_cumulative_returns[n] = (1 + sim_df.fillna(0)).cumprod()\n",
      "C:\\Users\\Nia\\OneDrive\\Desktop\\UNCC Fintech Bootcamp\\Python\\Projects\\Project 1\\Bitcoin-Advisor-\\Project 1\\MCForecastTools.py:117: PerformanceWarning: DataFrame is highly fragmented.  This is usually the result of calling `frame.insert` many times, which has poor performance.  Consider joining all columns at once using pd.concat(axis=1) instead. To get a de-fragmented frame, use `newframe = frame.copy()`\n",
      "  portfolio_cumulative_returns[n] = (1 + sim_df.fillna(0)).cumprod()\n",
      "C:\\Users\\Nia\\OneDrive\\Desktop\\UNCC Fintech Bootcamp\\Python\\Projects\\Project 1\\Bitcoin-Advisor-\\Project 1\\MCForecastTools.py:117: PerformanceWarning: DataFrame is highly fragmented.  This is usually the result of calling `frame.insert` many times, which has poor performance.  Consider joining all columns at once using pd.concat(axis=1) instead. To get a de-fragmented frame, use `newframe = frame.copy()`\n",
      "  portfolio_cumulative_returns[n] = (1 + sim_df.fillna(0)).cumprod()\n",
      "C:\\Users\\Nia\\OneDrive\\Desktop\\UNCC Fintech Bootcamp\\Python\\Projects\\Project 1\\Bitcoin-Advisor-\\Project 1\\MCForecastTools.py:117: PerformanceWarning: DataFrame is highly fragmented.  This is usually the result of calling `frame.insert` many times, which has poor performance.  Consider joining all columns at once using pd.concat(axis=1) instead. To get a de-fragmented frame, use `newframe = frame.copy()`\n",
      "  portfolio_cumulative_returns[n] = (1 + sim_df.fillna(0)).cumprod()\n",
      "C:\\Users\\Nia\\OneDrive\\Desktop\\UNCC Fintech Bootcamp\\Python\\Projects\\Project 1\\Bitcoin-Advisor-\\Project 1\\MCForecastTools.py:117: PerformanceWarning: DataFrame is highly fragmented.  This is usually the result of calling `frame.insert` many times, which has poor performance.  Consider joining all columns at once using pd.concat(axis=1) instead. To get a de-fragmented frame, use `newframe = frame.copy()`\n",
      "  portfolio_cumulative_returns[n] = (1 + sim_df.fillna(0)).cumprod()\n",
      "C:\\Users\\Nia\\OneDrive\\Desktop\\UNCC Fintech Bootcamp\\Python\\Projects\\Project 1\\Bitcoin-Advisor-\\Project 1\\MCForecastTools.py:117: PerformanceWarning: DataFrame is highly fragmented.  This is usually the result of calling `frame.insert` many times, which has poor performance.  Consider joining all columns at once using pd.concat(axis=1) instead. To get a de-fragmented frame, use `newframe = frame.copy()`\n",
      "  portfolio_cumulative_returns[n] = (1 + sim_df.fillna(0)).cumprod()\n",
      "C:\\Users\\Nia\\OneDrive\\Desktop\\UNCC Fintech Bootcamp\\Python\\Projects\\Project 1\\Bitcoin-Advisor-\\Project 1\\MCForecastTools.py:117: PerformanceWarning: DataFrame is highly fragmented.  This is usually the result of calling `frame.insert` many times, which has poor performance.  Consider joining all columns at once using pd.concat(axis=1) instead. To get a de-fragmented frame, use `newframe = frame.copy()`\n",
      "  portfolio_cumulative_returns[n] = (1 + sim_df.fillna(0)).cumprod()\n",
      "C:\\Users\\Nia\\OneDrive\\Desktop\\UNCC Fintech Bootcamp\\Python\\Projects\\Project 1\\Bitcoin-Advisor-\\Project 1\\MCForecastTools.py:117: PerformanceWarning: DataFrame is highly fragmented.  This is usually the result of calling `frame.insert` many times, which has poor performance.  Consider joining all columns at once using pd.concat(axis=1) instead. To get a de-fragmented frame, use `newframe = frame.copy()`\n",
      "  portfolio_cumulative_returns[n] = (1 + sim_df.fillna(0)).cumprod()\n",
      "C:\\Users\\Nia\\OneDrive\\Desktop\\UNCC Fintech Bootcamp\\Python\\Projects\\Project 1\\Bitcoin-Advisor-\\Project 1\\MCForecastTools.py:117: PerformanceWarning: DataFrame is highly fragmented.  This is usually the result of calling `frame.insert` many times, which has poor performance.  Consider joining all columns at once using pd.concat(axis=1) instead. To get a de-fragmented frame, use `newframe = frame.copy()`\n",
      "  portfolio_cumulative_returns[n] = (1 + sim_df.fillna(0)).cumprod()\n"
     ]
    },
    {
     "name": "stdout",
     "output_type": "stream",
     "text": [
      "Running Monte Carlo simulation number 360.\n"
     ]
    },
    {
     "name": "stderr",
     "output_type": "stream",
     "text": [
      "C:\\Users\\Nia\\OneDrive\\Desktop\\UNCC Fintech Bootcamp\\Python\\Projects\\Project 1\\Bitcoin-Advisor-\\Project 1\\MCForecastTools.py:117: PerformanceWarning: DataFrame is highly fragmented.  This is usually the result of calling `frame.insert` many times, which has poor performance.  Consider joining all columns at once using pd.concat(axis=1) instead. To get a de-fragmented frame, use `newframe = frame.copy()`\n",
      "  portfolio_cumulative_returns[n] = (1 + sim_df.fillna(0)).cumprod()\n",
      "C:\\Users\\Nia\\OneDrive\\Desktop\\UNCC Fintech Bootcamp\\Python\\Projects\\Project 1\\Bitcoin-Advisor-\\Project 1\\MCForecastTools.py:117: PerformanceWarning: DataFrame is highly fragmented.  This is usually the result of calling `frame.insert` many times, which has poor performance.  Consider joining all columns at once using pd.concat(axis=1) instead. To get a de-fragmented frame, use `newframe = frame.copy()`\n",
      "  portfolio_cumulative_returns[n] = (1 + sim_df.fillna(0)).cumprod()\n",
      "C:\\Users\\Nia\\OneDrive\\Desktop\\UNCC Fintech Bootcamp\\Python\\Projects\\Project 1\\Bitcoin-Advisor-\\Project 1\\MCForecastTools.py:117: PerformanceWarning: DataFrame is highly fragmented.  This is usually the result of calling `frame.insert` many times, which has poor performance.  Consider joining all columns at once using pd.concat(axis=1) instead. To get a de-fragmented frame, use `newframe = frame.copy()`\n",
      "  portfolio_cumulative_returns[n] = (1 + sim_df.fillna(0)).cumprod()\n",
      "C:\\Users\\Nia\\OneDrive\\Desktop\\UNCC Fintech Bootcamp\\Python\\Projects\\Project 1\\Bitcoin-Advisor-\\Project 1\\MCForecastTools.py:117: PerformanceWarning: DataFrame is highly fragmented.  This is usually the result of calling `frame.insert` many times, which has poor performance.  Consider joining all columns at once using pd.concat(axis=1) instead. To get a de-fragmented frame, use `newframe = frame.copy()`\n",
      "  portfolio_cumulative_returns[n] = (1 + sim_df.fillna(0)).cumprod()\n",
      "C:\\Users\\Nia\\OneDrive\\Desktop\\UNCC Fintech Bootcamp\\Python\\Projects\\Project 1\\Bitcoin-Advisor-\\Project 1\\MCForecastTools.py:117: PerformanceWarning: DataFrame is highly fragmented.  This is usually the result of calling `frame.insert` many times, which has poor performance.  Consider joining all columns at once using pd.concat(axis=1) instead. To get a de-fragmented frame, use `newframe = frame.copy()`\n",
      "  portfolio_cumulative_returns[n] = (1 + sim_df.fillna(0)).cumprod()\n",
      "C:\\Users\\Nia\\OneDrive\\Desktop\\UNCC Fintech Bootcamp\\Python\\Projects\\Project 1\\Bitcoin-Advisor-\\Project 1\\MCForecastTools.py:117: PerformanceWarning: DataFrame is highly fragmented.  This is usually the result of calling `frame.insert` many times, which has poor performance.  Consider joining all columns at once using pd.concat(axis=1) instead. To get a de-fragmented frame, use `newframe = frame.copy()`\n",
      "  portfolio_cumulative_returns[n] = (1 + sim_df.fillna(0)).cumprod()\n",
      "C:\\Users\\Nia\\OneDrive\\Desktop\\UNCC Fintech Bootcamp\\Python\\Projects\\Project 1\\Bitcoin-Advisor-\\Project 1\\MCForecastTools.py:117: PerformanceWarning: DataFrame is highly fragmented.  This is usually the result of calling `frame.insert` many times, which has poor performance.  Consider joining all columns at once using pd.concat(axis=1) instead. To get a de-fragmented frame, use `newframe = frame.copy()`\n",
      "  portfolio_cumulative_returns[n] = (1 + sim_df.fillna(0)).cumprod()\n",
      "C:\\Users\\Nia\\OneDrive\\Desktop\\UNCC Fintech Bootcamp\\Python\\Projects\\Project 1\\Bitcoin-Advisor-\\Project 1\\MCForecastTools.py:117: PerformanceWarning: DataFrame is highly fragmented.  This is usually the result of calling `frame.insert` many times, which has poor performance.  Consider joining all columns at once using pd.concat(axis=1) instead. To get a de-fragmented frame, use `newframe = frame.copy()`\n",
      "  portfolio_cumulative_returns[n] = (1 + sim_df.fillna(0)).cumprod()\n",
      "C:\\Users\\Nia\\OneDrive\\Desktop\\UNCC Fintech Bootcamp\\Python\\Projects\\Project 1\\Bitcoin-Advisor-\\Project 1\\MCForecastTools.py:117: PerformanceWarning: DataFrame is highly fragmented.  This is usually the result of calling `frame.insert` many times, which has poor performance.  Consider joining all columns at once using pd.concat(axis=1) instead. To get a de-fragmented frame, use `newframe = frame.copy()`\n",
      "  portfolio_cumulative_returns[n] = (1 + sim_df.fillna(0)).cumprod()\n",
      "C:\\Users\\Nia\\OneDrive\\Desktop\\UNCC Fintech Bootcamp\\Python\\Projects\\Project 1\\Bitcoin-Advisor-\\Project 1\\MCForecastTools.py:117: PerformanceWarning: DataFrame is highly fragmented.  This is usually the result of calling `frame.insert` many times, which has poor performance.  Consider joining all columns at once using pd.concat(axis=1) instead. To get a de-fragmented frame, use `newframe = frame.copy()`\n",
      "  portfolio_cumulative_returns[n] = (1 + sim_df.fillna(0)).cumprod()\n",
      "C:\\Users\\Nia\\OneDrive\\Desktop\\UNCC Fintech Bootcamp\\Python\\Projects\\Project 1\\Bitcoin-Advisor-\\Project 1\\MCForecastTools.py:117: PerformanceWarning: DataFrame is highly fragmented.  This is usually the result of calling `frame.insert` many times, which has poor performance.  Consider joining all columns at once using pd.concat(axis=1) instead. To get a de-fragmented frame, use `newframe = frame.copy()`\n",
      "  portfolio_cumulative_returns[n] = (1 + sim_df.fillna(0)).cumprod()\n",
      "C:\\Users\\Nia\\OneDrive\\Desktop\\UNCC Fintech Bootcamp\\Python\\Projects\\Project 1\\Bitcoin-Advisor-\\Project 1\\MCForecastTools.py:117: PerformanceWarning: DataFrame is highly fragmented.  This is usually the result of calling `frame.insert` many times, which has poor performance.  Consider joining all columns at once using pd.concat(axis=1) instead. To get a de-fragmented frame, use `newframe = frame.copy()`\n",
      "  portfolio_cumulative_returns[n] = (1 + sim_df.fillna(0)).cumprod()\n",
      "C:\\Users\\Nia\\OneDrive\\Desktop\\UNCC Fintech Bootcamp\\Python\\Projects\\Project 1\\Bitcoin-Advisor-\\Project 1\\MCForecastTools.py:117: PerformanceWarning: DataFrame is highly fragmented.  This is usually the result of calling `frame.insert` many times, which has poor performance.  Consider joining all columns at once using pd.concat(axis=1) instead. To get a de-fragmented frame, use `newframe = frame.copy()`\n",
      "  portfolio_cumulative_returns[n] = (1 + sim_df.fillna(0)).cumprod()\n",
      "C:\\Users\\Nia\\OneDrive\\Desktop\\UNCC Fintech Bootcamp\\Python\\Projects\\Project 1\\Bitcoin-Advisor-\\Project 1\\MCForecastTools.py:117: PerformanceWarning: DataFrame is highly fragmented.  This is usually the result of calling `frame.insert` many times, which has poor performance.  Consider joining all columns at once using pd.concat(axis=1) instead. To get a de-fragmented frame, use `newframe = frame.copy()`\n",
      "  portfolio_cumulative_returns[n] = (1 + sim_df.fillna(0)).cumprod()\n"
     ]
    },
    {
     "name": "stdout",
     "output_type": "stream",
     "text": [
      "Running Monte Carlo simulation number 370.\n"
     ]
    },
    {
     "name": "stderr",
     "output_type": "stream",
     "text": [
      "C:\\Users\\Nia\\OneDrive\\Desktop\\UNCC Fintech Bootcamp\\Python\\Projects\\Project 1\\Bitcoin-Advisor-\\Project 1\\MCForecastTools.py:117: PerformanceWarning: DataFrame is highly fragmented.  This is usually the result of calling `frame.insert` many times, which has poor performance.  Consider joining all columns at once using pd.concat(axis=1) instead. To get a de-fragmented frame, use `newframe = frame.copy()`\n",
      "  portfolio_cumulative_returns[n] = (1 + sim_df.fillna(0)).cumprod()\n",
      "C:\\Users\\Nia\\OneDrive\\Desktop\\UNCC Fintech Bootcamp\\Python\\Projects\\Project 1\\Bitcoin-Advisor-\\Project 1\\MCForecastTools.py:117: PerformanceWarning: DataFrame is highly fragmented.  This is usually the result of calling `frame.insert` many times, which has poor performance.  Consider joining all columns at once using pd.concat(axis=1) instead. To get a de-fragmented frame, use `newframe = frame.copy()`\n",
      "  portfolio_cumulative_returns[n] = (1 + sim_df.fillna(0)).cumprod()\n",
      "C:\\Users\\Nia\\OneDrive\\Desktop\\UNCC Fintech Bootcamp\\Python\\Projects\\Project 1\\Bitcoin-Advisor-\\Project 1\\MCForecastTools.py:117: PerformanceWarning: DataFrame is highly fragmented.  This is usually the result of calling `frame.insert` many times, which has poor performance.  Consider joining all columns at once using pd.concat(axis=1) instead. To get a de-fragmented frame, use `newframe = frame.copy()`\n",
      "  portfolio_cumulative_returns[n] = (1 + sim_df.fillna(0)).cumprod()\n",
      "C:\\Users\\Nia\\OneDrive\\Desktop\\UNCC Fintech Bootcamp\\Python\\Projects\\Project 1\\Bitcoin-Advisor-\\Project 1\\MCForecastTools.py:117: PerformanceWarning: DataFrame is highly fragmented.  This is usually the result of calling `frame.insert` many times, which has poor performance.  Consider joining all columns at once using pd.concat(axis=1) instead. To get a de-fragmented frame, use `newframe = frame.copy()`\n",
      "  portfolio_cumulative_returns[n] = (1 + sim_df.fillna(0)).cumprod()\n",
      "C:\\Users\\Nia\\OneDrive\\Desktop\\UNCC Fintech Bootcamp\\Python\\Projects\\Project 1\\Bitcoin-Advisor-\\Project 1\\MCForecastTools.py:117: PerformanceWarning: DataFrame is highly fragmented.  This is usually the result of calling `frame.insert` many times, which has poor performance.  Consider joining all columns at once using pd.concat(axis=1) instead. To get a de-fragmented frame, use `newframe = frame.copy()`\n",
      "  portfolio_cumulative_returns[n] = (1 + sim_df.fillna(0)).cumprod()\n",
      "C:\\Users\\Nia\\OneDrive\\Desktop\\UNCC Fintech Bootcamp\\Python\\Projects\\Project 1\\Bitcoin-Advisor-\\Project 1\\MCForecastTools.py:117: PerformanceWarning: DataFrame is highly fragmented.  This is usually the result of calling `frame.insert` many times, which has poor performance.  Consider joining all columns at once using pd.concat(axis=1) instead. To get a de-fragmented frame, use `newframe = frame.copy()`\n",
      "  portfolio_cumulative_returns[n] = (1 + sim_df.fillna(0)).cumprod()\n",
      "C:\\Users\\Nia\\OneDrive\\Desktop\\UNCC Fintech Bootcamp\\Python\\Projects\\Project 1\\Bitcoin-Advisor-\\Project 1\\MCForecastTools.py:117: PerformanceWarning: DataFrame is highly fragmented.  This is usually the result of calling `frame.insert` many times, which has poor performance.  Consider joining all columns at once using pd.concat(axis=1) instead. To get a de-fragmented frame, use `newframe = frame.copy()`\n",
      "  portfolio_cumulative_returns[n] = (1 + sim_df.fillna(0)).cumprod()\n",
      "C:\\Users\\Nia\\OneDrive\\Desktop\\UNCC Fintech Bootcamp\\Python\\Projects\\Project 1\\Bitcoin-Advisor-\\Project 1\\MCForecastTools.py:117: PerformanceWarning: DataFrame is highly fragmented.  This is usually the result of calling `frame.insert` many times, which has poor performance.  Consider joining all columns at once using pd.concat(axis=1) instead. To get a de-fragmented frame, use `newframe = frame.copy()`\n",
      "  portfolio_cumulative_returns[n] = (1 + sim_df.fillna(0)).cumprod()\n",
      "C:\\Users\\Nia\\OneDrive\\Desktop\\UNCC Fintech Bootcamp\\Python\\Projects\\Project 1\\Bitcoin-Advisor-\\Project 1\\MCForecastTools.py:117: PerformanceWarning: DataFrame is highly fragmented.  This is usually the result of calling `frame.insert` many times, which has poor performance.  Consider joining all columns at once using pd.concat(axis=1) instead. To get a de-fragmented frame, use `newframe = frame.copy()`\n",
      "  portfolio_cumulative_returns[n] = (1 + sim_df.fillna(0)).cumprod()\n"
     ]
    },
    {
     "name": "stdout",
     "output_type": "stream",
     "text": [
      "Running Monte Carlo simulation number 380.\n"
     ]
    },
    {
     "name": "stderr",
     "output_type": "stream",
     "text": [
      "C:\\Users\\Nia\\OneDrive\\Desktop\\UNCC Fintech Bootcamp\\Python\\Projects\\Project 1\\Bitcoin-Advisor-\\Project 1\\MCForecastTools.py:117: PerformanceWarning: DataFrame is highly fragmented.  This is usually the result of calling `frame.insert` many times, which has poor performance.  Consider joining all columns at once using pd.concat(axis=1) instead. To get a de-fragmented frame, use `newframe = frame.copy()`\n",
      "  portfolio_cumulative_returns[n] = (1 + sim_df.fillna(0)).cumprod()\n",
      "C:\\Users\\Nia\\OneDrive\\Desktop\\UNCC Fintech Bootcamp\\Python\\Projects\\Project 1\\Bitcoin-Advisor-\\Project 1\\MCForecastTools.py:117: PerformanceWarning: DataFrame is highly fragmented.  This is usually the result of calling `frame.insert` many times, which has poor performance.  Consider joining all columns at once using pd.concat(axis=1) instead. To get a de-fragmented frame, use `newframe = frame.copy()`\n",
      "  portfolio_cumulative_returns[n] = (1 + sim_df.fillna(0)).cumprod()\n",
      "C:\\Users\\Nia\\OneDrive\\Desktop\\UNCC Fintech Bootcamp\\Python\\Projects\\Project 1\\Bitcoin-Advisor-\\Project 1\\MCForecastTools.py:117: PerformanceWarning: DataFrame is highly fragmented.  This is usually the result of calling `frame.insert` many times, which has poor performance.  Consider joining all columns at once using pd.concat(axis=1) instead. To get a de-fragmented frame, use `newframe = frame.copy()`\n",
      "  portfolio_cumulative_returns[n] = (1 + sim_df.fillna(0)).cumprod()\n",
      "C:\\Users\\Nia\\OneDrive\\Desktop\\UNCC Fintech Bootcamp\\Python\\Projects\\Project 1\\Bitcoin-Advisor-\\Project 1\\MCForecastTools.py:117: PerformanceWarning: DataFrame is highly fragmented.  This is usually the result of calling `frame.insert` many times, which has poor performance.  Consider joining all columns at once using pd.concat(axis=1) instead. To get a de-fragmented frame, use `newframe = frame.copy()`\n",
      "  portfolio_cumulative_returns[n] = (1 + sim_df.fillna(0)).cumprod()\n",
      "C:\\Users\\Nia\\OneDrive\\Desktop\\UNCC Fintech Bootcamp\\Python\\Projects\\Project 1\\Bitcoin-Advisor-\\Project 1\\MCForecastTools.py:117: PerformanceWarning: DataFrame is highly fragmented.  This is usually the result of calling `frame.insert` many times, which has poor performance.  Consider joining all columns at once using pd.concat(axis=1) instead. To get a de-fragmented frame, use `newframe = frame.copy()`\n",
      "  portfolio_cumulative_returns[n] = (1 + sim_df.fillna(0)).cumprod()\n",
      "C:\\Users\\Nia\\OneDrive\\Desktop\\UNCC Fintech Bootcamp\\Python\\Projects\\Project 1\\Bitcoin-Advisor-\\Project 1\\MCForecastTools.py:117: PerformanceWarning: DataFrame is highly fragmented.  This is usually the result of calling `frame.insert` many times, which has poor performance.  Consider joining all columns at once using pd.concat(axis=1) instead. To get a de-fragmented frame, use `newframe = frame.copy()`\n",
      "  portfolio_cumulative_returns[n] = (1 + sim_df.fillna(0)).cumprod()\n",
      "C:\\Users\\Nia\\OneDrive\\Desktop\\UNCC Fintech Bootcamp\\Python\\Projects\\Project 1\\Bitcoin-Advisor-\\Project 1\\MCForecastTools.py:117: PerformanceWarning: DataFrame is highly fragmented.  This is usually the result of calling `frame.insert` many times, which has poor performance.  Consider joining all columns at once using pd.concat(axis=1) instead. To get a de-fragmented frame, use `newframe = frame.copy()`\n",
      "  portfolio_cumulative_returns[n] = (1 + sim_df.fillna(0)).cumprod()\n",
      "C:\\Users\\Nia\\OneDrive\\Desktop\\UNCC Fintech Bootcamp\\Python\\Projects\\Project 1\\Bitcoin-Advisor-\\Project 1\\MCForecastTools.py:117: PerformanceWarning: DataFrame is highly fragmented.  This is usually the result of calling `frame.insert` many times, which has poor performance.  Consider joining all columns at once using pd.concat(axis=1) instead. To get a de-fragmented frame, use `newframe = frame.copy()`\n",
      "  portfolio_cumulative_returns[n] = (1 + sim_df.fillna(0)).cumprod()\n",
      "C:\\Users\\Nia\\OneDrive\\Desktop\\UNCC Fintech Bootcamp\\Python\\Projects\\Project 1\\Bitcoin-Advisor-\\Project 1\\MCForecastTools.py:117: PerformanceWarning: DataFrame is highly fragmented.  This is usually the result of calling `frame.insert` many times, which has poor performance.  Consider joining all columns at once using pd.concat(axis=1) instead. To get a de-fragmented frame, use `newframe = frame.copy()`\n",
      "  portfolio_cumulative_returns[n] = (1 + sim_df.fillna(0)).cumprod()\n",
      "C:\\Users\\Nia\\OneDrive\\Desktop\\UNCC Fintech Bootcamp\\Python\\Projects\\Project 1\\Bitcoin-Advisor-\\Project 1\\MCForecastTools.py:117: PerformanceWarning: DataFrame is highly fragmented.  This is usually the result of calling `frame.insert` many times, which has poor performance.  Consider joining all columns at once using pd.concat(axis=1) instead. To get a de-fragmented frame, use `newframe = frame.copy()`\n",
      "  portfolio_cumulative_returns[n] = (1 + sim_df.fillna(0)).cumprod()\n"
     ]
    },
    {
     "name": "stdout",
     "output_type": "stream",
     "text": [
      "Running Monte Carlo simulation number 390.\n"
     ]
    },
    {
     "name": "stderr",
     "output_type": "stream",
     "text": [
      "C:\\Users\\Nia\\OneDrive\\Desktop\\UNCC Fintech Bootcamp\\Python\\Projects\\Project 1\\Bitcoin-Advisor-\\Project 1\\MCForecastTools.py:117: PerformanceWarning: DataFrame is highly fragmented.  This is usually the result of calling `frame.insert` many times, which has poor performance.  Consider joining all columns at once using pd.concat(axis=1) instead. To get a de-fragmented frame, use `newframe = frame.copy()`\n",
      "  portfolio_cumulative_returns[n] = (1 + sim_df.fillna(0)).cumprod()\n",
      "C:\\Users\\Nia\\OneDrive\\Desktop\\UNCC Fintech Bootcamp\\Python\\Projects\\Project 1\\Bitcoin-Advisor-\\Project 1\\MCForecastTools.py:117: PerformanceWarning: DataFrame is highly fragmented.  This is usually the result of calling `frame.insert` many times, which has poor performance.  Consider joining all columns at once using pd.concat(axis=1) instead. To get a de-fragmented frame, use `newframe = frame.copy()`\n",
      "  portfolio_cumulative_returns[n] = (1 + sim_df.fillna(0)).cumprod()\n",
      "C:\\Users\\Nia\\OneDrive\\Desktop\\UNCC Fintech Bootcamp\\Python\\Projects\\Project 1\\Bitcoin-Advisor-\\Project 1\\MCForecastTools.py:117: PerformanceWarning: DataFrame is highly fragmented.  This is usually the result of calling `frame.insert` many times, which has poor performance.  Consider joining all columns at once using pd.concat(axis=1) instead. To get a de-fragmented frame, use `newframe = frame.copy()`\n",
      "  portfolio_cumulative_returns[n] = (1 + sim_df.fillna(0)).cumprod()\n",
      "C:\\Users\\Nia\\OneDrive\\Desktop\\UNCC Fintech Bootcamp\\Python\\Projects\\Project 1\\Bitcoin-Advisor-\\Project 1\\MCForecastTools.py:117: PerformanceWarning: DataFrame is highly fragmented.  This is usually the result of calling `frame.insert` many times, which has poor performance.  Consider joining all columns at once using pd.concat(axis=1) instead. To get a de-fragmented frame, use `newframe = frame.copy()`\n",
      "  portfolio_cumulative_returns[n] = (1 + sim_df.fillna(0)).cumprod()\n",
      "C:\\Users\\Nia\\OneDrive\\Desktop\\UNCC Fintech Bootcamp\\Python\\Projects\\Project 1\\Bitcoin-Advisor-\\Project 1\\MCForecastTools.py:117: PerformanceWarning: DataFrame is highly fragmented.  This is usually the result of calling `frame.insert` many times, which has poor performance.  Consider joining all columns at once using pd.concat(axis=1) instead. To get a de-fragmented frame, use `newframe = frame.copy()`\n",
      "  portfolio_cumulative_returns[n] = (1 + sim_df.fillna(0)).cumprod()\n",
      "C:\\Users\\Nia\\OneDrive\\Desktop\\UNCC Fintech Bootcamp\\Python\\Projects\\Project 1\\Bitcoin-Advisor-\\Project 1\\MCForecastTools.py:117: PerformanceWarning: DataFrame is highly fragmented.  This is usually the result of calling `frame.insert` many times, which has poor performance.  Consider joining all columns at once using pd.concat(axis=1) instead. To get a de-fragmented frame, use `newframe = frame.copy()`\n",
      "  portfolio_cumulative_returns[n] = (1 + sim_df.fillna(0)).cumprod()\n",
      "C:\\Users\\Nia\\OneDrive\\Desktop\\UNCC Fintech Bootcamp\\Python\\Projects\\Project 1\\Bitcoin-Advisor-\\Project 1\\MCForecastTools.py:117: PerformanceWarning: DataFrame is highly fragmented.  This is usually the result of calling `frame.insert` many times, which has poor performance.  Consider joining all columns at once using pd.concat(axis=1) instead. To get a de-fragmented frame, use `newframe = frame.copy()`\n",
      "  portfolio_cumulative_returns[n] = (1 + sim_df.fillna(0)).cumprod()\n",
      "C:\\Users\\Nia\\OneDrive\\Desktop\\UNCC Fintech Bootcamp\\Python\\Projects\\Project 1\\Bitcoin-Advisor-\\Project 1\\MCForecastTools.py:117: PerformanceWarning: DataFrame is highly fragmented.  This is usually the result of calling `frame.insert` many times, which has poor performance.  Consider joining all columns at once using pd.concat(axis=1) instead. To get a de-fragmented frame, use `newframe = frame.copy()`\n",
      "  portfolio_cumulative_returns[n] = (1 + sim_df.fillna(0)).cumprod()\n",
      "C:\\Users\\Nia\\OneDrive\\Desktop\\UNCC Fintech Bootcamp\\Python\\Projects\\Project 1\\Bitcoin-Advisor-\\Project 1\\MCForecastTools.py:117: PerformanceWarning: DataFrame is highly fragmented.  This is usually the result of calling `frame.insert` many times, which has poor performance.  Consider joining all columns at once using pd.concat(axis=1) instead. To get a de-fragmented frame, use `newframe = frame.copy()`\n",
      "  portfolio_cumulative_returns[n] = (1 + sim_df.fillna(0)).cumprod()\n",
      "C:\\Users\\Nia\\OneDrive\\Desktop\\UNCC Fintech Bootcamp\\Python\\Projects\\Project 1\\Bitcoin-Advisor-\\Project 1\\MCForecastTools.py:117: PerformanceWarning: DataFrame is highly fragmented.  This is usually the result of calling `frame.insert` many times, which has poor performance.  Consider joining all columns at once using pd.concat(axis=1) instead. To get a de-fragmented frame, use `newframe = frame.copy()`\n",
      "  portfolio_cumulative_returns[n] = (1 + sim_df.fillna(0)).cumprod()\n"
     ]
    },
    {
     "name": "stdout",
     "output_type": "stream",
     "text": [
      "Running Monte Carlo simulation number 400.\n"
     ]
    },
    {
     "name": "stderr",
     "output_type": "stream",
     "text": [
      "C:\\Users\\Nia\\OneDrive\\Desktop\\UNCC Fintech Bootcamp\\Python\\Projects\\Project 1\\Bitcoin-Advisor-\\Project 1\\MCForecastTools.py:117: PerformanceWarning: DataFrame is highly fragmented.  This is usually the result of calling `frame.insert` many times, which has poor performance.  Consider joining all columns at once using pd.concat(axis=1) instead. To get a de-fragmented frame, use `newframe = frame.copy()`\n",
      "  portfolio_cumulative_returns[n] = (1 + sim_df.fillna(0)).cumprod()\n",
      "C:\\Users\\Nia\\OneDrive\\Desktop\\UNCC Fintech Bootcamp\\Python\\Projects\\Project 1\\Bitcoin-Advisor-\\Project 1\\MCForecastTools.py:117: PerformanceWarning: DataFrame is highly fragmented.  This is usually the result of calling `frame.insert` many times, which has poor performance.  Consider joining all columns at once using pd.concat(axis=1) instead. To get a de-fragmented frame, use `newframe = frame.copy()`\n",
      "  portfolio_cumulative_returns[n] = (1 + sim_df.fillna(0)).cumprod()\n",
      "C:\\Users\\Nia\\OneDrive\\Desktop\\UNCC Fintech Bootcamp\\Python\\Projects\\Project 1\\Bitcoin-Advisor-\\Project 1\\MCForecastTools.py:117: PerformanceWarning: DataFrame is highly fragmented.  This is usually the result of calling `frame.insert` many times, which has poor performance.  Consider joining all columns at once using pd.concat(axis=1) instead. To get a de-fragmented frame, use `newframe = frame.copy()`\n",
      "  portfolio_cumulative_returns[n] = (1 + sim_df.fillna(0)).cumprod()\n",
      "C:\\Users\\Nia\\OneDrive\\Desktop\\UNCC Fintech Bootcamp\\Python\\Projects\\Project 1\\Bitcoin-Advisor-\\Project 1\\MCForecastTools.py:117: PerformanceWarning: DataFrame is highly fragmented.  This is usually the result of calling `frame.insert` many times, which has poor performance.  Consider joining all columns at once using pd.concat(axis=1) instead. To get a de-fragmented frame, use `newframe = frame.copy()`\n",
      "  portfolio_cumulative_returns[n] = (1 + sim_df.fillna(0)).cumprod()\n",
      "C:\\Users\\Nia\\OneDrive\\Desktop\\UNCC Fintech Bootcamp\\Python\\Projects\\Project 1\\Bitcoin-Advisor-\\Project 1\\MCForecastTools.py:117: PerformanceWarning: DataFrame is highly fragmented.  This is usually the result of calling `frame.insert` many times, which has poor performance.  Consider joining all columns at once using pd.concat(axis=1) instead. To get a de-fragmented frame, use `newframe = frame.copy()`\n",
      "  portfolio_cumulative_returns[n] = (1 + sim_df.fillna(0)).cumprod()\n",
      "C:\\Users\\Nia\\OneDrive\\Desktop\\UNCC Fintech Bootcamp\\Python\\Projects\\Project 1\\Bitcoin-Advisor-\\Project 1\\MCForecastTools.py:117: PerformanceWarning: DataFrame is highly fragmented.  This is usually the result of calling `frame.insert` many times, which has poor performance.  Consider joining all columns at once using pd.concat(axis=1) instead. To get a de-fragmented frame, use `newframe = frame.copy()`\n",
      "  portfolio_cumulative_returns[n] = (1 + sim_df.fillna(0)).cumprod()\n",
      "C:\\Users\\Nia\\OneDrive\\Desktop\\UNCC Fintech Bootcamp\\Python\\Projects\\Project 1\\Bitcoin-Advisor-\\Project 1\\MCForecastTools.py:117: PerformanceWarning: DataFrame is highly fragmented.  This is usually the result of calling `frame.insert` many times, which has poor performance.  Consider joining all columns at once using pd.concat(axis=1) instead. To get a de-fragmented frame, use `newframe = frame.copy()`\n",
      "  portfolio_cumulative_returns[n] = (1 + sim_df.fillna(0)).cumprod()\n",
      "C:\\Users\\Nia\\OneDrive\\Desktop\\UNCC Fintech Bootcamp\\Python\\Projects\\Project 1\\Bitcoin-Advisor-\\Project 1\\MCForecastTools.py:117: PerformanceWarning: DataFrame is highly fragmented.  This is usually the result of calling `frame.insert` many times, which has poor performance.  Consider joining all columns at once using pd.concat(axis=1) instead. To get a de-fragmented frame, use `newframe = frame.copy()`\n",
      "  portfolio_cumulative_returns[n] = (1 + sim_df.fillna(0)).cumprod()\n",
      "C:\\Users\\Nia\\OneDrive\\Desktop\\UNCC Fintech Bootcamp\\Python\\Projects\\Project 1\\Bitcoin-Advisor-\\Project 1\\MCForecastTools.py:117: PerformanceWarning: DataFrame is highly fragmented.  This is usually the result of calling `frame.insert` many times, which has poor performance.  Consider joining all columns at once using pd.concat(axis=1) instead. To get a de-fragmented frame, use `newframe = frame.copy()`\n",
      "  portfolio_cumulative_returns[n] = (1 + sim_df.fillna(0)).cumprod()\n",
      "C:\\Users\\Nia\\OneDrive\\Desktop\\UNCC Fintech Bootcamp\\Python\\Projects\\Project 1\\Bitcoin-Advisor-\\Project 1\\MCForecastTools.py:117: PerformanceWarning: DataFrame is highly fragmented.  This is usually the result of calling `frame.insert` many times, which has poor performance.  Consider joining all columns at once using pd.concat(axis=1) instead. To get a de-fragmented frame, use `newframe = frame.copy()`\n",
      "  portfolio_cumulative_returns[n] = (1 + sim_df.fillna(0)).cumprod()\n"
     ]
    },
    {
     "name": "stdout",
     "output_type": "stream",
     "text": [
      "Running Monte Carlo simulation number 410.\n"
     ]
    },
    {
     "name": "stderr",
     "output_type": "stream",
     "text": [
      "C:\\Users\\Nia\\OneDrive\\Desktop\\UNCC Fintech Bootcamp\\Python\\Projects\\Project 1\\Bitcoin-Advisor-\\Project 1\\MCForecastTools.py:117: PerformanceWarning: DataFrame is highly fragmented.  This is usually the result of calling `frame.insert` many times, which has poor performance.  Consider joining all columns at once using pd.concat(axis=1) instead. To get a de-fragmented frame, use `newframe = frame.copy()`\n",
      "  portfolio_cumulative_returns[n] = (1 + sim_df.fillna(0)).cumprod()\n",
      "C:\\Users\\Nia\\OneDrive\\Desktop\\UNCC Fintech Bootcamp\\Python\\Projects\\Project 1\\Bitcoin-Advisor-\\Project 1\\MCForecastTools.py:117: PerformanceWarning: DataFrame is highly fragmented.  This is usually the result of calling `frame.insert` many times, which has poor performance.  Consider joining all columns at once using pd.concat(axis=1) instead. To get a de-fragmented frame, use `newframe = frame.copy()`\n",
      "  portfolio_cumulative_returns[n] = (1 + sim_df.fillna(0)).cumprod()\n",
      "C:\\Users\\Nia\\OneDrive\\Desktop\\UNCC Fintech Bootcamp\\Python\\Projects\\Project 1\\Bitcoin-Advisor-\\Project 1\\MCForecastTools.py:117: PerformanceWarning: DataFrame is highly fragmented.  This is usually the result of calling `frame.insert` many times, which has poor performance.  Consider joining all columns at once using pd.concat(axis=1) instead. To get a de-fragmented frame, use `newframe = frame.copy()`\n",
      "  portfolio_cumulative_returns[n] = (1 + sim_df.fillna(0)).cumprod()\n",
      "C:\\Users\\Nia\\OneDrive\\Desktop\\UNCC Fintech Bootcamp\\Python\\Projects\\Project 1\\Bitcoin-Advisor-\\Project 1\\MCForecastTools.py:117: PerformanceWarning: DataFrame is highly fragmented.  This is usually the result of calling `frame.insert` many times, which has poor performance.  Consider joining all columns at once using pd.concat(axis=1) instead. To get a de-fragmented frame, use `newframe = frame.copy()`\n",
      "  portfolio_cumulative_returns[n] = (1 + sim_df.fillna(0)).cumprod()\n",
      "C:\\Users\\Nia\\OneDrive\\Desktop\\UNCC Fintech Bootcamp\\Python\\Projects\\Project 1\\Bitcoin-Advisor-\\Project 1\\MCForecastTools.py:117: PerformanceWarning: DataFrame is highly fragmented.  This is usually the result of calling `frame.insert` many times, which has poor performance.  Consider joining all columns at once using pd.concat(axis=1) instead. To get a de-fragmented frame, use `newframe = frame.copy()`\n",
      "  portfolio_cumulative_returns[n] = (1 + sim_df.fillna(0)).cumprod()\n",
      "C:\\Users\\Nia\\OneDrive\\Desktop\\UNCC Fintech Bootcamp\\Python\\Projects\\Project 1\\Bitcoin-Advisor-\\Project 1\\MCForecastTools.py:117: PerformanceWarning: DataFrame is highly fragmented.  This is usually the result of calling `frame.insert` many times, which has poor performance.  Consider joining all columns at once using pd.concat(axis=1) instead. To get a de-fragmented frame, use `newframe = frame.copy()`\n",
      "  portfolio_cumulative_returns[n] = (1 + sim_df.fillna(0)).cumprod()\n",
      "C:\\Users\\Nia\\OneDrive\\Desktop\\UNCC Fintech Bootcamp\\Python\\Projects\\Project 1\\Bitcoin-Advisor-\\Project 1\\MCForecastTools.py:117: PerformanceWarning: DataFrame is highly fragmented.  This is usually the result of calling `frame.insert` many times, which has poor performance.  Consider joining all columns at once using pd.concat(axis=1) instead. To get a de-fragmented frame, use `newframe = frame.copy()`\n",
      "  portfolio_cumulative_returns[n] = (1 + sim_df.fillna(0)).cumprod()\n",
      "C:\\Users\\Nia\\OneDrive\\Desktop\\UNCC Fintech Bootcamp\\Python\\Projects\\Project 1\\Bitcoin-Advisor-\\Project 1\\MCForecastTools.py:117: PerformanceWarning: DataFrame is highly fragmented.  This is usually the result of calling `frame.insert` many times, which has poor performance.  Consider joining all columns at once using pd.concat(axis=1) instead. To get a de-fragmented frame, use `newframe = frame.copy()`\n",
      "  portfolio_cumulative_returns[n] = (1 + sim_df.fillna(0)).cumprod()\n",
      "C:\\Users\\Nia\\OneDrive\\Desktop\\UNCC Fintech Bootcamp\\Python\\Projects\\Project 1\\Bitcoin-Advisor-\\Project 1\\MCForecastTools.py:117: PerformanceWarning: DataFrame is highly fragmented.  This is usually the result of calling `frame.insert` many times, which has poor performance.  Consider joining all columns at once using pd.concat(axis=1) instead. To get a de-fragmented frame, use `newframe = frame.copy()`\n",
      "  portfolio_cumulative_returns[n] = (1 + sim_df.fillna(0)).cumprod()\n",
      "C:\\Users\\Nia\\OneDrive\\Desktop\\UNCC Fintech Bootcamp\\Python\\Projects\\Project 1\\Bitcoin-Advisor-\\Project 1\\MCForecastTools.py:117: PerformanceWarning: DataFrame is highly fragmented.  This is usually the result of calling `frame.insert` many times, which has poor performance.  Consider joining all columns at once using pd.concat(axis=1) instead. To get a de-fragmented frame, use `newframe = frame.copy()`\n",
      "  portfolio_cumulative_returns[n] = (1 + sim_df.fillna(0)).cumprod()\n"
     ]
    },
    {
     "name": "stdout",
     "output_type": "stream",
     "text": [
      "Running Monte Carlo simulation number 420.\n"
     ]
    },
    {
     "name": "stderr",
     "output_type": "stream",
     "text": [
      "C:\\Users\\Nia\\OneDrive\\Desktop\\UNCC Fintech Bootcamp\\Python\\Projects\\Project 1\\Bitcoin-Advisor-\\Project 1\\MCForecastTools.py:117: PerformanceWarning: DataFrame is highly fragmented.  This is usually the result of calling `frame.insert` many times, which has poor performance.  Consider joining all columns at once using pd.concat(axis=1) instead. To get a de-fragmented frame, use `newframe = frame.copy()`\n",
      "  portfolio_cumulative_returns[n] = (1 + sim_df.fillna(0)).cumprod()\n",
      "C:\\Users\\Nia\\OneDrive\\Desktop\\UNCC Fintech Bootcamp\\Python\\Projects\\Project 1\\Bitcoin-Advisor-\\Project 1\\MCForecastTools.py:117: PerformanceWarning: DataFrame is highly fragmented.  This is usually the result of calling `frame.insert` many times, which has poor performance.  Consider joining all columns at once using pd.concat(axis=1) instead. To get a de-fragmented frame, use `newframe = frame.copy()`\n",
      "  portfolio_cumulative_returns[n] = (1 + sim_df.fillna(0)).cumprod()\n",
      "C:\\Users\\Nia\\OneDrive\\Desktop\\UNCC Fintech Bootcamp\\Python\\Projects\\Project 1\\Bitcoin-Advisor-\\Project 1\\MCForecastTools.py:117: PerformanceWarning: DataFrame is highly fragmented.  This is usually the result of calling `frame.insert` many times, which has poor performance.  Consider joining all columns at once using pd.concat(axis=1) instead. To get a de-fragmented frame, use `newframe = frame.copy()`\n",
      "  portfolio_cumulative_returns[n] = (1 + sim_df.fillna(0)).cumprod()\n",
      "C:\\Users\\Nia\\OneDrive\\Desktop\\UNCC Fintech Bootcamp\\Python\\Projects\\Project 1\\Bitcoin-Advisor-\\Project 1\\MCForecastTools.py:117: PerformanceWarning: DataFrame is highly fragmented.  This is usually the result of calling `frame.insert` many times, which has poor performance.  Consider joining all columns at once using pd.concat(axis=1) instead. To get a de-fragmented frame, use `newframe = frame.copy()`\n",
      "  portfolio_cumulative_returns[n] = (1 + sim_df.fillna(0)).cumprod()\n",
      "C:\\Users\\Nia\\OneDrive\\Desktop\\UNCC Fintech Bootcamp\\Python\\Projects\\Project 1\\Bitcoin-Advisor-\\Project 1\\MCForecastTools.py:117: PerformanceWarning: DataFrame is highly fragmented.  This is usually the result of calling `frame.insert` many times, which has poor performance.  Consider joining all columns at once using pd.concat(axis=1) instead. To get a de-fragmented frame, use `newframe = frame.copy()`\n",
      "  portfolio_cumulative_returns[n] = (1 + sim_df.fillna(0)).cumprod()\n",
      "C:\\Users\\Nia\\OneDrive\\Desktop\\UNCC Fintech Bootcamp\\Python\\Projects\\Project 1\\Bitcoin-Advisor-\\Project 1\\MCForecastTools.py:117: PerformanceWarning: DataFrame is highly fragmented.  This is usually the result of calling `frame.insert` many times, which has poor performance.  Consider joining all columns at once using pd.concat(axis=1) instead. To get a de-fragmented frame, use `newframe = frame.copy()`\n",
      "  portfolio_cumulative_returns[n] = (1 + sim_df.fillna(0)).cumprod()\n",
      "C:\\Users\\Nia\\OneDrive\\Desktop\\UNCC Fintech Bootcamp\\Python\\Projects\\Project 1\\Bitcoin-Advisor-\\Project 1\\MCForecastTools.py:117: PerformanceWarning: DataFrame is highly fragmented.  This is usually the result of calling `frame.insert` many times, which has poor performance.  Consider joining all columns at once using pd.concat(axis=1) instead. To get a de-fragmented frame, use `newframe = frame.copy()`\n",
      "  portfolio_cumulative_returns[n] = (1 + sim_df.fillna(0)).cumprod()\n",
      "C:\\Users\\Nia\\OneDrive\\Desktop\\UNCC Fintech Bootcamp\\Python\\Projects\\Project 1\\Bitcoin-Advisor-\\Project 1\\MCForecastTools.py:117: PerformanceWarning: DataFrame is highly fragmented.  This is usually the result of calling `frame.insert` many times, which has poor performance.  Consider joining all columns at once using pd.concat(axis=1) instead. To get a de-fragmented frame, use `newframe = frame.copy()`\n",
      "  portfolio_cumulative_returns[n] = (1 + sim_df.fillna(0)).cumprod()\n",
      "C:\\Users\\Nia\\OneDrive\\Desktop\\UNCC Fintech Bootcamp\\Python\\Projects\\Project 1\\Bitcoin-Advisor-\\Project 1\\MCForecastTools.py:117: PerformanceWarning: DataFrame is highly fragmented.  This is usually the result of calling `frame.insert` many times, which has poor performance.  Consider joining all columns at once using pd.concat(axis=1) instead. To get a de-fragmented frame, use `newframe = frame.copy()`\n",
      "  portfolio_cumulative_returns[n] = (1 + sim_df.fillna(0)).cumprod()\n",
      "C:\\Users\\Nia\\OneDrive\\Desktop\\UNCC Fintech Bootcamp\\Python\\Projects\\Project 1\\Bitcoin-Advisor-\\Project 1\\MCForecastTools.py:117: PerformanceWarning: DataFrame is highly fragmented.  This is usually the result of calling `frame.insert` many times, which has poor performance.  Consider joining all columns at once using pd.concat(axis=1) instead. To get a de-fragmented frame, use `newframe = frame.copy()`\n",
      "  portfolio_cumulative_returns[n] = (1 + sim_df.fillna(0)).cumprod()\n",
      "C:\\Users\\Nia\\OneDrive\\Desktop\\UNCC Fintech Bootcamp\\Python\\Projects\\Project 1\\Bitcoin-Advisor-\\Project 1\\MCForecastTools.py:117: PerformanceWarning: DataFrame is highly fragmented.  This is usually the result of calling `frame.insert` many times, which has poor performance.  Consider joining all columns at once using pd.concat(axis=1) instead. To get a de-fragmented frame, use `newframe = frame.copy()`\n",
      "  portfolio_cumulative_returns[n] = (1 + sim_df.fillna(0)).cumprod()\n"
     ]
    },
    {
     "name": "stdout",
     "output_type": "stream",
     "text": [
      "Running Monte Carlo simulation number 430.\n"
     ]
    },
    {
     "name": "stderr",
     "output_type": "stream",
     "text": [
      "C:\\Users\\Nia\\OneDrive\\Desktop\\UNCC Fintech Bootcamp\\Python\\Projects\\Project 1\\Bitcoin-Advisor-\\Project 1\\MCForecastTools.py:117: PerformanceWarning: DataFrame is highly fragmented.  This is usually the result of calling `frame.insert` many times, which has poor performance.  Consider joining all columns at once using pd.concat(axis=1) instead. To get a de-fragmented frame, use `newframe = frame.copy()`\n",
      "  portfolio_cumulative_returns[n] = (1 + sim_df.fillna(0)).cumprod()\n",
      "C:\\Users\\Nia\\OneDrive\\Desktop\\UNCC Fintech Bootcamp\\Python\\Projects\\Project 1\\Bitcoin-Advisor-\\Project 1\\MCForecastTools.py:117: PerformanceWarning: DataFrame is highly fragmented.  This is usually the result of calling `frame.insert` many times, which has poor performance.  Consider joining all columns at once using pd.concat(axis=1) instead. To get a de-fragmented frame, use `newframe = frame.copy()`\n",
      "  portfolio_cumulative_returns[n] = (1 + sim_df.fillna(0)).cumprod()\n",
      "C:\\Users\\Nia\\OneDrive\\Desktop\\UNCC Fintech Bootcamp\\Python\\Projects\\Project 1\\Bitcoin-Advisor-\\Project 1\\MCForecastTools.py:117: PerformanceWarning: DataFrame is highly fragmented.  This is usually the result of calling `frame.insert` many times, which has poor performance.  Consider joining all columns at once using pd.concat(axis=1) instead. To get a de-fragmented frame, use `newframe = frame.copy()`\n",
      "  portfolio_cumulative_returns[n] = (1 + sim_df.fillna(0)).cumprod()\n",
      "C:\\Users\\Nia\\OneDrive\\Desktop\\UNCC Fintech Bootcamp\\Python\\Projects\\Project 1\\Bitcoin-Advisor-\\Project 1\\MCForecastTools.py:117: PerformanceWarning: DataFrame is highly fragmented.  This is usually the result of calling `frame.insert` many times, which has poor performance.  Consider joining all columns at once using pd.concat(axis=1) instead. To get a de-fragmented frame, use `newframe = frame.copy()`\n",
      "  portfolio_cumulative_returns[n] = (1 + sim_df.fillna(0)).cumprod()\n",
      "C:\\Users\\Nia\\OneDrive\\Desktop\\UNCC Fintech Bootcamp\\Python\\Projects\\Project 1\\Bitcoin-Advisor-\\Project 1\\MCForecastTools.py:117: PerformanceWarning: DataFrame is highly fragmented.  This is usually the result of calling `frame.insert` many times, which has poor performance.  Consider joining all columns at once using pd.concat(axis=1) instead. To get a de-fragmented frame, use `newframe = frame.copy()`\n",
      "  portfolio_cumulative_returns[n] = (1 + sim_df.fillna(0)).cumprod()\n",
      "C:\\Users\\Nia\\OneDrive\\Desktop\\UNCC Fintech Bootcamp\\Python\\Projects\\Project 1\\Bitcoin-Advisor-\\Project 1\\MCForecastTools.py:117: PerformanceWarning: DataFrame is highly fragmented.  This is usually the result of calling `frame.insert` many times, which has poor performance.  Consider joining all columns at once using pd.concat(axis=1) instead. To get a de-fragmented frame, use `newframe = frame.copy()`\n",
      "  portfolio_cumulative_returns[n] = (1 + sim_df.fillna(0)).cumprod()\n",
      "C:\\Users\\Nia\\OneDrive\\Desktop\\UNCC Fintech Bootcamp\\Python\\Projects\\Project 1\\Bitcoin-Advisor-\\Project 1\\MCForecastTools.py:117: PerformanceWarning: DataFrame is highly fragmented.  This is usually the result of calling `frame.insert` many times, which has poor performance.  Consider joining all columns at once using pd.concat(axis=1) instead. To get a de-fragmented frame, use `newframe = frame.copy()`\n",
      "  portfolio_cumulative_returns[n] = (1 + sim_df.fillna(0)).cumprod()\n",
      "C:\\Users\\Nia\\OneDrive\\Desktop\\UNCC Fintech Bootcamp\\Python\\Projects\\Project 1\\Bitcoin-Advisor-\\Project 1\\MCForecastTools.py:117: PerformanceWarning: DataFrame is highly fragmented.  This is usually the result of calling `frame.insert` many times, which has poor performance.  Consider joining all columns at once using pd.concat(axis=1) instead. To get a de-fragmented frame, use `newframe = frame.copy()`\n",
      "  portfolio_cumulative_returns[n] = (1 + sim_df.fillna(0)).cumprod()\n",
      "C:\\Users\\Nia\\OneDrive\\Desktop\\UNCC Fintech Bootcamp\\Python\\Projects\\Project 1\\Bitcoin-Advisor-\\Project 1\\MCForecastTools.py:117: PerformanceWarning: DataFrame is highly fragmented.  This is usually the result of calling `frame.insert` many times, which has poor performance.  Consider joining all columns at once using pd.concat(axis=1) instead. To get a de-fragmented frame, use `newframe = frame.copy()`\n",
      "  portfolio_cumulative_returns[n] = (1 + sim_df.fillna(0)).cumprod()\n"
     ]
    },
    {
     "name": "stdout",
     "output_type": "stream",
     "text": [
      "Running Monte Carlo simulation number 440.\n"
     ]
    },
    {
     "name": "stderr",
     "output_type": "stream",
     "text": [
      "C:\\Users\\Nia\\OneDrive\\Desktop\\UNCC Fintech Bootcamp\\Python\\Projects\\Project 1\\Bitcoin-Advisor-\\Project 1\\MCForecastTools.py:117: PerformanceWarning: DataFrame is highly fragmented.  This is usually the result of calling `frame.insert` many times, which has poor performance.  Consider joining all columns at once using pd.concat(axis=1) instead. To get a de-fragmented frame, use `newframe = frame.copy()`\n",
      "  portfolio_cumulative_returns[n] = (1 + sim_df.fillna(0)).cumprod()\n",
      "C:\\Users\\Nia\\OneDrive\\Desktop\\UNCC Fintech Bootcamp\\Python\\Projects\\Project 1\\Bitcoin-Advisor-\\Project 1\\MCForecastTools.py:117: PerformanceWarning: DataFrame is highly fragmented.  This is usually the result of calling `frame.insert` many times, which has poor performance.  Consider joining all columns at once using pd.concat(axis=1) instead. To get a de-fragmented frame, use `newframe = frame.copy()`\n",
      "  portfolio_cumulative_returns[n] = (1 + sim_df.fillna(0)).cumprod()\n",
      "C:\\Users\\Nia\\OneDrive\\Desktop\\UNCC Fintech Bootcamp\\Python\\Projects\\Project 1\\Bitcoin-Advisor-\\Project 1\\MCForecastTools.py:117: PerformanceWarning: DataFrame is highly fragmented.  This is usually the result of calling `frame.insert` many times, which has poor performance.  Consider joining all columns at once using pd.concat(axis=1) instead. To get a de-fragmented frame, use `newframe = frame.copy()`\n",
      "  portfolio_cumulative_returns[n] = (1 + sim_df.fillna(0)).cumprod()\n",
      "C:\\Users\\Nia\\OneDrive\\Desktop\\UNCC Fintech Bootcamp\\Python\\Projects\\Project 1\\Bitcoin-Advisor-\\Project 1\\MCForecastTools.py:117: PerformanceWarning: DataFrame is highly fragmented.  This is usually the result of calling `frame.insert` many times, which has poor performance.  Consider joining all columns at once using pd.concat(axis=1) instead. To get a de-fragmented frame, use `newframe = frame.copy()`\n",
      "  portfolio_cumulative_returns[n] = (1 + sim_df.fillna(0)).cumprod()\n",
      "C:\\Users\\Nia\\OneDrive\\Desktop\\UNCC Fintech Bootcamp\\Python\\Projects\\Project 1\\Bitcoin-Advisor-\\Project 1\\MCForecastTools.py:117: PerformanceWarning: DataFrame is highly fragmented.  This is usually the result of calling `frame.insert` many times, which has poor performance.  Consider joining all columns at once using pd.concat(axis=1) instead. To get a de-fragmented frame, use `newframe = frame.copy()`\n",
      "  portfolio_cumulative_returns[n] = (1 + sim_df.fillna(0)).cumprod()\n",
      "C:\\Users\\Nia\\OneDrive\\Desktop\\UNCC Fintech Bootcamp\\Python\\Projects\\Project 1\\Bitcoin-Advisor-\\Project 1\\MCForecastTools.py:117: PerformanceWarning: DataFrame is highly fragmented.  This is usually the result of calling `frame.insert` many times, which has poor performance.  Consider joining all columns at once using pd.concat(axis=1) instead. To get a de-fragmented frame, use `newframe = frame.copy()`\n",
      "  portfolio_cumulative_returns[n] = (1 + sim_df.fillna(0)).cumprod()\n",
      "C:\\Users\\Nia\\OneDrive\\Desktop\\UNCC Fintech Bootcamp\\Python\\Projects\\Project 1\\Bitcoin-Advisor-\\Project 1\\MCForecastTools.py:117: PerformanceWarning: DataFrame is highly fragmented.  This is usually the result of calling `frame.insert` many times, which has poor performance.  Consider joining all columns at once using pd.concat(axis=1) instead. To get a de-fragmented frame, use `newframe = frame.copy()`\n",
      "  portfolio_cumulative_returns[n] = (1 + sim_df.fillna(0)).cumprod()\n",
      "C:\\Users\\Nia\\OneDrive\\Desktop\\UNCC Fintech Bootcamp\\Python\\Projects\\Project 1\\Bitcoin-Advisor-\\Project 1\\MCForecastTools.py:117: PerformanceWarning: DataFrame is highly fragmented.  This is usually the result of calling `frame.insert` many times, which has poor performance.  Consider joining all columns at once using pd.concat(axis=1) instead. To get a de-fragmented frame, use `newframe = frame.copy()`\n",
      "  portfolio_cumulative_returns[n] = (1 + sim_df.fillna(0)).cumprod()\n"
     ]
    },
    {
     "name": "stdout",
     "output_type": "stream",
     "text": [
      "Running Monte Carlo simulation number 450.\n"
     ]
    },
    {
     "name": "stderr",
     "output_type": "stream",
     "text": [
      "C:\\Users\\Nia\\OneDrive\\Desktop\\UNCC Fintech Bootcamp\\Python\\Projects\\Project 1\\Bitcoin-Advisor-\\Project 1\\MCForecastTools.py:117: PerformanceWarning: DataFrame is highly fragmented.  This is usually the result of calling `frame.insert` many times, which has poor performance.  Consider joining all columns at once using pd.concat(axis=1) instead. To get a de-fragmented frame, use `newframe = frame.copy()`\n",
      "  portfolio_cumulative_returns[n] = (1 + sim_df.fillna(0)).cumprod()\n",
      "C:\\Users\\Nia\\OneDrive\\Desktop\\UNCC Fintech Bootcamp\\Python\\Projects\\Project 1\\Bitcoin-Advisor-\\Project 1\\MCForecastTools.py:117: PerformanceWarning: DataFrame is highly fragmented.  This is usually the result of calling `frame.insert` many times, which has poor performance.  Consider joining all columns at once using pd.concat(axis=1) instead. To get a de-fragmented frame, use `newframe = frame.copy()`\n",
      "  portfolio_cumulative_returns[n] = (1 + sim_df.fillna(0)).cumprod()\n",
      "C:\\Users\\Nia\\OneDrive\\Desktop\\UNCC Fintech Bootcamp\\Python\\Projects\\Project 1\\Bitcoin-Advisor-\\Project 1\\MCForecastTools.py:117: PerformanceWarning: DataFrame is highly fragmented.  This is usually the result of calling `frame.insert` many times, which has poor performance.  Consider joining all columns at once using pd.concat(axis=1) instead. To get a de-fragmented frame, use `newframe = frame.copy()`\n",
      "  portfolio_cumulative_returns[n] = (1 + sim_df.fillna(0)).cumprod()\n",
      "C:\\Users\\Nia\\OneDrive\\Desktop\\UNCC Fintech Bootcamp\\Python\\Projects\\Project 1\\Bitcoin-Advisor-\\Project 1\\MCForecastTools.py:117: PerformanceWarning: DataFrame is highly fragmented.  This is usually the result of calling `frame.insert` many times, which has poor performance.  Consider joining all columns at once using pd.concat(axis=1) instead. To get a de-fragmented frame, use `newframe = frame.copy()`\n",
      "  portfolio_cumulative_returns[n] = (1 + sim_df.fillna(0)).cumprod()\n",
      "C:\\Users\\Nia\\OneDrive\\Desktop\\UNCC Fintech Bootcamp\\Python\\Projects\\Project 1\\Bitcoin-Advisor-\\Project 1\\MCForecastTools.py:117: PerformanceWarning: DataFrame is highly fragmented.  This is usually the result of calling `frame.insert` many times, which has poor performance.  Consider joining all columns at once using pd.concat(axis=1) instead. To get a de-fragmented frame, use `newframe = frame.copy()`\n",
      "  portfolio_cumulative_returns[n] = (1 + sim_df.fillna(0)).cumprod()\n",
      "C:\\Users\\Nia\\OneDrive\\Desktop\\UNCC Fintech Bootcamp\\Python\\Projects\\Project 1\\Bitcoin-Advisor-\\Project 1\\MCForecastTools.py:117: PerformanceWarning: DataFrame is highly fragmented.  This is usually the result of calling `frame.insert` many times, which has poor performance.  Consider joining all columns at once using pd.concat(axis=1) instead. To get a de-fragmented frame, use `newframe = frame.copy()`\n",
      "  portfolio_cumulative_returns[n] = (1 + sim_df.fillna(0)).cumprod()\n",
      "C:\\Users\\Nia\\OneDrive\\Desktop\\UNCC Fintech Bootcamp\\Python\\Projects\\Project 1\\Bitcoin-Advisor-\\Project 1\\MCForecastTools.py:117: PerformanceWarning: DataFrame is highly fragmented.  This is usually the result of calling `frame.insert` many times, which has poor performance.  Consider joining all columns at once using pd.concat(axis=1) instead. To get a de-fragmented frame, use `newframe = frame.copy()`\n",
      "  portfolio_cumulative_returns[n] = (1 + sim_df.fillna(0)).cumprod()\n",
      "C:\\Users\\Nia\\OneDrive\\Desktop\\UNCC Fintech Bootcamp\\Python\\Projects\\Project 1\\Bitcoin-Advisor-\\Project 1\\MCForecastTools.py:117: PerformanceWarning: DataFrame is highly fragmented.  This is usually the result of calling `frame.insert` many times, which has poor performance.  Consider joining all columns at once using pd.concat(axis=1) instead. To get a de-fragmented frame, use `newframe = frame.copy()`\n",
      "  portfolio_cumulative_returns[n] = (1 + sim_df.fillna(0)).cumprod()\n",
      "C:\\Users\\Nia\\OneDrive\\Desktop\\UNCC Fintech Bootcamp\\Python\\Projects\\Project 1\\Bitcoin-Advisor-\\Project 1\\MCForecastTools.py:117: PerformanceWarning: DataFrame is highly fragmented.  This is usually the result of calling `frame.insert` many times, which has poor performance.  Consider joining all columns at once using pd.concat(axis=1) instead. To get a de-fragmented frame, use `newframe = frame.copy()`\n",
      "  portfolio_cumulative_returns[n] = (1 + sim_df.fillna(0)).cumprod()\n",
      "C:\\Users\\Nia\\OneDrive\\Desktop\\UNCC Fintech Bootcamp\\Python\\Projects\\Project 1\\Bitcoin-Advisor-\\Project 1\\MCForecastTools.py:117: PerformanceWarning: DataFrame is highly fragmented.  This is usually the result of calling `frame.insert` many times, which has poor performance.  Consider joining all columns at once using pd.concat(axis=1) instead. To get a de-fragmented frame, use `newframe = frame.copy()`\n",
      "  portfolio_cumulative_returns[n] = (1 + sim_df.fillna(0)).cumprod()\n"
     ]
    },
    {
     "name": "stdout",
     "output_type": "stream",
     "text": [
      "Running Monte Carlo simulation number 460.\n"
     ]
    },
    {
     "name": "stderr",
     "output_type": "stream",
     "text": [
      "C:\\Users\\Nia\\OneDrive\\Desktop\\UNCC Fintech Bootcamp\\Python\\Projects\\Project 1\\Bitcoin-Advisor-\\Project 1\\MCForecastTools.py:117: PerformanceWarning: DataFrame is highly fragmented.  This is usually the result of calling `frame.insert` many times, which has poor performance.  Consider joining all columns at once using pd.concat(axis=1) instead. To get a de-fragmented frame, use `newframe = frame.copy()`\n",
      "  portfolio_cumulative_returns[n] = (1 + sim_df.fillna(0)).cumprod()\n",
      "C:\\Users\\Nia\\OneDrive\\Desktop\\UNCC Fintech Bootcamp\\Python\\Projects\\Project 1\\Bitcoin-Advisor-\\Project 1\\MCForecastTools.py:117: PerformanceWarning: DataFrame is highly fragmented.  This is usually the result of calling `frame.insert` many times, which has poor performance.  Consider joining all columns at once using pd.concat(axis=1) instead. To get a de-fragmented frame, use `newframe = frame.copy()`\n",
      "  portfolio_cumulative_returns[n] = (1 + sim_df.fillna(0)).cumprod()\n",
      "C:\\Users\\Nia\\OneDrive\\Desktop\\UNCC Fintech Bootcamp\\Python\\Projects\\Project 1\\Bitcoin-Advisor-\\Project 1\\MCForecastTools.py:117: PerformanceWarning: DataFrame is highly fragmented.  This is usually the result of calling `frame.insert` many times, which has poor performance.  Consider joining all columns at once using pd.concat(axis=1) instead. To get a de-fragmented frame, use `newframe = frame.copy()`\n",
      "  portfolio_cumulative_returns[n] = (1 + sim_df.fillna(0)).cumprod()\n",
      "C:\\Users\\Nia\\OneDrive\\Desktop\\UNCC Fintech Bootcamp\\Python\\Projects\\Project 1\\Bitcoin-Advisor-\\Project 1\\MCForecastTools.py:117: PerformanceWarning: DataFrame is highly fragmented.  This is usually the result of calling `frame.insert` many times, which has poor performance.  Consider joining all columns at once using pd.concat(axis=1) instead. To get a de-fragmented frame, use `newframe = frame.copy()`\n",
      "  portfolio_cumulative_returns[n] = (1 + sim_df.fillna(0)).cumprod()\n",
      "C:\\Users\\Nia\\OneDrive\\Desktop\\UNCC Fintech Bootcamp\\Python\\Projects\\Project 1\\Bitcoin-Advisor-\\Project 1\\MCForecastTools.py:117: PerformanceWarning: DataFrame is highly fragmented.  This is usually the result of calling `frame.insert` many times, which has poor performance.  Consider joining all columns at once using pd.concat(axis=1) instead. To get a de-fragmented frame, use `newframe = frame.copy()`\n",
      "  portfolio_cumulative_returns[n] = (1 + sim_df.fillna(0)).cumprod()\n",
      "C:\\Users\\Nia\\OneDrive\\Desktop\\UNCC Fintech Bootcamp\\Python\\Projects\\Project 1\\Bitcoin-Advisor-\\Project 1\\MCForecastTools.py:117: PerformanceWarning: DataFrame is highly fragmented.  This is usually the result of calling `frame.insert` many times, which has poor performance.  Consider joining all columns at once using pd.concat(axis=1) instead. To get a de-fragmented frame, use `newframe = frame.copy()`\n",
      "  portfolio_cumulative_returns[n] = (1 + sim_df.fillna(0)).cumprod()\n",
      "C:\\Users\\Nia\\OneDrive\\Desktop\\UNCC Fintech Bootcamp\\Python\\Projects\\Project 1\\Bitcoin-Advisor-\\Project 1\\MCForecastTools.py:117: PerformanceWarning: DataFrame is highly fragmented.  This is usually the result of calling `frame.insert` many times, which has poor performance.  Consider joining all columns at once using pd.concat(axis=1) instead. To get a de-fragmented frame, use `newframe = frame.copy()`\n",
      "  portfolio_cumulative_returns[n] = (1 + sim_df.fillna(0)).cumprod()\n",
      "C:\\Users\\Nia\\OneDrive\\Desktop\\UNCC Fintech Bootcamp\\Python\\Projects\\Project 1\\Bitcoin-Advisor-\\Project 1\\MCForecastTools.py:117: PerformanceWarning: DataFrame is highly fragmented.  This is usually the result of calling `frame.insert` many times, which has poor performance.  Consider joining all columns at once using pd.concat(axis=1) instead. To get a de-fragmented frame, use `newframe = frame.copy()`\n",
      "  portfolio_cumulative_returns[n] = (1 + sim_df.fillna(0)).cumprod()\n",
      "C:\\Users\\Nia\\OneDrive\\Desktop\\UNCC Fintech Bootcamp\\Python\\Projects\\Project 1\\Bitcoin-Advisor-\\Project 1\\MCForecastTools.py:117: PerformanceWarning: DataFrame is highly fragmented.  This is usually the result of calling `frame.insert` many times, which has poor performance.  Consider joining all columns at once using pd.concat(axis=1) instead. To get a de-fragmented frame, use `newframe = frame.copy()`\n",
      "  portfolio_cumulative_returns[n] = (1 + sim_df.fillna(0)).cumprod()\n"
     ]
    },
    {
     "name": "stdout",
     "output_type": "stream",
     "text": [
      "Running Monte Carlo simulation number 470.\n"
     ]
    },
    {
     "name": "stderr",
     "output_type": "stream",
     "text": [
      "C:\\Users\\Nia\\OneDrive\\Desktop\\UNCC Fintech Bootcamp\\Python\\Projects\\Project 1\\Bitcoin-Advisor-\\Project 1\\MCForecastTools.py:117: PerformanceWarning: DataFrame is highly fragmented.  This is usually the result of calling `frame.insert` many times, which has poor performance.  Consider joining all columns at once using pd.concat(axis=1) instead. To get a de-fragmented frame, use `newframe = frame.copy()`\n",
      "  portfolio_cumulative_returns[n] = (1 + sim_df.fillna(0)).cumprod()\n",
      "C:\\Users\\Nia\\OneDrive\\Desktop\\UNCC Fintech Bootcamp\\Python\\Projects\\Project 1\\Bitcoin-Advisor-\\Project 1\\MCForecastTools.py:117: PerformanceWarning: DataFrame is highly fragmented.  This is usually the result of calling `frame.insert` many times, which has poor performance.  Consider joining all columns at once using pd.concat(axis=1) instead. To get a de-fragmented frame, use `newframe = frame.copy()`\n",
      "  portfolio_cumulative_returns[n] = (1 + sim_df.fillna(0)).cumprod()\n",
      "C:\\Users\\Nia\\OneDrive\\Desktop\\UNCC Fintech Bootcamp\\Python\\Projects\\Project 1\\Bitcoin-Advisor-\\Project 1\\MCForecastTools.py:117: PerformanceWarning: DataFrame is highly fragmented.  This is usually the result of calling `frame.insert` many times, which has poor performance.  Consider joining all columns at once using pd.concat(axis=1) instead. To get a de-fragmented frame, use `newframe = frame.copy()`\n",
      "  portfolio_cumulative_returns[n] = (1 + sim_df.fillna(0)).cumprod()\n",
      "C:\\Users\\Nia\\OneDrive\\Desktop\\UNCC Fintech Bootcamp\\Python\\Projects\\Project 1\\Bitcoin-Advisor-\\Project 1\\MCForecastTools.py:117: PerformanceWarning: DataFrame is highly fragmented.  This is usually the result of calling `frame.insert` many times, which has poor performance.  Consider joining all columns at once using pd.concat(axis=1) instead. To get a de-fragmented frame, use `newframe = frame.copy()`\n",
      "  portfolio_cumulative_returns[n] = (1 + sim_df.fillna(0)).cumprod()\n",
      "C:\\Users\\Nia\\OneDrive\\Desktop\\UNCC Fintech Bootcamp\\Python\\Projects\\Project 1\\Bitcoin-Advisor-\\Project 1\\MCForecastTools.py:117: PerformanceWarning: DataFrame is highly fragmented.  This is usually the result of calling `frame.insert` many times, which has poor performance.  Consider joining all columns at once using pd.concat(axis=1) instead. To get a de-fragmented frame, use `newframe = frame.copy()`\n",
      "  portfolio_cumulative_returns[n] = (1 + sim_df.fillna(0)).cumprod()\n",
      "C:\\Users\\Nia\\OneDrive\\Desktop\\UNCC Fintech Bootcamp\\Python\\Projects\\Project 1\\Bitcoin-Advisor-\\Project 1\\MCForecastTools.py:117: PerformanceWarning: DataFrame is highly fragmented.  This is usually the result of calling `frame.insert` many times, which has poor performance.  Consider joining all columns at once using pd.concat(axis=1) instead. To get a de-fragmented frame, use `newframe = frame.copy()`\n",
      "  portfolio_cumulative_returns[n] = (1 + sim_df.fillna(0)).cumprod()\n",
      "C:\\Users\\Nia\\OneDrive\\Desktop\\UNCC Fintech Bootcamp\\Python\\Projects\\Project 1\\Bitcoin-Advisor-\\Project 1\\MCForecastTools.py:117: PerformanceWarning: DataFrame is highly fragmented.  This is usually the result of calling `frame.insert` many times, which has poor performance.  Consider joining all columns at once using pd.concat(axis=1) instead. To get a de-fragmented frame, use `newframe = frame.copy()`\n",
      "  portfolio_cumulative_returns[n] = (1 + sim_df.fillna(0)).cumprod()\n",
      "C:\\Users\\Nia\\OneDrive\\Desktop\\UNCC Fintech Bootcamp\\Python\\Projects\\Project 1\\Bitcoin-Advisor-\\Project 1\\MCForecastTools.py:117: PerformanceWarning: DataFrame is highly fragmented.  This is usually the result of calling `frame.insert` many times, which has poor performance.  Consider joining all columns at once using pd.concat(axis=1) instead. To get a de-fragmented frame, use `newframe = frame.copy()`\n",
      "  portfolio_cumulative_returns[n] = (1 + sim_df.fillna(0)).cumprod()\n",
      "C:\\Users\\Nia\\OneDrive\\Desktop\\UNCC Fintech Bootcamp\\Python\\Projects\\Project 1\\Bitcoin-Advisor-\\Project 1\\MCForecastTools.py:117: PerformanceWarning: DataFrame is highly fragmented.  This is usually the result of calling `frame.insert` many times, which has poor performance.  Consider joining all columns at once using pd.concat(axis=1) instead. To get a de-fragmented frame, use `newframe = frame.copy()`\n",
      "  portfolio_cumulative_returns[n] = (1 + sim_df.fillna(0)).cumprod()\n",
      "C:\\Users\\Nia\\OneDrive\\Desktop\\UNCC Fintech Bootcamp\\Python\\Projects\\Project 1\\Bitcoin-Advisor-\\Project 1\\MCForecastTools.py:117: PerformanceWarning: DataFrame is highly fragmented.  This is usually the result of calling `frame.insert` many times, which has poor performance.  Consider joining all columns at once using pd.concat(axis=1) instead. To get a de-fragmented frame, use `newframe = frame.copy()`\n",
      "  portfolio_cumulative_returns[n] = (1 + sim_df.fillna(0)).cumprod()\n"
     ]
    },
    {
     "name": "stdout",
     "output_type": "stream",
     "text": [
      "Running Monte Carlo simulation number 480.\n"
     ]
    },
    {
     "name": "stderr",
     "output_type": "stream",
     "text": [
      "C:\\Users\\Nia\\OneDrive\\Desktop\\UNCC Fintech Bootcamp\\Python\\Projects\\Project 1\\Bitcoin-Advisor-\\Project 1\\MCForecastTools.py:117: PerformanceWarning: DataFrame is highly fragmented.  This is usually the result of calling `frame.insert` many times, which has poor performance.  Consider joining all columns at once using pd.concat(axis=1) instead. To get a de-fragmented frame, use `newframe = frame.copy()`\n",
      "  portfolio_cumulative_returns[n] = (1 + sim_df.fillna(0)).cumprod()\n",
      "C:\\Users\\Nia\\OneDrive\\Desktop\\UNCC Fintech Bootcamp\\Python\\Projects\\Project 1\\Bitcoin-Advisor-\\Project 1\\MCForecastTools.py:117: PerformanceWarning: DataFrame is highly fragmented.  This is usually the result of calling `frame.insert` many times, which has poor performance.  Consider joining all columns at once using pd.concat(axis=1) instead. To get a de-fragmented frame, use `newframe = frame.copy()`\n",
      "  portfolio_cumulative_returns[n] = (1 + sim_df.fillna(0)).cumprod()\n",
      "C:\\Users\\Nia\\OneDrive\\Desktop\\UNCC Fintech Bootcamp\\Python\\Projects\\Project 1\\Bitcoin-Advisor-\\Project 1\\MCForecastTools.py:117: PerformanceWarning: DataFrame is highly fragmented.  This is usually the result of calling `frame.insert` many times, which has poor performance.  Consider joining all columns at once using pd.concat(axis=1) instead. To get a de-fragmented frame, use `newframe = frame.copy()`\n",
      "  portfolio_cumulative_returns[n] = (1 + sim_df.fillna(0)).cumprod()\n",
      "C:\\Users\\Nia\\OneDrive\\Desktop\\UNCC Fintech Bootcamp\\Python\\Projects\\Project 1\\Bitcoin-Advisor-\\Project 1\\MCForecastTools.py:117: PerformanceWarning: DataFrame is highly fragmented.  This is usually the result of calling `frame.insert` many times, which has poor performance.  Consider joining all columns at once using pd.concat(axis=1) instead. To get a de-fragmented frame, use `newframe = frame.copy()`\n",
      "  portfolio_cumulative_returns[n] = (1 + sim_df.fillna(0)).cumprod()\n",
      "C:\\Users\\Nia\\OneDrive\\Desktop\\UNCC Fintech Bootcamp\\Python\\Projects\\Project 1\\Bitcoin-Advisor-\\Project 1\\MCForecastTools.py:117: PerformanceWarning: DataFrame is highly fragmented.  This is usually the result of calling `frame.insert` many times, which has poor performance.  Consider joining all columns at once using pd.concat(axis=1) instead. To get a de-fragmented frame, use `newframe = frame.copy()`\n",
      "  portfolio_cumulative_returns[n] = (1 + sim_df.fillna(0)).cumprod()\n",
      "C:\\Users\\Nia\\OneDrive\\Desktop\\UNCC Fintech Bootcamp\\Python\\Projects\\Project 1\\Bitcoin-Advisor-\\Project 1\\MCForecastTools.py:117: PerformanceWarning: DataFrame is highly fragmented.  This is usually the result of calling `frame.insert` many times, which has poor performance.  Consider joining all columns at once using pd.concat(axis=1) instead. To get a de-fragmented frame, use `newframe = frame.copy()`\n",
      "  portfolio_cumulative_returns[n] = (1 + sim_df.fillna(0)).cumprod()\n",
      "C:\\Users\\Nia\\OneDrive\\Desktop\\UNCC Fintech Bootcamp\\Python\\Projects\\Project 1\\Bitcoin-Advisor-\\Project 1\\MCForecastTools.py:117: PerformanceWarning: DataFrame is highly fragmented.  This is usually the result of calling `frame.insert` many times, which has poor performance.  Consider joining all columns at once using pd.concat(axis=1) instead. To get a de-fragmented frame, use `newframe = frame.copy()`\n",
      "  portfolio_cumulative_returns[n] = (1 + sim_df.fillna(0)).cumprod()\n",
      "C:\\Users\\Nia\\OneDrive\\Desktop\\UNCC Fintech Bootcamp\\Python\\Projects\\Project 1\\Bitcoin-Advisor-\\Project 1\\MCForecastTools.py:117: PerformanceWarning: DataFrame is highly fragmented.  This is usually the result of calling `frame.insert` many times, which has poor performance.  Consider joining all columns at once using pd.concat(axis=1) instead. To get a de-fragmented frame, use `newframe = frame.copy()`\n",
      "  portfolio_cumulative_returns[n] = (1 + sim_df.fillna(0)).cumprod()\n",
      "C:\\Users\\Nia\\OneDrive\\Desktop\\UNCC Fintech Bootcamp\\Python\\Projects\\Project 1\\Bitcoin-Advisor-\\Project 1\\MCForecastTools.py:117: PerformanceWarning: DataFrame is highly fragmented.  This is usually the result of calling `frame.insert` many times, which has poor performance.  Consider joining all columns at once using pd.concat(axis=1) instead. To get a de-fragmented frame, use `newframe = frame.copy()`\n",
      "  portfolio_cumulative_returns[n] = (1 + sim_df.fillna(0)).cumprod()\n",
      "C:\\Users\\Nia\\OneDrive\\Desktop\\UNCC Fintech Bootcamp\\Python\\Projects\\Project 1\\Bitcoin-Advisor-\\Project 1\\MCForecastTools.py:117: PerformanceWarning: DataFrame is highly fragmented.  This is usually the result of calling `frame.insert` many times, which has poor performance.  Consider joining all columns at once using pd.concat(axis=1) instead. To get a de-fragmented frame, use `newframe = frame.copy()`\n",
      "  portfolio_cumulative_returns[n] = (1 + sim_df.fillna(0)).cumprod()\n"
     ]
    },
    {
     "name": "stdout",
     "output_type": "stream",
     "text": [
      "Running Monte Carlo simulation number 490.\n"
     ]
    },
    {
     "name": "stderr",
     "output_type": "stream",
     "text": [
      "C:\\Users\\Nia\\OneDrive\\Desktop\\UNCC Fintech Bootcamp\\Python\\Projects\\Project 1\\Bitcoin-Advisor-\\Project 1\\MCForecastTools.py:117: PerformanceWarning: DataFrame is highly fragmented.  This is usually the result of calling `frame.insert` many times, which has poor performance.  Consider joining all columns at once using pd.concat(axis=1) instead. To get a de-fragmented frame, use `newframe = frame.copy()`\n",
      "  portfolio_cumulative_returns[n] = (1 + sim_df.fillna(0)).cumprod()\n",
      "C:\\Users\\Nia\\OneDrive\\Desktop\\UNCC Fintech Bootcamp\\Python\\Projects\\Project 1\\Bitcoin-Advisor-\\Project 1\\MCForecastTools.py:117: PerformanceWarning: DataFrame is highly fragmented.  This is usually the result of calling `frame.insert` many times, which has poor performance.  Consider joining all columns at once using pd.concat(axis=1) instead. To get a de-fragmented frame, use `newframe = frame.copy()`\n",
      "  portfolio_cumulative_returns[n] = (1 + sim_df.fillna(0)).cumprod()\n",
      "C:\\Users\\Nia\\OneDrive\\Desktop\\UNCC Fintech Bootcamp\\Python\\Projects\\Project 1\\Bitcoin-Advisor-\\Project 1\\MCForecastTools.py:117: PerformanceWarning: DataFrame is highly fragmented.  This is usually the result of calling `frame.insert` many times, which has poor performance.  Consider joining all columns at once using pd.concat(axis=1) instead. To get a de-fragmented frame, use `newframe = frame.copy()`\n",
      "  portfolio_cumulative_returns[n] = (1 + sim_df.fillna(0)).cumprod()\n",
      "C:\\Users\\Nia\\OneDrive\\Desktop\\UNCC Fintech Bootcamp\\Python\\Projects\\Project 1\\Bitcoin-Advisor-\\Project 1\\MCForecastTools.py:117: PerformanceWarning: DataFrame is highly fragmented.  This is usually the result of calling `frame.insert` many times, which has poor performance.  Consider joining all columns at once using pd.concat(axis=1) instead. To get a de-fragmented frame, use `newframe = frame.copy()`\n",
      "  portfolio_cumulative_returns[n] = (1 + sim_df.fillna(0)).cumprod()\n",
      "C:\\Users\\Nia\\OneDrive\\Desktop\\UNCC Fintech Bootcamp\\Python\\Projects\\Project 1\\Bitcoin-Advisor-\\Project 1\\MCForecastTools.py:117: PerformanceWarning: DataFrame is highly fragmented.  This is usually the result of calling `frame.insert` many times, which has poor performance.  Consider joining all columns at once using pd.concat(axis=1) instead. To get a de-fragmented frame, use `newframe = frame.copy()`\n",
      "  portfolio_cumulative_returns[n] = (1 + sim_df.fillna(0)).cumprod()\n",
      "C:\\Users\\Nia\\OneDrive\\Desktop\\UNCC Fintech Bootcamp\\Python\\Projects\\Project 1\\Bitcoin-Advisor-\\Project 1\\MCForecastTools.py:117: PerformanceWarning: DataFrame is highly fragmented.  This is usually the result of calling `frame.insert` many times, which has poor performance.  Consider joining all columns at once using pd.concat(axis=1) instead. To get a de-fragmented frame, use `newframe = frame.copy()`\n",
      "  portfolio_cumulative_returns[n] = (1 + sim_df.fillna(0)).cumprod()\n",
      "C:\\Users\\Nia\\OneDrive\\Desktop\\UNCC Fintech Bootcamp\\Python\\Projects\\Project 1\\Bitcoin-Advisor-\\Project 1\\MCForecastTools.py:117: PerformanceWarning: DataFrame is highly fragmented.  This is usually the result of calling `frame.insert` many times, which has poor performance.  Consider joining all columns at once using pd.concat(axis=1) instead. To get a de-fragmented frame, use `newframe = frame.copy()`\n",
      "  portfolio_cumulative_returns[n] = (1 + sim_df.fillna(0)).cumprod()\n",
      "C:\\Users\\Nia\\OneDrive\\Desktop\\UNCC Fintech Bootcamp\\Python\\Projects\\Project 1\\Bitcoin-Advisor-\\Project 1\\MCForecastTools.py:117: PerformanceWarning: DataFrame is highly fragmented.  This is usually the result of calling `frame.insert` many times, which has poor performance.  Consider joining all columns at once using pd.concat(axis=1) instead. To get a de-fragmented frame, use `newframe = frame.copy()`\n",
      "  portfolio_cumulative_returns[n] = (1 + sim_df.fillna(0)).cumprod()\n",
      "C:\\Users\\Nia\\OneDrive\\Desktop\\UNCC Fintech Bootcamp\\Python\\Projects\\Project 1\\Bitcoin-Advisor-\\Project 1\\MCForecastTools.py:117: PerformanceWarning: DataFrame is highly fragmented.  This is usually the result of calling `frame.insert` many times, which has poor performance.  Consider joining all columns at once using pd.concat(axis=1) instead. To get a de-fragmented frame, use `newframe = frame.copy()`\n",
      "  portfolio_cumulative_returns[n] = (1 + sim_df.fillna(0)).cumprod()\n",
      "C:\\Users\\Nia\\OneDrive\\Desktop\\UNCC Fintech Bootcamp\\Python\\Projects\\Project 1\\Bitcoin-Advisor-\\Project 1\\MCForecastTools.py:117: PerformanceWarning: DataFrame is highly fragmented.  This is usually the result of calling `frame.insert` many times, which has poor performance.  Consider joining all columns at once using pd.concat(axis=1) instead. To get a de-fragmented frame, use `newframe = frame.copy()`\n",
      "  portfolio_cumulative_returns[n] = (1 + sim_df.fillna(0)).cumprod()\n"
     ]
    },
    {
     "data": {
      "text/html": [
       "<div>\n",
       "<style scoped>\n",
       "    .dataframe tbody tr th:only-of-type {\n",
       "        vertical-align: middle;\n",
       "    }\n",
       "\n",
       "    .dataframe tbody tr th {\n",
       "        vertical-align: top;\n",
       "    }\n",
       "\n",
       "    .dataframe thead th {\n",
       "        text-align: right;\n",
       "    }\n",
       "</style>\n",
       "<table border=\"1\" class=\"dataframe\">\n",
       "  <thead>\n",
       "    <tr style=\"text-align: right;\">\n",
       "      <th></th>\n",
       "      <th>0</th>\n",
       "      <th>1</th>\n",
       "      <th>2</th>\n",
       "      <th>3</th>\n",
       "      <th>4</th>\n",
       "      <th>5</th>\n",
       "      <th>6</th>\n",
       "      <th>7</th>\n",
       "      <th>8</th>\n",
       "      <th>9</th>\n",
       "      <th>...</th>\n",
       "      <th>490</th>\n",
       "      <th>491</th>\n",
       "      <th>492</th>\n",
       "      <th>493</th>\n",
       "      <th>494</th>\n",
       "      <th>495</th>\n",
       "      <th>496</th>\n",
       "      <th>497</th>\n",
       "      <th>498</th>\n",
       "      <th>499</th>\n",
       "    </tr>\n",
       "  </thead>\n",
       "  <tbody>\n",
       "    <tr>\n",
       "      <th>0</th>\n",
       "      <td>1.000000</td>\n",
       "      <td>1.000000</td>\n",
       "      <td>1.000000</td>\n",
       "      <td>1.000000</td>\n",
       "      <td>1.000000</td>\n",
       "      <td>1.000000</td>\n",
       "      <td>1.000000</td>\n",
       "      <td>1.000000</td>\n",
       "      <td>1.000000</td>\n",
       "      <td>1.000000</td>\n",
       "      <td>...</td>\n",
       "      <td>1.000000</td>\n",
       "      <td>1.000000</td>\n",
       "      <td>1.000000</td>\n",
       "      <td>1.000000</td>\n",
       "      <td>1.000000</td>\n",
       "      <td>1.000000</td>\n",
       "      <td>1.000000</td>\n",
       "      <td>1.000000</td>\n",
       "      <td>1.000000</td>\n",
       "      <td>1.000000</td>\n",
       "    </tr>\n",
       "    <tr>\n",
       "      <th>1</th>\n",
       "      <td>0.975634</td>\n",
       "      <td>1.040989</td>\n",
       "      <td>1.048036</td>\n",
       "      <td>0.912449</td>\n",
       "      <td>1.018046</td>\n",
       "      <td>0.988097</td>\n",
       "      <td>1.041323</td>\n",
       "      <td>1.032004</td>\n",
       "      <td>1.000079</td>\n",
       "      <td>0.964502</td>\n",
       "      <td>...</td>\n",
       "      <td>1.008322</td>\n",
       "      <td>0.956640</td>\n",
       "      <td>0.956542</td>\n",
       "      <td>1.054888</td>\n",
       "      <td>0.970888</td>\n",
       "      <td>0.952926</td>\n",
       "      <td>0.989491</td>\n",
       "      <td>1.083776</td>\n",
       "      <td>0.991067</td>\n",
       "      <td>1.038511</td>\n",
       "    </tr>\n",
       "    <tr>\n",
       "      <th>2</th>\n",
       "      <td>0.988913</td>\n",
       "      <td>1.052275</td>\n",
       "      <td>0.997564</td>\n",
       "      <td>0.935164</td>\n",
       "      <td>1.041486</td>\n",
       "      <td>1.008930</td>\n",
       "      <td>0.983545</td>\n",
       "      <td>1.125660</td>\n",
       "      <td>0.972530</td>\n",
       "      <td>0.942881</td>\n",
       "      <td>...</td>\n",
       "      <td>1.069819</td>\n",
       "      <td>0.894823</td>\n",
       "      <td>0.958836</td>\n",
       "      <td>1.026134</td>\n",
       "      <td>1.043575</td>\n",
       "      <td>1.023017</td>\n",
       "      <td>0.999237</td>\n",
       "      <td>1.075932</td>\n",
       "      <td>0.965528</td>\n",
       "      <td>1.129863</td>\n",
       "    </tr>\n",
       "    <tr>\n",
       "      <th>3</th>\n",
       "      <td>1.002978</td>\n",
       "      <td>1.146840</td>\n",
       "      <td>0.975629</td>\n",
       "      <td>0.916386</td>\n",
       "      <td>1.053594</td>\n",
       "      <td>0.983991</td>\n",
       "      <td>1.001952</td>\n",
       "      <td>1.084779</td>\n",
       "      <td>0.947664</td>\n",
       "      <td>0.913808</td>\n",
       "      <td>...</td>\n",
       "      <td>1.050705</td>\n",
       "      <td>0.911133</td>\n",
       "      <td>0.933456</td>\n",
       "      <td>0.946085</td>\n",
       "      <td>1.071672</td>\n",
       "      <td>1.031724</td>\n",
       "      <td>1.043452</td>\n",
       "      <td>1.046289</td>\n",
       "      <td>1.002928</td>\n",
       "      <td>1.107576</td>\n",
       "    </tr>\n",
       "    <tr>\n",
       "      <th>4</th>\n",
       "      <td>0.988244</td>\n",
       "      <td>1.167247</td>\n",
       "      <td>0.942194</td>\n",
       "      <td>0.931168</td>\n",
       "      <td>1.052694</td>\n",
       "      <td>1.046174</td>\n",
       "      <td>0.999140</td>\n",
       "      <td>1.055436</td>\n",
       "      <td>0.914249</td>\n",
       "      <td>0.966949</td>\n",
       "      <td>...</td>\n",
       "      <td>1.022582</td>\n",
       "      <td>0.931948</td>\n",
       "      <td>0.985197</td>\n",
       "      <td>0.929187</td>\n",
       "      <td>1.091085</td>\n",
       "      <td>0.952620</td>\n",
       "      <td>1.059880</td>\n",
       "      <td>0.975732</td>\n",
       "      <td>0.984533</td>\n",
       "      <td>1.060156</td>\n",
       "    </tr>\n",
       "    <tr>\n",
       "      <th>...</th>\n",
       "      <td>...</td>\n",
       "      <td>...</td>\n",
       "      <td>...</td>\n",
       "      <td>...</td>\n",
       "      <td>...</td>\n",
       "      <td>...</td>\n",
       "      <td>...</td>\n",
       "      <td>...</td>\n",
       "      <td>...</td>\n",
       "      <td>...</td>\n",
       "      <td>...</td>\n",
       "      <td>...</td>\n",
       "      <td>...</td>\n",
       "      <td>...</td>\n",
       "      <td>...</td>\n",
       "      <td>...</td>\n",
       "      <td>...</td>\n",
       "      <td>...</td>\n",
       "      <td>...</td>\n",
       "      <td>...</td>\n",
       "      <td>...</td>\n",
       "    </tr>\n",
       "    <tr>\n",
       "      <th>2516</th>\n",
       "      <td>161.189813</td>\n",
       "      <td>4.003112</td>\n",
       "      <td>281.512071</td>\n",
       "      <td>24.292302</td>\n",
       "      <td>1190.736820</td>\n",
       "      <td>20.371626</td>\n",
       "      <td>17.931157</td>\n",
       "      <td>1.938000</td>\n",
       "      <td>36.393672</td>\n",
       "      <td>119.975896</td>\n",
       "      <td>...</td>\n",
       "      <td>399.406992</td>\n",
       "      <td>67.373613</td>\n",
       "      <td>52.492355</td>\n",
       "      <td>0.942667</td>\n",
       "      <td>35.164397</td>\n",
       "      <td>26.449126</td>\n",
       "      <td>84.928331</td>\n",
       "      <td>1.305899</td>\n",
       "      <td>235.057356</td>\n",
       "      <td>1.120306</td>\n",
       "    </tr>\n",
       "    <tr>\n",
       "      <th>2517</th>\n",
       "      <td>163.132720</td>\n",
       "      <td>4.167513</td>\n",
       "      <td>290.063055</td>\n",
       "      <td>24.499593</td>\n",
       "      <td>1178.075855</td>\n",
       "      <td>19.787485</td>\n",
       "      <td>18.009274</td>\n",
       "      <td>1.977092</td>\n",
       "      <td>35.194122</td>\n",
       "      <td>128.627109</td>\n",
       "      <td>...</td>\n",
       "      <td>410.324656</td>\n",
       "      <td>66.700778</td>\n",
       "      <td>52.236325</td>\n",
       "      <td>0.939845</td>\n",
       "      <td>33.726065</td>\n",
       "      <td>26.933997</td>\n",
       "      <td>82.129679</td>\n",
       "      <td>1.296937</td>\n",
       "      <td>241.653819</td>\n",
       "      <td>1.105707</td>\n",
       "    </tr>\n",
       "    <tr>\n",
       "      <th>2518</th>\n",
       "      <td>161.176783</td>\n",
       "      <td>4.492155</td>\n",
       "      <td>288.318152</td>\n",
       "      <td>24.988948</td>\n",
       "      <td>1128.941172</td>\n",
       "      <td>19.515776</td>\n",
       "      <td>17.411101</td>\n",
       "      <td>1.871867</td>\n",
       "      <td>35.337610</td>\n",
       "      <td>131.882278</td>\n",
       "      <td>...</td>\n",
       "      <td>422.385980</td>\n",
       "      <td>68.464775</td>\n",
       "      <td>55.104861</td>\n",
       "      <td>0.964416</td>\n",
       "      <td>32.310268</td>\n",
       "      <td>26.221290</td>\n",
       "      <td>75.651508</td>\n",
       "      <td>1.321041</td>\n",
       "      <td>237.890701</td>\n",
       "      <td>1.055936</td>\n",
       "    </tr>\n",
       "    <tr>\n",
       "      <th>2519</th>\n",
       "      <td>160.970070</td>\n",
       "      <td>4.546948</td>\n",
       "      <td>282.774582</td>\n",
       "      <td>24.556353</td>\n",
       "      <td>1095.740259</td>\n",
       "      <td>20.511181</td>\n",
       "      <td>17.160158</td>\n",
       "      <td>1.833682</td>\n",
       "      <td>34.137783</td>\n",
       "      <td>130.918203</td>\n",
       "      <td>...</td>\n",
       "      <td>456.074797</td>\n",
       "      <td>73.330100</td>\n",
       "      <td>57.547591</td>\n",
       "      <td>0.888063</td>\n",
       "      <td>30.745123</td>\n",
       "      <td>26.105754</td>\n",
       "      <td>70.889007</td>\n",
       "      <td>1.327825</td>\n",
       "      <td>232.085460</td>\n",
       "      <td>1.032276</td>\n",
       "    </tr>\n",
       "    <tr>\n",
       "      <th>2520</th>\n",
       "      <td>168.260581</td>\n",
       "      <td>4.334223</td>\n",
       "      <td>297.262729</td>\n",
       "      <td>24.591209</td>\n",
       "      <td>1051.552621</td>\n",
       "      <td>20.812880</td>\n",
       "      <td>17.474298</td>\n",
       "      <td>1.733039</td>\n",
       "      <td>36.618310</td>\n",
       "      <td>131.488584</td>\n",
       "      <td>...</td>\n",
       "      <td>434.818101</td>\n",
       "      <td>73.107479</td>\n",
       "      <td>55.309530</td>\n",
       "      <td>0.865602</td>\n",
       "      <td>31.170484</td>\n",
       "      <td>26.004559</td>\n",
       "      <td>68.703311</td>\n",
       "      <td>1.311495</td>\n",
       "      <td>253.051152</td>\n",
       "      <td>0.982506</td>\n",
       "    </tr>\n",
       "  </tbody>\n",
       "</table>\n",
       "<p>2521 rows × 500 columns</p>\n",
       "</div>"
      ],
      "text/plain": [
       "             0         1           2          3            4          5    \\\n",
       "0       1.000000  1.000000    1.000000   1.000000     1.000000   1.000000   \n",
       "1       0.975634  1.040989    1.048036   0.912449     1.018046   0.988097   \n",
       "2       0.988913  1.052275    0.997564   0.935164     1.041486   1.008930   \n",
       "3       1.002978  1.146840    0.975629   0.916386     1.053594   0.983991   \n",
       "4       0.988244  1.167247    0.942194   0.931168     1.052694   1.046174   \n",
       "...          ...       ...         ...        ...          ...        ...   \n",
       "2516  161.189813  4.003112  281.512071  24.292302  1190.736820  20.371626   \n",
       "2517  163.132720  4.167513  290.063055  24.499593  1178.075855  19.787485   \n",
       "2518  161.176783  4.492155  288.318152  24.988948  1128.941172  19.515776   \n",
       "2519  160.970070  4.546948  282.774582  24.556353  1095.740259  20.511181   \n",
       "2520  168.260581  4.334223  297.262729  24.591209  1051.552621  20.812880   \n",
       "\n",
       "            6         7          8           9    ...         490        491  \\\n",
       "0      1.000000  1.000000   1.000000    1.000000  ...    1.000000   1.000000   \n",
       "1      1.041323  1.032004   1.000079    0.964502  ...    1.008322   0.956640   \n",
       "2      0.983545  1.125660   0.972530    0.942881  ...    1.069819   0.894823   \n",
       "3      1.001952  1.084779   0.947664    0.913808  ...    1.050705   0.911133   \n",
       "4      0.999140  1.055436   0.914249    0.966949  ...    1.022582   0.931948   \n",
       "...         ...       ...        ...         ...  ...         ...        ...   \n",
       "2516  17.931157  1.938000  36.393672  119.975896  ...  399.406992  67.373613   \n",
       "2517  18.009274  1.977092  35.194122  128.627109  ...  410.324656  66.700778   \n",
       "2518  17.411101  1.871867  35.337610  131.882278  ...  422.385980  68.464775   \n",
       "2519  17.160158  1.833682  34.137783  130.918203  ...  456.074797  73.330100   \n",
       "2520  17.474298  1.733039  36.618310  131.488584  ...  434.818101  73.107479   \n",
       "\n",
       "            492       493        494        495        496       497  \\\n",
       "0      1.000000  1.000000   1.000000   1.000000   1.000000  1.000000   \n",
       "1      0.956542  1.054888   0.970888   0.952926   0.989491  1.083776   \n",
       "2      0.958836  1.026134   1.043575   1.023017   0.999237  1.075932   \n",
       "3      0.933456  0.946085   1.071672   1.031724   1.043452  1.046289   \n",
       "4      0.985197  0.929187   1.091085   0.952620   1.059880  0.975732   \n",
       "...         ...       ...        ...        ...        ...       ...   \n",
       "2516  52.492355  0.942667  35.164397  26.449126  84.928331  1.305899   \n",
       "2517  52.236325  0.939845  33.726065  26.933997  82.129679  1.296937   \n",
       "2518  55.104861  0.964416  32.310268  26.221290  75.651508  1.321041   \n",
       "2519  57.547591  0.888063  30.745123  26.105754  70.889007  1.327825   \n",
       "2520  55.309530  0.865602  31.170484  26.004559  68.703311  1.311495   \n",
       "\n",
       "             498       499  \n",
       "0       1.000000  1.000000  \n",
       "1       0.991067  1.038511  \n",
       "2       0.965528  1.129863  \n",
       "3       1.002928  1.107576  \n",
       "4       0.984533  1.060156  \n",
       "...          ...       ...  \n",
       "2516  235.057356  1.120306  \n",
       "2517  241.653819  1.105707  \n",
       "2518  237.890701  1.055936  \n",
       "2519  232.085460  1.032276  \n",
       "2520  253.051152  0.982506  \n",
       "\n",
       "[2521 rows x 500 columns]"
      ]
     },
     "execution_count": 149,
     "metadata": {},
     "output_type": "execute_result"
    }
   ],
   "source": [
    "MC_tenyear_aggressive.calc_cumulative_return()"
   ]
  },
  {
   "cell_type": "code",
   "execution_count": 150,
   "id": "9dea4125",
   "metadata": {},
   "outputs": [
    {
     "data": {
      "text/plain": [
       "<AxesSubplot:title={'center':'500 Simulations of Cumulative Portfolio Return Trajectories Over the Next 2520 Trading Days.'}>"
      ]
     },
     "execution_count": 150,
     "metadata": {},
     "output_type": "execute_result"
    },
    {
     "data": {
      "image/png": "[encoded data removed]",
      "text/plain": [
       "<Figure size 432x288 with 1 Axes>"
      ]
     },
     "metadata": {
      "needs_background": "light"
     },
     "output_type": "display_data"
    }
   ],
   "source": [
    "MC_tenyear_aggressive.plot_simulation()"
   ]
  },
  {
   "cell_type": "code",
   "execution_count": 151,
   "id": "7f15378f",
   "metadata": {},
   "outputs": [
    {
     "data": {
      "text/plain": [
       "<AxesSubplot:title={'center':'Distribution of Final Cumuluative Returns Across All 500 Simulations'}, ylabel='Frequency'>"
      ]
     },
     "execution_count": 151,
     "metadata": {},
     "output_type": "execute_result"
    },
    {
     "data": {
      "image/png": "[encoded data removed]",
      "text/plain": [
       "<Figure size 432x288 with 1 Axes>"
      ]
     },
     "metadata": {
      "needs_background": "light"
     },
     "output_type": "display_data"
    }
   ],
   "source": [
    "MC_tenyear_aggressive.plot_distribution()"
   ]
  },
  {
   "cell_type": "code",
   "execution_count": 152,
   "id": "3d446f2d",
   "metadata": {},
   "outputs": [
    {
     "name": "stdout",
     "output_type": "stream",
     "text": [
      "count             500.000000\n",
      "mean              138.320227\n",
      "std               730.195275\n",
      "min                 0.065560\n",
      "25%                 7.293170\n",
      "50%                23.358387\n",
      "75%                89.937169\n",
      "max             15358.639386\n",
      "95% CI Lower        0.627272\n",
      "95% CI Upper      903.678643\n",
      "Name: 2520, dtype: float64\n"
     ]
    },
    {
     "name": "stderr",
     "output_type": "stream",
     "text": [
      "C:\\Users\\Nia\\OneDrive\\Desktop\\UNCC Fintech Bootcamp\\Python\\Projects\\Project 1\\Bitcoin-Advisor-\\Project 1\\MCForecastTools.py:172: FutureWarning: The series.append method is deprecated and will be removed from pandas in a future version. Use pandas.concat instead.\n",
      "  return metrics.append(ci_series)\n"
     ]
    }
   ],
   "source": [
    "# Generate summary statistics from the 10-year Monte Carlo simulation results\n",
    "# Save the results as a variable\n",
    "MC_tenyear_statistics = MC_tenyear_aggressive.summarize_cumulative_return()\n",
    "\n",
    "\n",
    "# Review the 10-year Monte Carlo summary statistics\n",
    "print(MC_tenyear_statistics)"
   ]
  },
  {
   "cell_type": "code",
   "execution_count": 154,
   "id": "c95aefc3",
   "metadata": {},
   "outputs": [
    {
     "name": "stdout",
     "output_type": "stream",
     "text": [
      "There is a 95% chance that an initial investment of $10000 in the portfolio over the next 10 years will end within the range of $6272.72 and $9036786.43.\n"
     ]
    }
   ],
   "source": [
    "# Use the lower and upper `95%` confidence intervals to calculate the range of the possible outcomes for the current stock/bond portfolio\n",
    "ci_lower_ten_cumulative_return = round(MC_tenyear_statistics[8]*10000,2)\n",
    "ci_upper_ten_cumulative_return = round(MC_tenyear_statistics[9]*10000,2)\n",
    "\n",
    "# Print the result of your calculations\n",
    "print(f\"There is a 95% chance that an initial investment of\"\n",
    "      f\" $10000 in the portfolio\"\n",
    "      f\" over the next 10 years will end within the range of\"\n",
    "      f\" ${ci_lower_ten_cumulative_return} and ${ci_upper_ten_cumulative_return}.\")"
   ]
  },
  {
   "cell_type": "code",
   "execution_count": 155,
   "id": "87f0a445",
   "metadata": {},
   "outputs": [],
   "source": [
    "# Create a Pandas DataFrame called savings_df \n",
    "savings_df = pd.DataFrame(data=[btc_usd_wallet, spy_usd_wallet], columns=['Amount'], index=['Bitcoin', 'S&P 500 ETF'])"
   ]
  },
  {
   "cell_type": "code",
   "execution_count": 156,
   "id": "418006a1",
   "metadata": {},
   "outputs": [
    {
     "data": {
      "text/plain": [
       "<AxesSubplot:title={'center':'Total Value of Portfolio'}, ylabel='Amount'>"
      ]
     },
     "execution_count": 156,
     "metadata": {},
     "output_type": "execute_result"
    },
    {
     "data": {
      "image/png": "[encoded data removed]",
      "text/plain": [
       "<Figure size 360x360 with 1 Axes>"
      ]
     },
     "metadata": {},
     "output_type": "display_data"
    }
   ],
   "source": [
    "# Plot the total value of the member's portfolio (Bitcoin and S&P 500 ETF) in a pie chart\n",
    "savings_df.plot.pie(y='Amount',figsize=(5, 5),title=\"Total Value of Portfolio\")"
   ]
  },
  {
   "cell_type": "code",
   "execution_count": 157,
   "id": "4955845e",
   "metadata": {},
   "outputs": [
    {
     "data": {
      "text/plain": [
       "count     1097.000000\n",
       "mean     27701.332957\n",
       "std      18103.869806\n",
       "min       4970.788086\n",
       "25%       9648.717773\n",
       "50%      23656.207031\n",
       "75%      42892.957031\n",
       "max      67566.828125\n",
       "Name: Close, dtype: float64"
      ]
     },
     "execution_count": 157,
     "metadata": {},
     "output_type": "execute_result"
    }
   ],
   "source": [
    "# Generate the summary statistics for the Bitcoin DataFrame\n",
    "btc_price_df[\"Close\"].describe()"
   ]
  },
  {
   "cell_type": "code",
   "execution_count": 158,
   "id": "1805e8e5",
   "metadata": {},
   "outputs": [
    {
     "data": {
      "text/plain": [
       "count    755.000000\n",
       "mean     368.510396\n",
       "std       63.528338\n",
       "min      215.649414\n",
       "25%      310.500687\n",
       "50%      377.569031\n",
       "75%      427.157288\n",
       "max      474.182190\n",
       "Name: Close, dtype: float64"
      ]
     },
     "execution_count": 158,
     "metadata": {},
     "output_type": "execute_result"
    }
   ],
   "source": [
    "# Generate the summary statistics for the S&P500 ETF DataFrame\n",
    "spy_price_df[\"Close\"].describe()"
   ]
  },
  {
   "cell_type": "code",
   "execution_count": 159,
   "id": "91f395f5",
   "metadata": {},
   "outputs": [
    {
     "data": {
      "text/plain": [
       "<AxesSubplot:title={'center':'Bitcoin Prices over 3 years'}, xlabel='Date'>"
      ]
     },
     "execution_count": 159,
     "metadata": {},
     "output_type": "execute_result"
    },
    {
     "data": {
      "image/png": "[encoded data removed]",
      "text/plain": [
       "<Figure size 432x288 with 1 Axes>"
      ]
     },
     "metadata": {
      "needs_background": "light"
     },
     "output_type": "display_data"
    }
   ],
   "source": [
    "# Create a line plot for the Bitcoin DataFrame for the full length of time in the dataset \n",
    "btc_price_df['Close'].plot(figsize=(6,4), rot=45, color=\"blue\", title=\"Bitcoin Prices over 3 years\")"
   ]
  },
  {
   "cell_type": "code",
   "execution_count": 161,
   "id": "a85fcc5d",
   "metadata": {},
   "outputs": [
    {
     "data": {
      "text/plain": [
       "<AxesSubplot:title={'center':'S&P 500 ETF Prices over 3 Years'}, xlabel='Date'>"
      ]
     },
     "execution_count": 161,
     "metadata": {},
     "output_type": "execute_result"
    },
    {
     "data": {
      "image/png": "[encoded data removed]",
      "text/plain": [
       "<Figure size 432x288 with 1 Axes>"
      ]
     },
     "metadata": {
      "needs_background": "light"
     },
     "output_type": "display_data"
    }
   ],
   "source": [
    "# Create a line plot for the S&P500 ETF DataFrame for the full length of time in the dataset \n",
    "spy_price_df['Close'].plot(figsize=(6,4), rot=45, color=\"orange\", title=\"S&P 500 ETF Prices over 3 Years\")"
   ]
  },
  {
   "cell_type": "code",
   "execution_count": 162,
   "id": "d0f86512",
   "metadata": {},
   "outputs": [
    {
     "data": {
      "text/plain": [
       "<AxesSubplot:title={'center':'Bitcoin v. S&P500 ETF over 3 Years'}, xlabel='Date'>"
      ]
     },
     "execution_count": 162,
     "metadata": {},
     "output_type": "execute_result"
    },
    {
     "data": {
      "image/png": "[encoded data removed]",
      "text/plain": [
       "<Figure size 1080x720 with 1 Axes>"
      ]
     },
     "metadata": {
      "needs_background": "light"
     },
     "output_type": "display_data"
    }
   ],
   "source": [
    "# Overlay the visualizations for the Bitcoin and S&P500 ETF DataFrames in one plot\n",
    "btc_price_df['Close'].plot(figsize=(15,10), rot=45, color=\"blue\", title=\"Bitcoin v. S&P 500 ETF over 3 Years\", legend=\"true\", label=\"Bitcoin\")\n",
    "spy_price_df['Close'].plot(figsize=(15,10), rot=45, color=\"orange\", legend=\"true\", label=\"S&P500 ETF\")"
   ]
  },
  {
   "cell_type": "code",
   "execution_count": null,
   "id": "5cdd7b9b",
   "metadata": {},
   "outputs": [],
   "source": []
  },
  {
   "cell_type": "code",
   "execution_count": null,
   "id": "fa2da4fe",
   "metadata": {},
   "outputs": [],
   "source": []
  },
  {
   "cell_type": "code",
   "execution_count": null,
   "id": "35ac9bcf",
   "metadata": {},
   "outputs": [],
   "source": []
  }
 ],
 "metadata": {
  "kernelspec": {
   "display_name": "Python 3.8 (FinTech)",
   "language": "python",
   "name": "fintech"
  },
  "language_info": {
   "codemirror_mode": {
    "name": "ipython",
    "version": 3
   },
   "file_extension": ".py",
   "mimetype": "text/x-python",
   "name": "python",
   "nbconvert_exporter": "python",
   "pygments_lexer": "ipython3",
   "version": "3.8.13"
  }
 },
 "nbformat": 4,
 "nbformat_minor": 5
}
